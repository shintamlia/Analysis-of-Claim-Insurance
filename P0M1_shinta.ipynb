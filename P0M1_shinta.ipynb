{
 "cells": [
  {
   "cell_type": "markdown",
   "metadata": {},
   "source": [
    "# Introduction"
   ]
  },
  {
   "cell_type": "markdown",
   "metadata": {},
   "source": [
    "## Milestones 1\n",
    "\n",
    "Nama    : Shinta Amalia\n",
    "\n",
    "Batch   : RMT-034\n",
    "\n",
    "Secara objective program ini dibuat untuk menganalisis data dengan melakukan `data preparation` beserta `data cleaning` jika diperlukan yang selanjutnya akan diolah secara `statistik` sesuai dengan problem pada `business knowedlege` agar menghasilkan informasi yang dibutuhkan. "
   ]
  },
  {
   "cell_type": "markdown",
   "metadata": {},
   "source": [
    "## URL \n",
    "\n",
    "Dashboard \n",
    "https://public.tableau.com/views/P0M1_shinta/Dashboard1?:language=en-US&publish=yes&:sid=&:redirect=auth&:display_count=n&:origin=viz_share_link\n",
    "\n",
    "Kaggle\n",
    "https://www.kaggle.com/datasets/rishikumarrajvansh/insurance-claims-data"
   ]
  },
  {
   "cell_type": "markdown",
   "metadata": {},
   "source": [
    "# Problem Indentification"
   ]
  },
  {
   "cell_type": "markdown",
   "metadata": {},
   "source": [
    "## Case Study - Claim Insurance"
   ]
  },
  {
   "cell_type": "markdown",
   "metadata": {},
   "source": [
    "Saya merupakan data analyst di salah satu perusahaan asuransi yang berada di US. Dalam waktu 2 tahun yaitu 2017 s/d 2018 saya telah memperhatikan jumlah klaim asuransi yang dilakukan oleh pelanggan atau customer. Tujuan saya ingin memahami faktor-faktor yang mempengaruhi jumlah klaim tersebut sehingga dapat membantu perusahaan untuk menentukan strategi yang optimal yang akan meningkatkan profit."
   ]
  },
  {
   "cell_type": "markdown",
   "metadata": {},
   "source": [
    "## Business Understanding"
   ]
  },
  {
   "cell_type": "markdown",
   "metadata": {},
   "source": [
    "### Business Matrix "
   ]
  },
  {
   "cell_type": "markdown",
   "metadata": {},
   "source": [
    "Business matrix pada kasus ini yaitu jumlah klaim asuransi (claim_amount)"
   ]
  },
  {
   "cell_type": "markdown",
   "metadata": {},
   "source": [
    "### Mengindentifikasikan Problem Statements:\n",
    "\n",
    "Dengan SMART framework:\n",
    "1. Spesific: Mengidentifikasi faktor-faktor yang mempengaruhi jumlah klaim asuransi pada periode 2017-2018 sebagai bahan evaluasi yang akan digunakan untuk strategi perusahaan pada quartal berikutnya. \n",
    "2. Measurable: Menganalisis faktor-faktor utama yang berkontribusi terhadap jumlah klaim asuransi sehingga terdapat peningkatan pelanggan asuransi dengan strategi yang lebih tepat sasaran sebesar 15% dari quartal sebelumnya.\n",
    "3. Achievable: Menggunakan teknik analisis data yang tepat yaitu statistik deksriptif dan inferensial untuk mengidentifikasi variabel-variabel utama yang mempengaruhi klaim asuransi.\n",
    "4. Relevant: Memahami faktor-faktor tersebut akan memberikan wawasan penting kepada perusahaan untuk menentukan strategi perusahaan yang optimal sehingga akan meningkatkan profit.\n",
    "5. Time-bound: Hasil identifikasi faktor-faktor yang mempengaruhi jumlah klaim asuransi pada periode 2017-2018 akan menjadi bahan rekomendasi untuk quartal selanjutnya. \n",
    "\n",
    "Problem Statement:\n",
    "\n",
    "Untuk mengidentifkasi faktor-faktor yang mempengaruhi jumlah klaim asuransi yang dilakukan oleh pelanggan selama periode 2017-2018 guna menentukan strategi perusahaan yang optimal sehingga akan terjadi peningkatan sebesar 15% dalam penjualannya dan tentunya meningkatkan profit perusahaan akan dicapai dengan melakukan teknik analisis data yang tepat yaitu statistik deksriptif dan inferensial untuk mengidentifikasi variabel-variabel utama yang mempengaruhi klaim asuransi. "
   ]
  },
  {
   "cell_type": "markdown",
   "metadata": {},
   "source": [
    "### Penjabaran Masalah\n",
    "\n",
    "Masalah utama: Mengidentifikasi faktor-faktor yang mempengaruhi jumlah klaim asuransi pada periode 2017-2018 sehingga terdapat peningkatan penawaran asuransi dengan strategi yang lebih tepat sasaran.\n",
    "\n",
    "#### 5W+1H \n",
    "1. Berapa nilai minimum, maximum, rata-rata, median, modus dari jumlah klaim yang diajukan?\n",
    "2. Pada bulan apa rata-rata klaim asuransi tertinggi dan terendah?\n",
    "3. Apa saja variabel-variabel yang yang mempengaruhi jumlah klaim asuransi pada periode 2017-2018? \n",
    "4. Berdasarkan kriteria berikut dibawah ini, siapa saja yang paling banyak melakukan klaim asuransi di dalam kelompoknya?\n",
    "   - Jenis kelamin dan kategori umur \n",
    "   - Kota\n",
    "   - Wilayah \n",
    "   - Ada atau tidaknya tindakan kecurangan\n",
    "5. Bagaimana perbedaan jumlah klaim asuransi pada tipe pelanggan dilihat dari jenis kelaminnya?\n",
    "\n",
    "\n",
    "\n",
    "\n"
   ]
  },
  {
   "cell_type": "markdown",
   "metadata": {},
   "source": [
    "# Libraries 1"
   ]
  },
  {
   "cell_type": "code",
   "execution_count": 2,
   "metadata": {},
   "outputs": [
    {
     "name": "stderr",
     "output_type": "stream",
     "text": [
      "C:\\Users\\LENOVO\\AppData\\Local\\Temp\\ipykernel_12004\\1905803957.py:5: DeprecationWarning: Importing display from IPython.core.display is deprecated since IPython 7.14, please import from IPython display\n",
      "  from IPython.core.display import display, HTML\n"
     ]
    }
   ],
   "source": [
    "import pandas as pd\n",
    "from scipy import stats\n",
    "import matplotlib.pyplot as plt\n",
    "import seaborn as sns\n",
    "from IPython.core.display import display, HTML"
   ]
  },
  {
   "cell_type": "markdown",
   "metadata": {},
   "source": [
    "Libraries berhasil di import"
   ]
  },
  {
   "cell_type": "markdown",
   "metadata": {},
   "source": [
    "# Data Loading"
   ]
  },
  {
   "cell_type": "code",
   "execution_count": 3,
   "metadata": {},
   "outputs": [],
   "source": [
    "# Memanggil file csv \n",
    "claim_insurance = pd.read_csv('claims.csv')\n",
    "cust_data = pd.read_csv('cust.csv')"
   ]
  },
  {
   "cell_type": "code",
   "execution_count": 4,
   "metadata": {},
   "outputs": [
    {
     "data": {
      "text/html": [
       "<center><b><h3>Claim Insurance</h3></b></center><br>"
      ],
      "text/plain": [
       "<IPython.core.display.HTML object>"
      ]
     },
     "metadata": {},
     "output_type": "display_data"
    },
    {
     "data": {
      "text/html": [
       "<div>\n",
       "<style scoped>\n",
       "    .dataframe tbody tr th:only-of-type {\n",
       "        vertical-align: middle;\n",
       "    }\n",
       "\n",
       "    .dataframe tbody tr th {\n",
       "        vertical-align: top;\n",
       "    }\n",
       "\n",
       "    .dataframe thead th {\n",
       "        text-align: right;\n",
       "    }\n",
       "</style>\n",
       "<table border=\"1\" class=\"dataframe\">\n",
       "  <thead>\n",
       "    <tr style=\"text-align: right;\">\n",
       "      <th></th>\n",
       "      <th>claim_id</th>\n",
       "      <th>customer_id</th>\n",
       "      <th>incident_cause</th>\n",
       "      <th>claim_date</th>\n",
       "      <th>claim_area</th>\n",
       "      <th>police_report</th>\n",
       "      <th>claim_type</th>\n",
       "      <th>claim_amount</th>\n",
       "      <th>total_policy_claims</th>\n",
       "      <th>fraudulent</th>\n",
       "    </tr>\n",
       "  </thead>\n",
       "  <tbody>\n",
       "    <tr>\n",
       "      <th>0</th>\n",
       "      <td>54004764</td>\n",
       "      <td>21868593</td>\n",
       "      <td>Driver error</td>\n",
       "      <td>11/27/2017</td>\n",
       "      <td>Auto</td>\n",
       "      <td>No</td>\n",
       "      <td>Material only</td>\n",
       "      <td>$2,980</td>\n",
       "      <td>1.0</td>\n",
       "      <td>No</td>\n",
       "    </tr>\n",
       "    <tr>\n",
       "      <th>1</th>\n",
       "      <td>33985796</td>\n",
       "      <td>75740424</td>\n",
       "      <td>Crime</td>\n",
       "      <td>10/3/2018</td>\n",
       "      <td>Home</td>\n",
       "      <td>Unknown</td>\n",
       "      <td>Material only</td>\n",
       "      <td>$2,980</td>\n",
       "      <td>3.0</td>\n",
       "      <td>No</td>\n",
       "    </tr>\n",
       "    <tr>\n",
       "      <th>2</th>\n",
       "      <td>53522022</td>\n",
       "      <td>30308357</td>\n",
       "      <td>Other driver error</td>\n",
       "      <td>2/2/2018</td>\n",
       "      <td>Auto</td>\n",
       "      <td>No</td>\n",
       "      <td>Material only</td>\n",
       "      <td>$3,369.50</td>\n",
       "      <td>1.0</td>\n",
       "      <td>Yes</td>\n",
       "    </tr>\n",
       "    <tr>\n",
       "      <th>3</th>\n",
       "      <td>13015401</td>\n",
       "      <td>47830476</td>\n",
       "      <td>Natural causes</td>\n",
       "      <td>6/17/2018</td>\n",
       "      <td>Auto</td>\n",
       "      <td>No</td>\n",
       "      <td>Material only</td>\n",
       "      <td>$1,680</td>\n",
       "      <td>1.0</td>\n",
       "      <td>No</td>\n",
       "    </tr>\n",
       "    <tr>\n",
       "      <th>4</th>\n",
       "      <td>22890252</td>\n",
       "      <td>19269962</td>\n",
       "      <td>Crime</td>\n",
       "      <td>1/13/2018</td>\n",
       "      <td>Auto</td>\n",
       "      <td>No</td>\n",
       "      <td>Material only</td>\n",
       "      <td>$2,680</td>\n",
       "      <td>1.0</td>\n",
       "      <td>No</td>\n",
       "    </tr>\n",
       "    <tr>\n",
       "      <th>...</th>\n",
       "      <td>...</td>\n",
       "      <td>...</td>\n",
       "      <td>...</td>\n",
       "      <td>...</td>\n",
       "      <td>...</td>\n",
       "      <td>...</td>\n",
       "      <td>...</td>\n",
       "      <td>...</td>\n",
       "      <td>...</td>\n",
       "      <td>...</td>\n",
       "    </tr>\n",
       "    <tr>\n",
       "      <th>1095</th>\n",
       "      <td>97727122</td>\n",
       "      <td>35951012</td>\n",
       "      <td>Other driver error</td>\n",
       "      <td>6/11/2017</td>\n",
       "      <td>Auto</td>\n",
       "      <td>No</td>\n",
       "      <td>Material only</td>\n",
       "      <td>$3,059</td>\n",
       "      <td>4.0</td>\n",
       "      <td>Yes</td>\n",
       "    </tr>\n",
       "    <tr>\n",
       "      <th>1096</th>\n",
       "      <td>10247193</td>\n",
       "      <td>14818669</td>\n",
       "      <td>Natural causes</td>\n",
       "      <td>3/14/2018</td>\n",
       "      <td>Auto</td>\n",
       "      <td>No</td>\n",
       "      <td>Material only</td>\n",
       "      <td>$1,520</td>\n",
       "      <td>2.0</td>\n",
       "      <td>No</td>\n",
       "    </tr>\n",
       "    <tr>\n",
       "      <th>1097</th>\n",
       "      <td>79807493</td>\n",
       "      <td>85322831</td>\n",
       "      <td>Other driver error</td>\n",
       "      <td>2/9/2018</td>\n",
       "      <td>Auto</td>\n",
       "      <td>No</td>\n",
       "      <td>Material and injury</td>\n",
       "      <td>$23,575</td>\n",
       "      <td>2.0</td>\n",
       "      <td>Yes</td>\n",
       "    </tr>\n",
       "    <tr>\n",
       "      <th>1098</th>\n",
       "      <td>69299345</td>\n",
       "      <td>73449366</td>\n",
       "      <td>Other causes</td>\n",
       "      <td>3/21/2018</td>\n",
       "      <td>Auto</td>\n",
       "      <td>Unknown</td>\n",
       "      <td>Material and injury</td>\n",
       "      <td>$25,120</td>\n",
       "      <td>1.0</td>\n",
       "      <td>No</td>\n",
       "    </tr>\n",
       "    <tr>\n",
       "      <th>1099</th>\n",
       "      <td>58809728</td>\n",
       "      <td>43020876</td>\n",
       "      <td>Other driver error</td>\n",
       "      <td>6/4/2017</td>\n",
       "      <td>Auto</td>\n",
       "      <td>Yes</td>\n",
       "      <td>Material and injury</td>\n",
       "      <td>$36,685</td>\n",
       "      <td>3.0</td>\n",
       "      <td>Yes</td>\n",
       "    </tr>\n",
       "  </tbody>\n",
       "</table>\n",
       "<p>1100 rows × 10 columns</p>\n",
       "</div>"
      ],
      "text/plain": [
       "      claim_id  customer_id      incident_cause  claim_date claim_area  \\\n",
       "0     54004764     21868593        Driver error  11/27/2017       Auto   \n",
       "1     33985796     75740424               Crime   10/3/2018       Home   \n",
       "2     53522022     30308357  Other driver error    2/2/2018       Auto   \n",
       "3     13015401     47830476      Natural causes   6/17/2018       Auto   \n",
       "4     22890252     19269962               Crime   1/13/2018       Auto   \n",
       "...        ...          ...                 ...         ...        ...   \n",
       "1095  97727122     35951012  Other driver error   6/11/2017       Auto   \n",
       "1096  10247193     14818669      Natural causes   3/14/2018       Auto   \n",
       "1097  79807493     85322831  Other driver error    2/9/2018       Auto   \n",
       "1098  69299345     73449366        Other causes   3/21/2018       Auto   \n",
       "1099  58809728     43020876  Other driver error    6/4/2017       Auto   \n",
       "\n",
       "     police_report           claim_type claim_amount  total_policy_claims  \\\n",
       "0               No        Material only      $2,980                   1.0   \n",
       "1          Unknown        Material only      $2,980                   3.0   \n",
       "2               No        Material only   $3,369.50                   1.0   \n",
       "3               No        Material only      $1,680                   1.0   \n",
       "4               No        Material only      $2,680                   1.0   \n",
       "...            ...                  ...          ...                  ...   \n",
       "1095            No        Material only      $3,059                   4.0   \n",
       "1096            No        Material only      $1,520                   2.0   \n",
       "1097            No  Material and injury     $23,575                   2.0   \n",
       "1098       Unknown  Material and injury     $25,120                   1.0   \n",
       "1099           Yes  Material and injury     $36,685                   3.0   \n",
       "\n",
       "     fraudulent  \n",
       "0            No  \n",
       "1            No  \n",
       "2           Yes  \n",
       "3            No  \n",
       "4            No  \n",
       "...         ...  \n",
       "1095        Yes  \n",
       "1096         No  \n",
       "1097        Yes  \n",
       "1098         No  \n",
       "1099        Yes  \n",
       "\n",
       "[1100 rows x 10 columns]"
      ]
     },
     "metadata": {},
     "output_type": "display_data"
    },
    {
     "name": "stdout",
     "output_type": "stream",
     "text": [
      "\n",
      "\n"
     ]
    },
    {
     "data": {
      "text/html": [
       "<center><b><h3>Cust Demographics</h3></b></center><br>"
      ],
      "text/plain": [
       "<IPython.core.display.HTML object>"
      ]
     },
     "metadata": {},
     "output_type": "display_data"
    },
    {
     "data": {
      "text/html": [
       "<div>\n",
       "<style scoped>\n",
       "    .dataframe tbody tr th:only-of-type {\n",
       "        vertical-align: middle;\n",
       "    }\n",
       "\n",
       "    .dataframe tbody tr th {\n",
       "        vertical-align: top;\n",
       "    }\n",
       "\n",
       "    .dataframe thead th {\n",
       "        text-align: right;\n",
       "    }\n",
       "</style>\n",
       "<table border=\"1\" class=\"dataframe\">\n",
       "  <thead>\n",
       "    <tr style=\"text-align: right;\">\n",
       "      <th></th>\n",
       "      <th>CUST_ID</th>\n",
       "      <th>gender</th>\n",
       "      <th>DateOfBirth</th>\n",
       "      <th>State</th>\n",
       "      <th>Contact</th>\n",
       "      <th>Segment</th>\n",
       "    </tr>\n",
       "  </thead>\n",
       "  <tbody>\n",
       "    <tr>\n",
       "      <th>0</th>\n",
       "      <td>21868593</td>\n",
       "      <td>Female</td>\n",
       "      <td>1/12/1979</td>\n",
       "      <td>VT</td>\n",
       "      <td>789-916-8172</td>\n",
       "      <td>Platinum</td>\n",
       "    </tr>\n",
       "    <tr>\n",
       "      <th>1</th>\n",
       "      <td>75740424</td>\n",
       "      <td>Female</td>\n",
       "      <td>1/13/1970</td>\n",
       "      <td>ME</td>\n",
       "      <td>265-543-1264</td>\n",
       "      <td>Silver</td>\n",
       "    </tr>\n",
       "    <tr>\n",
       "      <th>2</th>\n",
       "      <td>30308357</td>\n",
       "      <td>Female</td>\n",
       "      <td>3/11/1984</td>\n",
       "      <td>TN</td>\n",
       "      <td>798-631-4758</td>\n",
       "      <td>Silver</td>\n",
       "    </tr>\n",
       "    <tr>\n",
       "      <th>3</th>\n",
       "      <td>47830476</td>\n",
       "      <td>Female</td>\n",
       "      <td>5/1/1986</td>\n",
       "      <td>MA</td>\n",
       "      <td>413-187-7945</td>\n",
       "      <td>Silver</td>\n",
       "    </tr>\n",
       "    <tr>\n",
       "      <th>4</th>\n",
       "      <td>19269962</td>\n",
       "      <td>Male</td>\n",
       "      <td>5/13/1977</td>\n",
       "      <td>NV</td>\n",
       "      <td>956-871-8691</td>\n",
       "      <td>Gold</td>\n",
       "    </tr>\n",
       "    <tr>\n",
       "      <th>...</th>\n",
       "      <td>...</td>\n",
       "      <td>...</td>\n",
       "      <td>...</td>\n",
       "      <td>...</td>\n",
       "      <td>...</td>\n",
       "      <td>...</td>\n",
       "    </tr>\n",
       "    <tr>\n",
       "      <th>1080</th>\n",
       "      <td>79539873</td>\n",
       "      <td>Female</td>\n",
       "      <td>3/15/1981</td>\n",
       "      <td>ND</td>\n",
       "      <td>459-425-4319</td>\n",
       "      <td>Platinum</td>\n",
       "    </tr>\n",
       "    <tr>\n",
       "      <th>1081</th>\n",
       "      <td>42364152</td>\n",
       "      <td>Female</td>\n",
       "      <td>7/7/1996</td>\n",
       "      <td>ID</td>\n",
       "      <td>529-462-1635</td>\n",
       "      <td>Silver</td>\n",
       "    </tr>\n",
       "    <tr>\n",
       "      <th>1082</th>\n",
       "      <td>19888166</td>\n",
       "      <td>Male</td>\n",
       "      <td>4/11/1990</td>\n",
       "      <td>WI</td>\n",
       "      <td>712-651-9613</td>\n",
       "      <td>Gold</td>\n",
       "    </tr>\n",
       "    <tr>\n",
       "      <th>1083</th>\n",
       "      <td>11256802</td>\n",
       "      <td>Female</td>\n",
       "      <td>10/22/1964</td>\n",
       "      <td>LA</td>\n",
       "      <td>469-345-5617</td>\n",
       "      <td>Silver</td>\n",
       "    </tr>\n",
       "    <tr>\n",
       "      <th>1084</th>\n",
       "      <td>61575264</td>\n",
       "      <td>Male</td>\n",
       "      <td>7/12/1995</td>\n",
       "      <td>WY</td>\n",
       "      <td>182-385-1392</td>\n",
       "      <td>Gold</td>\n",
       "    </tr>\n",
       "  </tbody>\n",
       "</table>\n",
       "<p>1085 rows × 6 columns</p>\n",
       "</div>"
      ],
      "text/plain": [
       "       CUST_ID  gender DateOfBirth State       Contact   Segment\n",
       "0     21868593  Female   1/12/1979    VT  789-916-8172  Platinum\n",
       "1     75740424  Female   1/13/1970    ME  265-543-1264    Silver\n",
       "2     30308357  Female   3/11/1984    TN  798-631-4758    Silver\n",
       "3     47830476  Female    5/1/1986    MA  413-187-7945    Silver\n",
       "4     19269962    Male   5/13/1977    NV  956-871-8691      Gold\n",
       "...        ...     ...         ...   ...           ...       ...\n",
       "1080  79539873  Female   3/15/1981    ND  459-425-4319  Platinum\n",
       "1081  42364152  Female    7/7/1996    ID  529-462-1635    Silver\n",
       "1082  19888166    Male   4/11/1990    WI  712-651-9613      Gold\n",
       "1083  11256802  Female  10/22/1964    LA  469-345-5617    Silver\n",
       "1084  61575264    Male   7/12/1995    WY  182-385-1392      Gold\n",
       "\n",
       "[1085 rows x 6 columns]"
      ]
     },
     "metadata": {},
     "output_type": "display_data"
    }
   ],
   "source": [
    "# Mengatur Format Display menjadi HTML\n",
    "display(HTML('<center><b><h3>Claim Insurance</h3></b></center><br>'))\n",
    "display(claim_insurance)\n",
    "print('\\n')\n",
    "display(HTML('<center><b><h3>Cust Demographics</h3></b></center><br>'))\n",
    "display(cust_data)"
   ]
  },
  {
   "cell_type": "markdown",
   "metadata": {},
   "source": [
    "Perubahan csv menjadi HTML berhasil dijalankan."
   ]
  },
  {
   "cell_type": "markdown",
   "metadata": {},
   "source": [
    "Penjelasan dari masing-masing tabel yaitu: \n",
    "1. Tabel `Claim Insurance` merupakan cacatan klaim asuransi yang dimiliki oleh perusahaan pada tau 2017-2018. Tabel tersebut terdiri dari 10 kolom yang masing-masingnya terdiri dari 1100 baris. Berikut penjelasan masing-masing kolom:\n",
    "   - claim_id = nomor indentifikasi unik dari claim yang diajukan (data tidak boleh ada yang sama) dan berperan sebagai primary key\n",
    "   - customer_id = nomor kepemilikan asuransi yang dimiliki per-individu dan \n",
    "   - incident_cause = penyebab kecelakaan \n",
    "   - claim_date = tanggal klaim diajukan\n",
    "   - claim_area = apakah masuk kedalam kategori kendaraan bermotor atau berhubungan dengan properti tempat tinggal\n",
    "   - police_report = apakah kejadian kecelakaan dilaporkan ke polisi atau tidak \n",
    "   - claim_type = tipe klaim yang diajukan \n",
    "   - claim_amount = besarnya klaim yang diajukan \n",
    "   - total_policy_claims = banyaknya klaim polis yang diajukan\n",
    "   - fraudulent = apakah teridentifikasi adanya kecurangan atau kepalsuan data \n",
    "2. Tabel `Cust Demographics` merupakan data pelanggan asuransi. Tabel tersebur terdiri dari 6 kolom yang masing-masingnya terdiri dari 1085 baris. Berikut penjelasan masing-masing kolom:\n",
    "   - CUST_ID = nomor kepemilikan asuransi yang dimiliki per-individu dan berperan sebagai primary key \n",
    "   - gender = jenis kelamin pemilik asuransi \n",
    "   - DateOfBirth = tanggal lahir pemilik asuransi \n",
    "   - State = negara tempat tiggal pemilik asuransi \n",
    "   - Contact = nomor telefon pemilik asuransi \n",
    "   - Segment = jenis asuransi yang dipilih \n",
    "\n",
    "Dari penjelasan tersebut, terdapat beberapa poin yaitu: \n",
    "- Diketahui bahwa kedua tabel tersebut terdapat satu kolom yang bisa dihubungkan yaitu customer_id dan cust_id. Pada tabel claim_insurance, claim_id berperan sebagai primary key sedangkan pada tabel cust demographics, cust_id berperan sebagai primary key yang mana akan berperan sekaligus bisa menjadi foreign key. Sesuai dengan tujuan analisa yang mana untuk perencanaan strategi perusahaan, maka penggabungan kedua data tersebut akan dilakukan.\n",
    "- Dengan baris yang berbeda yaitu 1100 dan 1085 baris (selisih 15 baris) maka terdapat beberapa kemungkinan yaitu customer melakukan klaim lebih dari satu kali atau terdapat customer id yang datanya belum ada dalam tabel cust demographic. Oleh sebab itu, diperlukan analisa lebih lanjut.\n"
   ]
  },
  {
   "cell_type": "markdown",
   "metadata": {},
   "source": [
    "# Data Preparation"
   ]
  },
  {
   "cell_type": "markdown",
   "metadata": {},
   "source": [
    "Data preparation dilakukan untuk mengecek data agar selanjutnya bisa dianalisa. Pada kasus ini, pengecekan tersebut yaitu:\n",
    "1. Data exploriation atau eksplorasi data yang digunakan untuk pembuatan data frame, menggabungkan dua tabel, cek missing value dan tipe datanya. \n",
    "2. Data cleaning atau pembersihan data yang digunakan untuk mengatasi jika adanya missing value dan ketidaksesuain tipe data. "
   ]
  },
  {
   "cell_type": "markdown",
   "metadata": {},
   "source": [
    "## Data Exploriation"
   ]
  },
  {
   "cell_type": "code",
   "execution_count": 5,
   "metadata": {},
   "outputs": [],
   "source": [
    "# Menyimpan variabel kedalam dataframe \n",
    "claim_df = pd.DataFrame(claim_insurance)\n",
    "cust_df = pd.DataFrame(cust_data)"
   ]
  },
  {
   "cell_type": "markdown",
   "metadata": {},
   "source": [
    "Karena terdapat dua file csv, maka masing-masing disimpan dalam data frame yang berbeda yaitu `claim_df` dan `cust_df`"
   ]
  },
  {
   "cell_type": "markdown",
   "metadata": {},
   "source": [
    "Karena tujuan analisa yaitu untuk mengetahui perencanaan strategi perusahaan dalam hal penjualan maka selanjutnya penggabungan data dilakukan dengan concat sehingga kedua tabel dapat disesuaikan berdasarkan kecocokan customer_id dengan CUST_id."
   ]
  },
  {
   "cell_type": "code",
   "execution_count": 6,
   "metadata": {},
   "outputs": [],
   "source": [
    "# Mereset index sebelu dilakukan penggabungan dengan concat \n",
    "claim_df.reset_index(inplace=True)\n",
    "cust_df.reset_index(inplace=True)\n",
    "\n",
    "# Menggabungkan dua dataframe\n",
    "df = pd.concat([claim_df, cust_df], axis=1)"
   ]
  },
  {
   "cell_type": "code",
   "execution_count": 7,
   "metadata": {},
   "outputs": [
    {
     "data": {
      "text/html": [
       "<div>\n",
       "<style scoped>\n",
       "    .dataframe tbody tr th:only-of-type {\n",
       "        vertical-align: middle;\n",
       "    }\n",
       "\n",
       "    .dataframe tbody tr th {\n",
       "        vertical-align: top;\n",
       "    }\n",
       "\n",
       "    .dataframe thead th {\n",
       "        text-align: right;\n",
       "    }\n",
       "</style>\n",
       "<table border=\"1\" class=\"dataframe\">\n",
       "  <thead>\n",
       "    <tr style=\"text-align: right;\">\n",
       "      <th></th>\n",
       "      <th>index</th>\n",
       "      <th>claim_id</th>\n",
       "      <th>customer_id</th>\n",
       "      <th>incident_cause</th>\n",
       "      <th>claim_date</th>\n",
       "      <th>claim_area</th>\n",
       "      <th>police_report</th>\n",
       "      <th>claim_type</th>\n",
       "      <th>claim_amount</th>\n",
       "      <th>total_policy_claims</th>\n",
       "      <th>fraudulent</th>\n",
       "      <th>index</th>\n",
       "      <th>CUST_ID</th>\n",
       "      <th>gender</th>\n",
       "      <th>DateOfBirth</th>\n",
       "      <th>State</th>\n",
       "      <th>Contact</th>\n",
       "      <th>Segment</th>\n",
       "    </tr>\n",
       "  </thead>\n",
       "  <tbody>\n",
       "    <tr>\n",
       "      <th>0</th>\n",
       "      <td>0</td>\n",
       "      <td>54004764</td>\n",
       "      <td>21868593</td>\n",
       "      <td>Driver error</td>\n",
       "      <td>11/27/2017</td>\n",
       "      <td>Auto</td>\n",
       "      <td>No</td>\n",
       "      <td>Material only</td>\n",
       "      <td>$2,980</td>\n",
       "      <td>1.0</td>\n",
       "      <td>No</td>\n",
       "      <td>0.0</td>\n",
       "      <td>21868593.0</td>\n",
       "      <td>Female</td>\n",
       "      <td>1/12/1979</td>\n",
       "      <td>VT</td>\n",
       "      <td>789-916-8172</td>\n",
       "      <td>Platinum</td>\n",
       "    </tr>\n",
       "    <tr>\n",
       "      <th>1</th>\n",
       "      <td>1</td>\n",
       "      <td>33985796</td>\n",
       "      <td>75740424</td>\n",
       "      <td>Crime</td>\n",
       "      <td>10/3/2018</td>\n",
       "      <td>Home</td>\n",
       "      <td>Unknown</td>\n",
       "      <td>Material only</td>\n",
       "      <td>$2,980</td>\n",
       "      <td>3.0</td>\n",
       "      <td>No</td>\n",
       "      <td>1.0</td>\n",
       "      <td>75740424.0</td>\n",
       "      <td>Female</td>\n",
       "      <td>1/13/1970</td>\n",
       "      <td>ME</td>\n",
       "      <td>265-543-1264</td>\n",
       "      <td>Silver</td>\n",
       "    </tr>\n",
       "    <tr>\n",
       "      <th>2</th>\n",
       "      <td>2</td>\n",
       "      <td>53522022</td>\n",
       "      <td>30308357</td>\n",
       "      <td>Other driver error</td>\n",
       "      <td>2/2/2018</td>\n",
       "      <td>Auto</td>\n",
       "      <td>No</td>\n",
       "      <td>Material only</td>\n",
       "      <td>$3,369.50</td>\n",
       "      <td>1.0</td>\n",
       "      <td>Yes</td>\n",
       "      <td>2.0</td>\n",
       "      <td>30308357.0</td>\n",
       "      <td>Female</td>\n",
       "      <td>3/11/1984</td>\n",
       "      <td>TN</td>\n",
       "      <td>798-631-4758</td>\n",
       "      <td>Silver</td>\n",
       "    </tr>\n",
       "    <tr>\n",
       "      <th>3</th>\n",
       "      <td>3</td>\n",
       "      <td>13015401</td>\n",
       "      <td>47830476</td>\n",
       "      <td>Natural causes</td>\n",
       "      <td>6/17/2018</td>\n",
       "      <td>Auto</td>\n",
       "      <td>No</td>\n",
       "      <td>Material only</td>\n",
       "      <td>$1,680</td>\n",
       "      <td>1.0</td>\n",
       "      <td>No</td>\n",
       "      <td>3.0</td>\n",
       "      <td>47830476.0</td>\n",
       "      <td>Female</td>\n",
       "      <td>5/1/1986</td>\n",
       "      <td>MA</td>\n",
       "      <td>413-187-7945</td>\n",
       "      <td>Silver</td>\n",
       "    </tr>\n",
       "    <tr>\n",
       "      <th>4</th>\n",
       "      <td>4</td>\n",
       "      <td>22890252</td>\n",
       "      <td>19269962</td>\n",
       "      <td>Crime</td>\n",
       "      <td>1/13/2018</td>\n",
       "      <td>Auto</td>\n",
       "      <td>No</td>\n",
       "      <td>Material only</td>\n",
       "      <td>$2,680</td>\n",
       "      <td>1.0</td>\n",
       "      <td>No</td>\n",
       "      <td>4.0</td>\n",
       "      <td>19269962.0</td>\n",
       "      <td>Male</td>\n",
       "      <td>5/13/1977</td>\n",
       "      <td>NV</td>\n",
       "      <td>956-871-8691</td>\n",
       "      <td>Gold</td>\n",
       "    </tr>\n",
       "    <tr>\n",
       "      <th>...</th>\n",
       "      <td>...</td>\n",
       "      <td>...</td>\n",
       "      <td>...</td>\n",
       "      <td>...</td>\n",
       "      <td>...</td>\n",
       "      <td>...</td>\n",
       "      <td>...</td>\n",
       "      <td>...</td>\n",
       "      <td>...</td>\n",
       "      <td>...</td>\n",
       "      <td>...</td>\n",
       "      <td>...</td>\n",
       "      <td>...</td>\n",
       "      <td>...</td>\n",
       "      <td>...</td>\n",
       "      <td>...</td>\n",
       "      <td>...</td>\n",
       "      <td>...</td>\n",
       "    </tr>\n",
       "    <tr>\n",
       "      <th>1095</th>\n",
       "      <td>1095</td>\n",
       "      <td>97727122</td>\n",
       "      <td>35951012</td>\n",
       "      <td>Other driver error</td>\n",
       "      <td>6/11/2017</td>\n",
       "      <td>Auto</td>\n",
       "      <td>No</td>\n",
       "      <td>Material only</td>\n",
       "      <td>$3,059</td>\n",
       "      <td>4.0</td>\n",
       "      <td>Yes</td>\n",
       "      <td>NaN</td>\n",
       "      <td>NaN</td>\n",
       "      <td>NaN</td>\n",
       "      <td>NaN</td>\n",
       "      <td>NaN</td>\n",
       "      <td>NaN</td>\n",
       "      <td>NaN</td>\n",
       "    </tr>\n",
       "    <tr>\n",
       "      <th>1096</th>\n",
       "      <td>1096</td>\n",
       "      <td>10247193</td>\n",
       "      <td>14818669</td>\n",
       "      <td>Natural causes</td>\n",
       "      <td>3/14/2018</td>\n",
       "      <td>Auto</td>\n",
       "      <td>No</td>\n",
       "      <td>Material only</td>\n",
       "      <td>$1,520</td>\n",
       "      <td>2.0</td>\n",
       "      <td>No</td>\n",
       "      <td>NaN</td>\n",
       "      <td>NaN</td>\n",
       "      <td>NaN</td>\n",
       "      <td>NaN</td>\n",
       "      <td>NaN</td>\n",
       "      <td>NaN</td>\n",
       "      <td>NaN</td>\n",
       "    </tr>\n",
       "    <tr>\n",
       "      <th>1097</th>\n",
       "      <td>1097</td>\n",
       "      <td>79807493</td>\n",
       "      <td>85322831</td>\n",
       "      <td>Other driver error</td>\n",
       "      <td>2/9/2018</td>\n",
       "      <td>Auto</td>\n",
       "      <td>No</td>\n",
       "      <td>Material and injury</td>\n",
       "      <td>$23,575</td>\n",
       "      <td>2.0</td>\n",
       "      <td>Yes</td>\n",
       "      <td>NaN</td>\n",
       "      <td>NaN</td>\n",
       "      <td>NaN</td>\n",
       "      <td>NaN</td>\n",
       "      <td>NaN</td>\n",
       "      <td>NaN</td>\n",
       "      <td>NaN</td>\n",
       "    </tr>\n",
       "    <tr>\n",
       "      <th>1098</th>\n",
       "      <td>1098</td>\n",
       "      <td>69299345</td>\n",
       "      <td>73449366</td>\n",
       "      <td>Other causes</td>\n",
       "      <td>3/21/2018</td>\n",
       "      <td>Auto</td>\n",
       "      <td>Unknown</td>\n",
       "      <td>Material and injury</td>\n",
       "      <td>$25,120</td>\n",
       "      <td>1.0</td>\n",
       "      <td>No</td>\n",
       "      <td>NaN</td>\n",
       "      <td>NaN</td>\n",
       "      <td>NaN</td>\n",
       "      <td>NaN</td>\n",
       "      <td>NaN</td>\n",
       "      <td>NaN</td>\n",
       "      <td>NaN</td>\n",
       "    </tr>\n",
       "    <tr>\n",
       "      <th>1099</th>\n",
       "      <td>1099</td>\n",
       "      <td>58809728</td>\n",
       "      <td>43020876</td>\n",
       "      <td>Other driver error</td>\n",
       "      <td>6/4/2017</td>\n",
       "      <td>Auto</td>\n",
       "      <td>Yes</td>\n",
       "      <td>Material and injury</td>\n",
       "      <td>$36,685</td>\n",
       "      <td>3.0</td>\n",
       "      <td>Yes</td>\n",
       "      <td>NaN</td>\n",
       "      <td>NaN</td>\n",
       "      <td>NaN</td>\n",
       "      <td>NaN</td>\n",
       "      <td>NaN</td>\n",
       "      <td>NaN</td>\n",
       "      <td>NaN</td>\n",
       "    </tr>\n",
       "  </tbody>\n",
       "</table>\n",
       "<p>1100 rows × 18 columns</p>\n",
       "</div>"
      ],
      "text/plain": [
       "      index  claim_id  customer_id      incident_cause  claim_date claim_area  \\\n",
       "0         0  54004764     21868593        Driver error  11/27/2017       Auto   \n",
       "1         1  33985796     75740424               Crime   10/3/2018       Home   \n",
       "2         2  53522022     30308357  Other driver error    2/2/2018       Auto   \n",
       "3         3  13015401     47830476      Natural causes   6/17/2018       Auto   \n",
       "4         4  22890252     19269962               Crime   1/13/2018       Auto   \n",
       "...     ...       ...          ...                 ...         ...        ...   \n",
       "1095   1095  97727122     35951012  Other driver error   6/11/2017       Auto   \n",
       "1096   1096  10247193     14818669      Natural causes   3/14/2018       Auto   \n",
       "1097   1097  79807493     85322831  Other driver error    2/9/2018       Auto   \n",
       "1098   1098  69299345     73449366        Other causes   3/21/2018       Auto   \n",
       "1099   1099  58809728     43020876  Other driver error    6/4/2017       Auto   \n",
       "\n",
       "     police_report           claim_type claim_amount  total_policy_claims  \\\n",
       "0               No        Material only      $2,980                   1.0   \n",
       "1          Unknown        Material only      $2,980                   3.0   \n",
       "2               No        Material only   $3,369.50                   1.0   \n",
       "3               No        Material only      $1,680                   1.0   \n",
       "4               No        Material only      $2,680                   1.0   \n",
       "...            ...                  ...          ...                  ...   \n",
       "1095            No        Material only      $3,059                   4.0   \n",
       "1096            No        Material only      $1,520                   2.0   \n",
       "1097            No  Material and injury     $23,575                   2.0   \n",
       "1098       Unknown  Material and injury     $25,120                   1.0   \n",
       "1099           Yes  Material and injury     $36,685                   3.0   \n",
       "\n",
       "     fraudulent  index     CUST_ID  gender DateOfBirth State       Contact  \\\n",
       "0            No    0.0  21868593.0  Female   1/12/1979    VT  789-916-8172   \n",
       "1            No    1.0  75740424.0  Female   1/13/1970    ME  265-543-1264   \n",
       "2           Yes    2.0  30308357.0  Female   3/11/1984    TN  798-631-4758   \n",
       "3            No    3.0  47830476.0  Female    5/1/1986    MA  413-187-7945   \n",
       "4            No    4.0  19269962.0    Male   5/13/1977    NV  956-871-8691   \n",
       "...         ...    ...         ...     ...         ...   ...           ...   \n",
       "1095        Yes    NaN         NaN     NaN         NaN   NaN           NaN   \n",
       "1096         No    NaN         NaN     NaN         NaN   NaN           NaN   \n",
       "1097        Yes    NaN         NaN     NaN         NaN   NaN           NaN   \n",
       "1098         No    NaN         NaN     NaN         NaN   NaN           NaN   \n",
       "1099        Yes    NaN         NaN     NaN         NaN   NaN           NaN   \n",
       "\n",
       "       Segment  \n",
       "0     Platinum  \n",
       "1       Silver  \n",
       "2       Silver  \n",
       "3       Silver  \n",
       "4         Gold  \n",
       "...        ...  \n",
       "1095       NaN  \n",
       "1096       NaN  \n",
       "1097       NaN  \n",
       "1098       NaN  \n",
       "1099       NaN  \n",
       "\n",
       "[1100 rows x 18 columns]"
      ]
     },
     "execution_count": 7,
     "metadata": {},
     "output_type": "execute_result"
    }
   ],
   "source": [
    "df"
   ]
  },
  {
   "cell_type": "markdown",
   "metadata": {},
   "source": [
    "Penggabungan data berhasil dilakukan dalam variabel `df` sehingga data terdiri dari 18 kolom dan 1100 baris. Namun, terdapat beberapa catatan yaitu:\n",
    "- Terdapat dua kolom  `index` yang mengganggu dan tidak akan digunakan. \n",
    "- Terdapat dua kolom dengan nilai sama yaitu `customer_id` dan `cust_id` sehingga satu kolom saja harusnya sudah mewakili.\n",
    "- Dapat dilihat bahwa terdapat data `customer_id` yang tidak cocok dengan `cust_id` sehingga diperoleh NaN pada kolom cust_id, gender, dateofbirth, state, concact, dan segmen. "
   ]
  },
  {
   "cell_type": "markdown",
   "metadata": {},
   "source": [
    "Maka sesuai poin 1 dan 2, akan dilakukan penghapusan kedua kolom index dan cust_id"
   ]
  },
  {
   "cell_type": "code",
   "execution_count": 8,
   "metadata": {},
   "outputs": [
    {
     "data": {
      "text/plain": [
       "Index(['claim_id', 'customer_id', 'incident_cause', 'claim_date', 'claim_area',\n",
       "       'police_report', 'claim_type', 'claim_amount', 'total_policy_claims',\n",
       "       'fraudulent', 'gender', 'DateOfBirth', 'State', 'Contact', 'Segment'],\n",
       "      dtype='object')"
      ]
     },
     "execution_count": 8,
     "metadata": {},
     "output_type": "execute_result"
    }
   ],
   "source": [
    "# drop cust_id dan index\n",
    "\n",
    "df = df.drop('CUST_ID', axis=1)\n",
    "df = df.drop('index', axis=1)\n",
    "df.columns"
   ]
  },
  {
   "cell_type": "markdown",
   "metadata": {},
   "source": [
    "kolom `index` dan `cust_id` berhasil dihapus."
   ]
  },
  {
   "cell_type": "code",
   "execution_count": 9,
   "metadata": {},
   "outputs": [
    {
     "name": "stdout",
     "output_type": "stream",
     "text": [
      "<class 'pandas.core.frame.DataFrame'>\n",
      "RangeIndex: 1100 entries, 0 to 1099\n",
      "Data columns (total 15 columns):\n",
      " #   Column               Non-Null Count  Dtype  \n",
      "---  ------               --------------  -----  \n",
      " 0   claim_id             1100 non-null   int64  \n",
      " 1   customer_id          1100 non-null   int64  \n",
      " 2   incident_cause       1100 non-null   object \n",
      " 3   claim_date           1100 non-null   object \n",
      " 4   claim_area           1100 non-null   object \n",
      " 5   police_report        1100 non-null   object \n",
      " 6   claim_type           1100 non-null   object \n",
      " 7   claim_amount         1035 non-null   object \n",
      " 8   total_policy_claims  1090 non-null   float64\n",
      " 9   fraudulent           1100 non-null   object \n",
      " 10  gender               1085 non-null   object \n",
      " 11  DateOfBirth          1085 non-null   object \n",
      " 12  State                1085 non-null   object \n",
      " 13  Contact              1085 non-null   object \n",
      " 14  Segment              1085 non-null   object \n",
      "dtypes: float64(1), int64(2), object(12)\n",
      "memory usage: 129.0+ KB\n"
     ]
    }
   ],
   "source": [
    "df.info()"
   ]
  },
  {
   "cell_type": "markdown",
   "metadata": {},
   "source": [
    "Dilakukan pengecekan informasi data. Dalam pengecekan tersebut terdapat beberapa catatan yaitu yaitu:\n",
    "- Kolom yang semula berjumlah 18 kini menjadi 15 kolom. \n",
    "- Terdapat ketidakseragaman data jika dilihat pada non-null count sehingga kemungkinan terdapat nilai null atau missing value yang perlu dicek pada setiap kolomnya. \n",
    "- Berdasarkan tipe data terdapat 1 data float, 2 data integer, dan 12 object namun terdapat kekeliruan yaitu:\n",
    "  - `claim_date` dan `DateOfBirth` seharusnya datetimes bukan object.\n",
    "  - `claim_amount` seharusnya float bukan object. \n",
    "  - `total_policy_claims` seharusnya int bukan float.\n",
    "\n",
    "  Sehingga diperlukan cleaning untuk 3 kolom tersebut.\n",
    "\n"
   ]
  },
  {
   "cell_type": "code",
   "execution_count": 10,
   "metadata": {},
   "outputs": [
    {
     "data": {
      "text/plain": [
       "claim_id                0\n",
       "customer_id             0\n",
       "incident_cause          0\n",
       "claim_date              0\n",
       "claim_area              0\n",
       "police_report           0\n",
       "claim_type              0\n",
       "claim_amount           65\n",
       "total_policy_claims    10\n",
       "fraudulent              0\n",
       "gender                 15\n",
       "DateOfBirth            15\n",
       "State                  15\n",
       "Contact                15\n",
       "Segment                15\n",
       "dtype: int64"
      ]
     },
     "execution_count": 10,
     "metadata": {},
     "output_type": "execute_result"
    }
   ],
   "source": [
    "#  CEK MISSING VALUE\n",
    "\n",
    "df.isnull().sum()"
   ]
  },
  {
   "cell_type": "markdown",
   "metadata": {},
   "source": [
    "Telah dilakukan pengecekan missing value pada masing-masing kolom. Dapat dilihat bahwa:\n",
    "- Pada kolom `claim_amount` terdapat 65 missing value.\n",
    "- Pada kolom `total_policy_report` terdapat 10 missing value.\n",
    "- Pada kolom `gender`, `DateOfBirth`, `State`, `Contact`, `Segment` terdapat 15 missing value.\n",
    "\n",
    "Dari ketiga poin tersebut akan dilakukan analisa missing value yang terjadi pada tahap data cleaning."
   ]
  },
  {
   "cell_type": "markdown",
   "metadata": {},
   "source": [
    "## Data Cleaning"
   ]
  },
  {
   "cell_type": "markdown",
   "metadata": {},
   "source": [
    "### Irregular Data Cleaning in `claim_amount`"
   ]
  },
  {
   "cell_type": "markdown",
   "metadata": {},
   "source": [
    "Cleaning dimaksud untuk penghapusan $ dan , pada kolom `claim_amount` dikarenakan akibat kedua simbol tersebut data terbaca menjadi object sehingga perlu diganti menjadi float."
   ]
  },
  {
   "cell_type": "code",
   "execution_count": 11,
   "metadata": {},
   "outputs": [
    {
     "data": {
      "text/plain": [
       "claim_id                 int64\n",
       "customer_id              int64\n",
       "incident_cause          object\n",
       "claim_date              object\n",
       "claim_area              object\n",
       "police_report           object\n",
       "claim_type              object\n",
       "claim_amount            object\n",
       "total_policy_claims    float64\n",
       "fraudulent              object\n",
       "gender                  object\n",
       "DateOfBirth             object\n",
       "State                   object\n",
       "Contact                 object\n",
       "Segment                 object\n",
       "dtype: object"
      ]
     },
     "execution_count": 11,
     "metadata": {},
     "output_type": "execute_result"
    }
   ],
   "source": [
    "# Mengecek tipe data\n",
    "df.dtypes"
   ]
  },
  {
   "cell_type": "markdown",
   "metadata": {},
   "source": [
    "Dapat dilihat bahwa claim_amouont merupakan object sehingga harus diganti ke float"
   ]
  },
  {
   "cell_type": "code",
   "execution_count": 12,
   "metadata": {},
   "outputs": [
    {
     "data": {
      "text/html": [
       "<div>\n",
       "<style scoped>\n",
       "    .dataframe tbody tr th:only-of-type {\n",
       "        vertical-align: middle;\n",
       "    }\n",
       "\n",
       "    .dataframe tbody tr th {\n",
       "        vertical-align: top;\n",
       "    }\n",
       "\n",
       "    .dataframe thead th {\n",
       "        text-align: right;\n",
       "    }\n",
       "</style>\n",
       "<table border=\"1\" class=\"dataframe\">\n",
       "  <thead>\n",
       "    <tr style=\"text-align: right;\">\n",
       "      <th></th>\n",
       "      <th>claim_id</th>\n",
       "      <th>customer_id</th>\n",
       "      <th>incident_cause</th>\n",
       "      <th>claim_date</th>\n",
       "      <th>claim_area</th>\n",
       "      <th>police_report</th>\n",
       "      <th>claim_type</th>\n",
       "      <th>claim_amount</th>\n",
       "      <th>total_policy_claims</th>\n",
       "      <th>fraudulent</th>\n",
       "      <th>gender</th>\n",
       "      <th>DateOfBirth</th>\n",
       "      <th>State</th>\n",
       "      <th>Contact</th>\n",
       "      <th>Segment</th>\n",
       "    </tr>\n",
       "  </thead>\n",
       "  <tbody>\n",
       "    <tr>\n",
       "      <th>0</th>\n",
       "      <td>54004764</td>\n",
       "      <td>21868593</td>\n",
       "      <td>Driver error</td>\n",
       "      <td>11/27/2017</td>\n",
       "      <td>Auto</td>\n",
       "      <td>No</td>\n",
       "      <td>Material only</td>\n",
       "      <td>2980</td>\n",
       "      <td>1.0</td>\n",
       "      <td>No</td>\n",
       "      <td>Female</td>\n",
       "      <td>1/12/1979</td>\n",
       "      <td>VT</td>\n",
       "      <td>789-916-8172</td>\n",
       "      <td>Platinum</td>\n",
       "    </tr>\n",
       "    <tr>\n",
       "      <th>1</th>\n",
       "      <td>33985796</td>\n",
       "      <td>75740424</td>\n",
       "      <td>Crime</td>\n",
       "      <td>10/3/2018</td>\n",
       "      <td>Home</td>\n",
       "      <td>Unknown</td>\n",
       "      <td>Material only</td>\n",
       "      <td>2980</td>\n",
       "      <td>3.0</td>\n",
       "      <td>No</td>\n",
       "      <td>Female</td>\n",
       "      <td>1/13/1970</td>\n",
       "      <td>ME</td>\n",
       "      <td>265-543-1264</td>\n",
       "      <td>Silver</td>\n",
       "    </tr>\n",
       "    <tr>\n",
       "      <th>2</th>\n",
       "      <td>53522022</td>\n",
       "      <td>30308357</td>\n",
       "      <td>Other driver error</td>\n",
       "      <td>2/2/2018</td>\n",
       "      <td>Auto</td>\n",
       "      <td>No</td>\n",
       "      <td>Material only</td>\n",
       "      <td>3369.50</td>\n",
       "      <td>1.0</td>\n",
       "      <td>Yes</td>\n",
       "      <td>Female</td>\n",
       "      <td>3/11/1984</td>\n",
       "      <td>TN</td>\n",
       "      <td>798-631-4758</td>\n",
       "      <td>Silver</td>\n",
       "    </tr>\n",
       "    <tr>\n",
       "      <th>3</th>\n",
       "      <td>13015401</td>\n",
       "      <td>47830476</td>\n",
       "      <td>Natural causes</td>\n",
       "      <td>6/17/2018</td>\n",
       "      <td>Auto</td>\n",
       "      <td>No</td>\n",
       "      <td>Material only</td>\n",
       "      <td>1680</td>\n",
       "      <td>1.0</td>\n",
       "      <td>No</td>\n",
       "      <td>Female</td>\n",
       "      <td>5/1/1986</td>\n",
       "      <td>MA</td>\n",
       "      <td>413-187-7945</td>\n",
       "      <td>Silver</td>\n",
       "    </tr>\n",
       "    <tr>\n",
       "      <th>4</th>\n",
       "      <td>22890252</td>\n",
       "      <td>19269962</td>\n",
       "      <td>Crime</td>\n",
       "      <td>1/13/2018</td>\n",
       "      <td>Auto</td>\n",
       "      <td>No</td>\n",
       "      <td>Material only</td>\n",
       "      <td>2680</td>\n",
       "      <td>1.0</td>\n",
       "      <td>No</td>\n",
       "      <td>Male</td>\n",
       "      <td>5/13/1977</td>\n",
       "      <td>NV</td>\n",
       "      <td>956-871-8691</td>\n",
       "      <td>Gold</td>\n",
       "    </tr>\n",
       "    <tr>\n",
       "      <th>...</th>\n",
       "      <td>...</td>\n",
       "      <td>...</td>\n",
       "      <td>...</td>\n",
       "      <td>...</td>\n",
       "      <td>...</td>\n",
       "      <td>...</td>\n",
       "      <td>...</td>\n",
       "      <td>...</td>\n",
       "      <td>...</td>\n",
       "      <td>...</td>\n",
       "      <td>...</td>\n",
       "      <td>...</td>\n",
       "      <td>...</td>\n",
       "      <td>...</td>\n",
       "      <td>...</td>\n",
       "    </tr>\n",
       "    <tr>\n",
       "      <th>1095</th>\n",
       "      <td>97727122</td>\n",
       "      <td>35951012</td>\n",
       "      <td>Other driver error</td>\n",
       "      <td>6/11/2017</td>\n",
       "      <td>Auto</td>\n",
       "      <td>No</td>\n",
       "      <td>Material only</td>\n",
       "      <td>3059</td>\n",
       "      <td>4.0</td>\n",
       "      <td>Yes</td>\n",
       "      <td>NaN</td>\n",
       "      <td>NaN</td>\n",
       "      <td>NaN</td>\n",
       "      <td>NaN</td>\n",
       "      <td>NaN</td>\n",
       "    </tr>\n",
       "    <tr>\n",
       "      <th>1096</th>\n",
       "      <td>10247193</td>\n",
       "      <td>14818669</td>\n",
       "      <td>Natural causes</td>\n",
       "      <td>3/14/2018</td>\n",
       "      <td>Auto</td>\n",
       "      <td>No</td>\n",
       "      <td>Material only</td>\n",
       "      <td>1520</td>\n",
       "      <td>2.0</td>\n",
       "      <td>No</td>\n",
       "      <td>NaN</td>\n",
       "      <td>NaN</td>\n",
       "      <td>NaN</td>\n",
       "      <td>NaN</td>\n",
       "      <td>NaN</td>\n",
       "    </tr>\n",
       "    <tr>\n",
       "      <th>1097</th>\n",
       "      <td>79807493</td>\n",
       "      <td>85322831</td>\n",
       "      <td>Other driver error</td>\n",
       "      <td>2/9/2018</td>\n",
       "      <td>Auto</td>\n",
       "      <td>No</td>\n",
       "      <td>Material and injury</td>\n",
       "      <td>23575</td>\n",
       "      <td>2.0</td>\n",
       "      <td>Yes</td>\n",
       "      <td>NaN</td>\n",
       "      <td>NaN</td>\n",
       "      <td>NaN</td>\n",
       "      <td>NaN</td>\n",
       "      <td>NaN</td>\n",
       "    </tr>\n",
       "    <tr>\n",
       "      <th>1098</th>\n",
       "      <td>69299345</td>\n",
       "      <td>73449366</td>\n",
       "      <td>Other causes</td>\n",
       "      <td>3/21/2018</td>\n",
       "      <td>Auto</td>\n",
       "      <td>Unknown</td>\n",
       "      <td>Material and injury</td>\n",
       "      <td>25120</td>\n",
       "      <td>1.0</td>\n",
       "      <td>No</td>\n",
       "      <td>NaN</td>\n",
       "      <td>NaN</td>\n",
       "      <td>NaN</td>\n",
       "      <td>NaN</td>\n",
       "      <td>NaN</td>\n",
       "    </tr>\n",
       "    <tr>\n",
       "      <th>1099</th>\n",
       "      <td>58809728</td>\n",
       "      <td>43020876</td>\n",
       "      <td>Other driver error</td>\n",
       "      <td>6/4/2017</td>\n",
       "      <td>Auto</td>\n",
       "      <td>Yes</td>\n",
       "      <td>Material and injury</td>\n",
       "      <td>36685</td>\n",
       "      <td>3.0</td>\n",
       "      <td>Yes</td>\n",
       "      <td>NaN</td>\n",
       "      <td>NaN</td>\n",
       "      <td>NaN</td>\n",
       "      <td>NaN</td>\n",
       "      <td>NaN</td>\n",
       "    </tr>\n",
       "  </tbody>\n",
       "</table>\n",
       "<p>1100 rows × 15 columns</p>\n",
       "</div>"
      ],
      "text/plain": [
       "      claim_id  customer_id      incident_cause  claim_date claim_area  \\\n",
       "0     54004764     21868593        Driver error  11/27/2017       Auto   \n",
       "1     33985796     75740424               Crime   10/3/2018       Home   \n",
       "2     53522022     30308357  Other driver error    2/2/2018       Auto   \n",
       "3     13015401     47830476      Natural causes   6/17/2018       Auto   \n",
       "4     22890252     19269962               Crime   1/13/2018       Auto   \n",
       "...        ...          ...                 ...         ...        ...   \n",
       "1095  97727122     35951012  Other driver error   6/11/2017       Auto   \n",
       "1096  10247193     14818669      Natural causes   3/14/2018       Auto   \n",
       "1097  79807493     85322831  Other driver error    2/9/2018       Auto   \n",
       "1098  69299345     73449366        Other causes   3/21/2018       Auto   \n",
       "1099  58809728     43020876  Other driver error    6/4/2017       Auto   \n",
       "\n",
       "     police_report           claim_type claim_amount  total_policy_claims  \\\n",
       "0               No        Material only        2980                   1.0   \n",
       "1          Unknown        Material only        2980                   3.0   \n",
       "2               No        Material only     3369.50                   1.0   \n",
       "3               No        Material only        1680                   1.0   \n",
       "4               No        Material only        2680                   1.0   \n",
       "...            ...                  ...          ...                  ...   \n",
       "1095            No        Material only        3059                   4.0   \n",
       "1096            No        Material only        1520                   2.0   \n",
       "1097            No  Material and injury       23575                   2.0   \n",
       "1098       Unknown  Material and injury       25120                   1.0   \n",
       "1099           Yes  Material and injury       36685                   3.0   \n",
       "\n",
       "     fraudulent  gender DateOfBirth State       Contact   Segment  \n",
       "0            No  Female   1/12/1979    VT  789-916-8172  Platinum  \n",
       "1            No  Female   1/13/1970    ME  265-543-1264    Silver  \n",
       "2           Yes  Female   3/11/1984    TN  798-631-4758    Silver  \n",
       "3            No  Female    5/1/1986    MA  413-187-7945    Silver  \n",
       "4            No    Male   5/13/1977    NV  956-871-8691      Gold  \n",
       "...         ...     ...         ...   ...           ...       ...  \n",
       "1095        Yes     NaN         NaN   NaN           NaN       NaN  \n",
       "1096         No     NaN         NaN   NaN           NaN       NaN  \n",
       "1097        Yes     NaN         NaN   NaN           NaN       NaN  \n",
       "1098         No     NaN         NaN   NaN           NaN       NaN  \n",
       "1099        Yes     NaN         NaN   NaN           NaN       NaN  \n",
       "\n",
       "[1100 rows x 15 columns]"
      ]
     },
     "execution_count": 12,
     "metadata": {},
     "output_type": "execute_result"
    }
   ],
   "source": [
    "# Menghapus $ dan , dalam kolom claim_amount\n",
    "df['claim_amount'] = df['claim_amount'].str.replace('$', '')\n",
    "df['claim_amount'] = df['claim_amount'].str.replace(',', '')\n",
    "\n",
    "\n",
    "df"
   ]
  },
  {
   "cell_type": "markdown",
   "metadata": {},
   "source": [
    "$ dan , pada kolom `claim_amount` berhasil dihapus sehingga nantinya tipe data bisa diubah ke float."
   ]
  },
  {
   "cell_type": "markdown",
   "metadata": {},
   "source": [
    "### Missing Values Handling"
   ]
  },
  {
   "cell_type": "markdown",
   "metadata": {},
   "source": [
    "Missing value handling pada kasus ini dapat dibagi menjadi tiga yaitu:\n",
    "1. Pada kolom `claim_amount` \n",
    "2. Pada kolom `total_policy_report`\n",
    "3. Pada kolom `gender`, `DateOfBirth`, `State`, `Contact`, `Segment` \n",
    "Pembagian tersebut didasari dengan hubungannya dengan customer id dengan penjelasannya pada masing-masing sub-bab."
   ]
  },
  {
   "cell_type": "code",
   "execution_count": 13,
   "metadata": {},
   "outputs": [
    {
     "name": "stdout",
     "output_type": "stream",
     "text": [
      "claim_id\n",
      "58809728    1\n",
      "54004764    1\n",
      "33985796    1\n",
      "53522022    1\n",
      "13015401    1\n",
      "           ..\n",
      "12548447    1\n",
      "35489765    1\n",
      "67257404    1\n",
      "53780662    1\n",
      "72738047    1\n",
      "Name: count, Length: 1100, dtype: int64\n",
      "------------------------------------------------------------\n",
      "customer_id\n",
      "30308357    2\n",
      "47830476    2\n",
      "19269962    2\n",
      "84147585    2\n",
      "85357756    2\n",
      "           ..\n",
      "46850495    1\n",
      "79539873    1\n",
      "42364152    1\n",
      "19888166    1\n",
      "75740424    1\n",
      "Name: count, Length: 1093, dtype: int64\n",
      "------------------------------------------------------------\n",
      "incident_cause\n",
      "Other causes          290\n",
      "Driver error          262\n",
      "Other driver error    249\n",
      "Natural causes        189\n",
      "Crime                 110\n",
      "Name: count, dtype: int64\n",
      "------------------------------------------------------------\n",
      "claim_date\n",
      "4/4/2018      18\n",
      "10/17/2017    17\n",
      "7/7/2018      17\n",
      "1/13/2018     17\n",
      "10/31/2017    16\n",
      "              ..\n",
      "1/26/2018      6\n",
      "8/18/2017      6\n",
      "6/10/2018      6\n",
      "8/4/2017       6\n",
      "8/23/2018      5\n",
      "Name: count, Length: 100, dtype: int64\n",
      "------------------------------------------------------------\n",
      "claim_area\n",
      "Auto    985\n",
      "Home    115\n",
      "Name: count, dtype: int64\n",
      "------------------------------------------------------------\n",
      "police_report\n",
      "No         630\n",
      "Unknown    300\n",
      "Yes        170\n",
      "Name: count, dtype: int64\n",
      "------------------------------------------------------------\n",
      "claim_type\n",
      "Material only          663\n",
      "Material and injury    241\n",
      "Injury only            196\n",
      "Name: count, dtype: int64\n",
      "------------------------------------------------------------\n",
      "claim_amount\n",
      "2320        7\n",
      "2070        7\n",
      "2090        7\n",
      "1860        7\n",
      "1630        7\n",
      "           ..\n",
      "24850       1\n",
      "1805.50     1\n",
      "29010       1\n",
      "2875        1\n",
      "33080       1\n",
      "Name: count, Length: 683, dtype: int64\n",
      "------------------------------------------------------------\n",
      "total_policy_claims\n",
      "1.0    793\n",
      "2.0    107\n",
      "3.0     89\n",
      "4.0     61\n",
      "5.0     27\n",
      "6.0     10\n",
      "7.0      2\n",
      "8.0      1\n",
      "Name: count, dtype: int64\n",
      "------------------------------------------------------------\n",
      "fraudulent\n",
      "No     846\n",
      "Yes    254\n",
      "Name: count, dtype: int64\n",
      "------------------------------------------------------------\n",
      "gender\n",
      "Male      553\n",
      "Female    532\n",
      "Name: count, dtype: int64\n",
      "------------------------------------------------------------\n",
      "DateOfBirth\n",
      "7/12/1995    1\n",
      "1/12/1979    1\n",
      "1/13/1970    1\n",
      "3/11/1984    1\n",
      "5/1/1986     1\n",
      "            ..\n",
      "9/7/1966     1\n",
      "3/15/1987    1\n",
      "7/26/1977    1\n",
      "1/14/1969    1\n",
      "7/22/1963    1\n",
      "Name: count, Length: 1085, dtype: int64\n",
      "------------------------------------------------------------\n",
      "State\n",
      "NY    31\n",
      "AR    29\n",
      "DE    29\n",
      "AL    28\n",
      "ME    28\n",
      "ID    27\n",
      "ND    27\n",
      "TN    26\n",
      "RI    26\n",
      "IA    26\n",
      "CO    26\n",
      "SD    25\n",
      "CT    25\n",
      "MA    25\n",
      "NV    25\n",
      "FL    25\n",
      "WI    24\n",
      "NC    24\n",
      "IL    23\n",
      "MO    23\n",
      "OH    22\n",
      "VT    22\n",
      "IN    22\n",
      "TX    22\n",
      "MD    21\n",
      "OK    21\n",
      "NE    21\n",
      "MT    20\n",
      "LA    20\n",
      "PA    20\n",
      "SC    20\n",
      "WV    20\n",
      "AK    19\n",
      "WA    19\n",
      "NM    19\n",
      "GA    19\n",
      "KS    19\n",
      "NH    18\n",
      "VA    18\n",
      "MI    18\n",
      "UT    18\n",
      "MN    17\n",
      "MS    17\n",
      "NJ    17\n",
      "WY    17\n",
      "CA    17\n",
      "HI    17\n",
      "AZ    15\n",
      "KY    14\n",
      "OR    14\n",
      "Name: count, dtype: int64\n",
      "------------------------------------------------------------\n",
      "Contact\n",
      "182-385-1392    1\n",
      "789-916-8172    1\n",
      "265-543-1264    1\n",
      "798-631-4758    1\n",
      "413-187-7945    1\n",
      "               ..\n",
      "146-157-4572    1\n",
      "165-217-1648    1\n",
      "843-379-4796    1\n",
      "314-135-1359    1\n",
      "473-561-2675    1\n",
      "Name: count, Length: 1085, dtype: int64\n",
      "------------------------------------------------------------\n",
      "Segment\n",
      "Gold        372\n",
      "Platinum    364\n",
      "Silver      349\n",
      "Name: count, dtype: int64\n",
      "------------------------------------------------------------\n"
     ]
    }
   ],
   "source": [
    "# Mengecek value count pada masing-masing kolom\n",
    "columns_object = ['claim_id', 'customer_id', 'incident_cause', 'claim_date', 'claim_area',\n",
    "       'police_report', 'claim_type', 'claim_amount', 'total_policy_claims',\n",
    "       'fraudulent', 'gender', 'DateOfBirth', 'State', 'Contact', 'Segment']\n",
    "\n",
    "for i in columns_object:\n",
    "    print(df[i].value_counts())\n",
    "    print('--'*30)"
   ]
  },
  {
   "cell_type": "markdown",
   "metadata": {},
   "source": [
    "Dapat dilihat bahwa ternyata pelanggan bisa melakukan klaim asuransi lebih dari 1 kali dan value yang missing tidak terdekteksi disini."
   ]
  },
  {
   "cell_type": "markdown",
   "metadata": {},
   "source": [
    "#### Kolom `gender`, `DateOfBirth`, `State`, `Contact`, `Segment` "
   ]
  },
  {
   "cell_type": "code",
   "execution_count": 14,
   "metadata": {},
   "outputs": [],
   "source": [
    "# Memisahkan missing value pada keempat kolom dan disimpan pada masing-masing variabel \n",
    "gender_mv = df[df.gender.isna()]\n",
    "Dateofbirth_mv = df[df.DateOfBirth.isna()]\n",
    "State_mv = df[df.State.isna()]\n",
    "Contact_mv = df[df.Contact.isna()]\n",
    "Segment_mv = df[df.Segment.isna()]"
   ]
  },
  {
   "cell_type": "code",
   "execution_count": 15,
   "metadata": {},
   "outputs": [
    {
     "data": {
      "text/plain": [
       "claim_id                0\n",
       "customer_id             0\n",
       "incident_cause          0\n",
       "claim_date              0\n",
       "claim_area              0\n",
       "police_report           0\n",
       "claim_type              0\n",
       "claim_amount            0\n",
       "total_policy_claims     0\n",
       "fraudulent              0\n",
       "gender                 15\n",
       "DateOfBirth            15\n",
       "State                  15\n",
       "Contact                15\n",
       "Segment                15\n",
       "dtype: int64"
      ]
     },
     "execution_count": 15,
     "metadata": {},
     "output_type": "execute_result"
    }
   ],
   "source": [
    "# Mengecek kembali jumlah missing value \n",
    "gender_mv.isna().sum()\n",
    "Dateofbirth_mv.isna().sum()\n",
    "State_mv.isna().sum()\n",
    "Contact_mv.isna().sum()\n",
    "Segment_mv.isna().sum()"
   ]
  },
  {
   "cell_type": "code",
   "execution_count": 16,
   "metadata": {},
   "outputs": [
    {
     "data": {
      "text/plain": [
       "15"
      ]
     },
     "execution_count": 16,
     "metadata": {},
     "output_type": "execute_result"
    }
   ],
   "source": [
    "# Mengetahui Panjang Data Missing Value \n",
    "len(gender_mv)\n",
    "len(Dateofbirth_mv)\n",
    "len(State_mv)\n",
    "len(Contact_mv)\n",
    "len(Segment_mv)"
   ]
  },
  {
   "cell_type": "markdown",
   "metadata": {},
   "source": [
    "Dari kedua pengecekan tersebut terbukti missing value pada keempat kolom tersebut berjumlah 15."
   ]
  },
  {
   "cell_type": "code",
   "execution_count": 17,
   "metadata": {},
   "outputs": [
    {
     "data": {
      "text/html": [
       "<div>\n",
       "<style scoped>\n",
       "    .dataframe tbody tr th:only-of-type {\n",
       "        vertical-align: middle;\n",
       "    }\n",
       "\n",
       "    .dataframe tbody tr th {\n",
       "        vertical-align: top;\n",
       "    }\n",
       "\n",
       "    .dataframe thead th {\n",
       "        text-align: right;\n",
       "    }\n",
       "</style>\n",
       "<table border=\"1\" class=\"dataframe\">\n",
       "  <thead>\n",
       "    <tr style=\"text-align: right;\">\n",
       "      <th></th>\n",
       "      <th>claim_id</th>\n",
       "      <th>customer_id</th>\n",
       "      <th>incident_cause</th>\n",
       "      <th>claim_date</th>\n",
       "      <th>claim_area</th>\n",
       "      <th>police_report</th>\n",
       "      <th>claim_type</th>\n",
       "      <th>claim_amount</th>\n",
       "      <th>total_policy_claims</th>\n",
       "      <th>fraudulent</th>\n",
       "      <th>gender</th>\n",
       "      <th>DateOfBirth</th>\n",
       "      <th>State</th>\n",
       "      <th>Contact</th>\n",
       "      <th>Segment</th>\n",
       "    </tr>\n",
       "  </thead>\n",
       "  <tbody>\n",
       "    <tr>\n",
       "      <th>1085</th>\n",
       "      <td>5829074</td>\n",
       "      <td>2379897</td>\n",
       "      <td>Other causes</td>\n",
       "      <td>7/20/2018</td>\n",
       "      <td>Auto</td>\n",
       "      <td>No</td>\n",
       "      <td>Material only</td>\n",
       "      <td>2080</td>\n",
       "      <td>1.0</td>\n",
       "      <td>No</td>\n",
       "      <td>NaN</td>\n",
       "      <td>NaN</td>\n",
       "      <td>NaN</td>\n",
       "      <td>NaN</td>\n",
       "      <td>NaN</td>\n",
       "    </tr>\n",
       "    <tr>\n",
       "      <th>1086</th>\n",
       "      <td>12632133</td>\n",
       "      <td>49290530</td>\n",
       "      <td>Natural causes</td>\n",
       "      <td>10/30/2018</td>\n",
       "      <td>Auto</td>\n",
       "      <td>No</td>\n",
       "      <td>Material only</td>\n",
       "      <td>2875</td>\n",
       "      <td>1.0</td>\n",
       "      <td>Yes</td>\n",
       "      <td>NaN</td>\n",
       "      <td>NaN</td>\n",
       "      <td>NaN</td>\n",
       "      <td>NaN</td>\n",
       "      <td>NaN</td>\n",
       "    </tr>\n",
       "    <tr>\n",
       "      <th>1087</th>\n",
       "      <td>45052103</td>\n",
       "      <td>55466148</td>\n",
       "      <td>Driver error</td>\n",
       "      <td>12/3/2017</td>\n",
       "      <td>Auto</td>\n",
       "      <td>No</td>\n",
       "      <td>Injury only</td>\n",
       "      <td>29010</td>\n",
       "      <td>1.0</td>\n",
       "      <td>No</td>\n",
       "      <td>NaN</td>\n",
       "      <td>NaN</td>\n",
       "      <td>NaN</td>\n",
       "      <td>NaN</td>\n",
       "      <td>NaN</td>\n",
       "    </tr>\n",
       "    <tr>\n",
       "      <th>1088</th>\n",
       "      <td>87003624</td>\n",
       "      <td>99120304</td>\n",
       "      <td>Other causes</td>\n",
       "      <td>3/22/2017</td>\n",
       "      <td>Auto</td>\n",
       "      <td>No</td>\n",
       "      <td>Material only</td>\n",
       "      <td>1710</td>\n",
       "      <td>1.0</td>\n",
       "      <td>No</td>\n",
       "      <td>NaN</td>\n",
       "      <td>NaN</td>\n",
       "      <td>NaN</td>\n",
       "      <td>NaN</td>\n",
       "      <td>NaN</td>\n",
       "    </tr>\n",
       "    <tr>\n",
       "      <th>1089</th>\n",
       "      <td>1680169</td>\n",
       "      <td>65061027</td>\n",
       "      <td>Natural causes</td>\n",
       "      <td>5/2/2017</td>\n",
       "      <td>Auto</td>\n",
       "      <td>Unknown</td>\n",
       "      <td>Material only</td>\n",
       "      <td>1030</td>\n",
       "      <td>4.0</td>\n",
       "      <td>No</td>\n",
       "      <td>NaN</td>\n",
       "      <td>NaN</td>\n",
       "      <td>NaN</td>\n",
       "      <td>NaN</td>\n",
       "      <td>NaN</td>\n",
       "    </tr>\n",
       "    <tr>\n",
       "      <th>1090</th>\n",
       "      <td>56626640</td>\n",
       "      <td>82584690</td>\n",
       "      <td>Other driver error</td>\n",
       "      <td>8/24/2017</td>\n",
       "      <td>Auto</td>\n",
       "      <td>Unknown</td>\n",
       "      <td>Material only</td>\n",
       "      <td>2288.50</td>\n",
       "      <td>1.0</td>\n",
       "      <td>Yes</td>\n",
       "      <td>NaN</td>\n",
       "      <td>NaN</td>\n",
       "      <td>NaN</td>\n",
       "      <td>NaN</td>\n",
       "      <td>NaN</td>\n",
       "    </tr>\n",
       "    <tr>\n",
       "      <th>1091</th>\n",
       "      <td>7280558</td>\n",
       "      <td>40349009</td>\n",
       "      <td>Crime</td>\n",
       "      <td>10/17/2017</td>\n",
       "      <td>Auto</td>\n",
       "      <td>No</td>\n",
       "      <td>Material only</td>\n",
       "      <td>3346.50</td>\n",
       "      <td>3.0</td>\n",
       "      <td>Yes</td>\n",
       "      <td>NaN</td>\n",
       "      <td>NaN</td>\n",
       "      <td>NaN</td>\n",
       "      <td>NaN</td>\n",
       "      <td>NaN</td>\n",
       "    </tr>\n",
       "    <tr>\n",
       "      <th>1092</th>\n",
       "      <td>74995596</td>\n",
       "      <td>55765343</td>\n",
       "      <td>Crime</td>\n",
       "      <td>6/30/2018</td>\n",
       "      <td>Auto</td>\n",
       "      <td>Unknown</td>\n",
       "      <td>Material only</td>\n",
       "      <td>1805.50</td>\n",
       "      <td>1.0</td>\n",
       "      <td>Yes</td>\n",
       "      <td>NaN</td>\n",
       "      <td>NaN</td>\n",
       "      <td>NaN</td>\n",
       "      <td>NaN</td>\n",
       "      <td>NaN</td>\n",
       "    </tr>\n",
       "    <tr>\n",
       "      <th>1093</th>\n",
       "      <td>8475725</td>\n",
       "      <td>75409818</td>\n",
       "      <td>Other causes</td>\n",
       "      <td>7/7/2018</td>\n",
       "      <td>Auto</td>\n",
       "      <td>No</td>\n",
       "      <td>Material only</td>\n",
       "      <td>1610</td>\n",
       "      <td>3.0</td>\n",
       "      <td>No</td>\n",
       "      <td>NaN</td>\n",
       "      <td>NaN</td>\n",
       "      <td>NaN</td>\n",
       "      <td>NaN</td>\n",
       "      <td>NaN</td>\n",
       "    </tr>\n",
       "    <tr>\n",
       "      <th>1094</th>\n",
       "      <td>33194240</td>\n",
       "      <td>18332683</td>\n",
       "      <td>Other causes</td>\n",
       "      <td>11/13/2017</td>\n",
       "      <td>Auto</td>\n",
       "      <td>Yes</td>\n",
       "      <td>Material and injury</td>\n",
       "      <td>24850</td>\n",
       "      <td>1.0</td>\n",
       "      <td>No</td>\n",
       "      <td>NaN</td>\n",
       "      <td>NaN</td>\n",
       "      <td>NaN</td>\n",
       "      <td>NaN</td>\n",
       "      <td>NaN</td>\n",
       "    </tr>\n",
       "    <tr>\n",
       "      <th>1095</th>\n",
       "      <td>97727122</td>\n",
       "      <td>35951012</td>\n",
       "      <td>Other driver error</td>\n",
       "      <td>6/11/2017</td>\n",
       "      <td>Auto</td>\n",
       "      <td>No</td>\n",
       "      <td>Material only</td>\n",
       "      <td>3059</td>\n",
       "      <td>4.0</td>\n",
       "      <td>Yes</td>\n",
       "      <td>NaN</td>\n",
       "      <td>NaN</td>\n",
       "      <td>NaN</td>\n",
       "      <td>NaN</td>\n",
       "      <td>NaN</td>\n",
       "    </tr>\n",
       "    <tr>\n",
       "      <th>1096</th>\n",
       "      <td>10247193</td>\n",
       "      <td>14818669</td>\n",
       "      <td>Natural causes</td>\n",
       "      <td>3/14/2018</td>\n",
       "      <td>Auto</td>\n",
       "      <td>No</td>\n",
       "      <td>Material only</td>\n",
       "      <td>1520</td>\n",
       "      <td>2.0</td>\n",
       "      <td>No</td>\n",
       "      <td>NaN</td>\n",
       "      <td>NaN</td>\n",
       "      <td>NaN</td>\n",
       "      <td>NaN</td>\n",
       "      <td>NaN</td>\n",
       "    </tr>\n",
       "    <tr>\n",
       "      <th>1097</th>\n",
       "      <td>79807493</td>\n",
       "      <td>85322831</td>\n",
       "      <td>Other driver error</td>\n",
       "      <td>2/9/2018</td>\n",
       "      <td>Auto</td>\n",
       "      <td>No</td>\n",
       "      <td>Material and injury</td>\n",
       "      <td>23575</td>\n",
       "      <td>2.0</td>\n",
       "      <td>Yes</td>\n",
       "      <td>NaN</td>\n",
       "      <td>NaN</td>\n",
       "      <td>NaN</td>\n",
       "      <td>NaN</td>\n",
       "      <td>NaN</td>\n",
       "    </tr>\n",
       "    <tr>\n",
       "      <th>1098</th>\n",
       "      <td>69299345</td>\n",
       "      <td>73449366</td>\n",
       "      <td>Other causes</td>\n",
       "      <td>3/21/2018</td>\n",
       "      <td>Auto</td>\n",
       "      <td>Unknown</td>\n",
       "      <td>Material and injury</td>\n",
       "      <td>25120</td>\n",
       "      <td>1.0</td>\n",
       "      <td>No</td>\n",
       "      <td>NaN</td>\n",
       "      <td>NaN</td>\n",
       "      <td>NaN</td>\n",
       "      <td>NaN</td>\n",
       "      <td>NaN</td>\n",
       "    </tr>\n",
       "    <tr>\n",
       "      <th>1099</th>\n",
       "      <td>58809728</td>\n",
       "      <td>43020876</td>\n",
       "      <td>Other driver error</td>\n",
       "      <td>6/4/2017</td>\n",
       "      <td>Auto</td>\n",
       "      <td>Yes</td>\n",
       "      <td>Material and injury</td>\n",
       "      <td>36685</td>\n",
       "      <td>3.0</td>\n",
       "      <td>Yes</td>\n",
       "      <td>NaN</td>\n",
       "      <td>NaN</td>\n",
       "      <td>NaN</td>\n",
       "      <td>NaN</td>\n",
       "      <td>NaN</td>\n",
       "    </tr>\n",
       "  </tbody>\n",
       "</table>\n",
       "</div>"
      ],
      "text/plain": [
       "      claim_id  customer_id      incident_cause  claim_date claim_area  \\\n",
       "1085   5829074      2379897        Other causes   7/20/2018       Auto   \n",
       "1086  12632133     49290530      Natural causes  10/30/2018       Auto   \n",
       "1087  45052103     55466148        Driver error   12/3/2017       Auto   \n",
       "1088  87003624     99120304        Other causes   3/22/2017       Auto   \n",
       "1089   1680169     65061027      Natural causes    5/2/2017       Auto   \n",
       "1090  56626640     82584690  Other driver error   8/24/2017       Auto   \n",
       "1091   7280558     40349009               Crime  10/17/2017       Auto   \n",
       "1092  74995596     55765343               Crime   6/30/2018       Auto   \n",
       "1093   8475725     75409818        Other causes    7/7/2018       Auto   \n",
       "1094  33194240     18332683        Other causes  11/13/2017       Auto   \n",
       "1095  97727122     35951012  Other driver error   6/11/2017       Auto   \n",
       "1096  10247193     14818669      Natural causes   3/14/2018       Auto   \n",
       "1097  79807493     85322831  Other driver error    2/9/2018       Auto   \n",
       "1098  69299345     73449366        Other causes   3/21/2018       Auto   \n",
       "1099  58809728     43020876  Other driver error    6/4/2017       Auto   \n",
       "\n",
       "     police_report           claim_type claim_amount  total_policy_claims  \\\n",
       "1085            No        Material only        2080                   1.0   \n",
       "1086            No        Material only        2875                   1.0   \n",
       "1087            No          Injury only       29010                   1.0   \n",
       "1088            No        Material only        1710                   1.0   \n",
       "1089       Unknown        Material only        1030                   4.0   \n",
       "1090       Unknown        Material only     2288.50                   1.0   \n",
       "1091            No        Material only     3346.50                   3.0   \n",
       "1092       Unknown        Material only     1805.50                   1.0   \n",
       "1093            No        Material only        1610                   3.0   \n",
       "1094           Yes  Material and injury       24850                   1.0   \n",
       "1095            No        Material only        3059                   4.0   \n",
       "1096            No        Material only        1520                   2.0   \n",
       "1097            No  Material and injury       23575                   2.0   \n",
       "1098       Unknown  Material and injury       25120                   1.0   \n",
       "1099           Yes  Material and injury       36685                   3.0   \n",
       "\n",
       "     fraudulent gender DateOfBirth State Contact Segment  \n",
       "1085         No    NaN         NaN   NaN     NaN     NaN  \n",
       "1086        Yes    NaN         NaN   NaN     NaN     NaN  \n",
       "1087         No    NaN         NaN   NaN     NaN     NaN  \n",
       "1088         No    NaN         NaN   NaN     NaN     NaN  \n",
       "1089         No    NaN         NaN   NaN     NaN     NaN  \n",
       "1090        Yes    NaN         NaN   NaN     NaN     NaN  \n",
       "1091        Yes    NaN         NaN   NaN     NaN     NaN  \n",
       "1092        Yes    NaN         NaN   NaN     NaN     NaN  \n",
       "1093         No    NaN         NaN   NaN     NaN     NaN  \n",
       "1094         No    NaN         NaN   NaN     NaN     NaN  \n",
       "1095        Yes    NaN         NaN   NaN     NaN     NaN  \n",
       "1096         No    NaN         NaN   NaN     NaN     NaN  \n",
       "1097        Yes    NaN         NaN   NaN     NaN     NaN  \n",
       "1098         No    NaN         NaN   NaN     NaN     NaN  \n",
       "1099        Yes    NaN         NaN   NaN     NaN     NaN  "
      ]
     },
     "execution_count": 17,
     "metadata": {},
     "output_type": "execute_result"
    }
   ],
   "source": [
    "gender_mv"
   ]
  },
  {
   "cell_type": "markdown",
   "metadata": {},
   "source": [
    "Dalam tabel tersebut dapat dilihat bahwa kelimabelas data tersebut pada masing-masing kolom berada di baris yang sama, sehingga:\n",
    "\n",
    "Missing value untuk keempat kolom tersebut tergolong MCAR (Missing Completely At Random) dikarenakan hilangnya data tersebut sepenuhnya acak dan tidak bergantung pada nilai variabel lain maupun nilai dari variabel itu sendiri. Semua pengisian tersebut dilakukan oleh pelanggan dengan data mereka sendiri sehingga tidak bergantung pada data lain. \n",
    "\n",
    "Karena tergolong MCAR dan terjadi dalam satu runtutan kolom dan baris yang sama, maka dilakukan missing values handling dengan cara penghapusan data yang kosong pada kolom tersebut."
   ]
  },
  {
   "cell_type": "code",
   "execution_count": 18,
   "metadata": {},
   "outputs": [],
   "source": [
    "# Menghapus missing value pada data dalam kolom\n",
    "df_cleaned = df.dropna(subset=['gender', 'DateOfBirth', 'State', 'Contact', 'Segment'])"
   ]
  },
  {
   "cell_type": "code",
   "execution_count": 19,
   "metadata": {},
   "outputs": [
    {
     "data": {
      "text/html": [
       "<div>\n",
       "<style scoped>\n",
       "    .dataframe tbody tr th:only-of-type {\n",
       "        vertical-align: middle;\n",
       "    }\n",
       "\n",
       "    .dataframe tbody tr th {\n",
       "        vertical-align: top;\n",
       "    }\n",
       "\n",
       "    .dataframe thead th {\n",
       "        text-align: right;\n",
       "    }\n",
       "</style>\n",
       "<table border=\"1\" class=\"dataframe\">\n",
       "  <thead>\n",
       "    <tr style=\"text-align: right;\">\n",
       "      <th></th>\n",
       "      <th>claim_id</th>\n",
       "      <th>customer_id</th>\n",
       "      <th>incident_cause</th>\n",
       "      <th>claim_date</th>\n",
       "      <th>claim_area</th>\n",
       "      <th>police_report</th>\n",
       "      <th>claim_type</th>\n",
       "      <th>claim_amount</th>\n",
       "      <th>total_policy_claims</th>\n",
       "      <th>fraudulent</th>\n",
       "      <th>gender</th>\n",
       "      <th>DateOfBirth</th>\n",
       "      <th>State</th>\n",
       "      <th>Contact</th>\n",
       "      <th>Segment</th>\n",
       "    </tr>\n",
       "  </thead>\n",
       "  <tbody>\n",
       "    <tr>\n",
       "      <th>0</th>\n",
       "      <td>54004764</td>\n",
       "      <td>21868593</td>\n",
       "      <td>Driver error</td>\n",
       "      <td>11/27/2017</td>\n",
       "      <td>Auto</td>\n",
       "      <td>No</td>\n",
       "      <td>Material only</td>\n",
       "      <td>2980</td>\n",
       "      <td>1.0</td>\n",
       "      <td>No</td>\n",
       "      <td>Female</td>\n",
       "      <td>1/12/1979</td>\n",
       "      <td>VT</td>\n",
       "      <td>789-916-8172</td>\n",
       "      <td>Platinum</td>\n",
       "    </tr>\n",
       "    <tr>\n",
       "      <th>1</th>\n",
       "      <td>33985796</td>\n",
       "      <td>75740424</td>\n",
       "      <td>Crime</td>\n",
       "      <td>10/3/2018</td>\n",
       "      <td>Home</td>\n",
       "      <td>Unknown</td>\n",
       "      <td>Material only</td>\n",
       "      <td>2980</td>\n",
       "      <td>3.0</td>\n",
       "      <td>No</td>\n",
       "      <td>Female</td>\n",
       "      <td>1/13/1970</td>\n",
       "      <td>ME</td>\n",
       "      <td>265-543-1264</td>\n",
       "      <td>Silver</td>\n",
       "    </tr>\n",
       "    <tr>\n",
       "      <th>2</th>\n",
       "      <td>53522022</td>\n",
       "      <td>30308357</td>\n",
       "      <td>Other driver error</td>\n",
       "      <td>2/2/2018</td>\n",
       "      <td>Auto</td>\n",
       "      <td>No</td>\n",
       "      <td>Material only</td>\n",
       "      <td>3369.50</td>\n",
       "      <td>1.0</td>\n",
       "      <td>Yes</td>\n",
       "      <td>Female</td>\n",
       "      <td>3/11/1984</td>\n",
       "      <td>TN</td>\n",
       "      <td>798-631-4758</td>\n",
       "      <td>Silver</td>\n",
       "    </tr>\n",
       "    <tr>\n",
       "      <th>3</th>\n",
       "      <td>13015401</td>\n",
       "      <td>47830476</td>\n",
       "      <td>Natural causes</td>\n",
       "      <td>6/17/2018</td>\n",
       "      <td>Auto</td>\n",
       "      <td>No</td>\n",
       "      <td>Material only</td>\n",
       "      <td>1680</td>\n",
       "      <td>1.0</td>\n",
       "      <td>No</td>\n",
       "      <td>Female</td>\n",
       "      <td>5/1/1986</td>\n",
       "      <td>MA</td>\n",
       "      <td>413-187-7945</td>\n",
       "      <td>Silver</td>\n",
       "    </tr>\n",
       "    <tr>\n",
       "      <th>4</th>\n",
       "      <td>22890252</td>\n",
       "      <td>19269962</td>\n",
       "      <td>Crime</td>\n",
       "      <td>1/13/2018</td>\n",
       "      <td>Auto</td>\n",
       "      <td>No</td>\n",
       "      <td>Material only</td>\n",
       "      <td>2680</td>\n",
       "      <td>1.0</td>\n",
       "      <td>No</td>\n",
       "      <td>Male</td>\n",
       "      <td>5/13/1977</td>\n",
       "      <td>NV</td>\n",
       "      <td>956-871-8691</td>\n",
       "      <td>Gold</td>\n",
       "    </tr>\n",
       "    <tr>\n",
       "      <th>...</th>\n",
       "      <td>...</td>\n",
       "      <td>...</td>\n",
       "      <td>...</td>\n",
       "      <td>...</td>\n",
       "      <td>...</td>\n",
       "      <td>...</td>\n",
       "      <td>...</td>\n",
       "      <td>...</td>\n",
       "      <td>...</td>\n",
       "      <td>...</td>\n",
       "      <td>...</td>\n",
       "      <td>...</td>\n",
       "      <td>...</td>\n",
       "      <td>...</td>\n",
       "      <td>...</td>\n",
       "    </tr>\n",
       "    <tr>\n",
       "      <th>1080</th>\n",
       "      <td>62020796</td>\n",
       "      <td>79539873</td>\n",
       "      <td>Other driver error</td>\n",
       "      <td>9/6/2018</td>\n",
       "      <td>Auto</td>\n",
       "      <td>Yes</td>\n",
       "      <td>Material only</td>\n",
       "      <td>1770</td>\n",
       "      <td>1.0</td>\n",
       "      <td>No</td>\n",
       "      <td>Female</td>\n",
       "      <td>3/15/1981</td>\n",
       "      <td>ND</td>\n",
       "      <td>459-425-4319</td>\n",
       "      <td>Platinum</td>\n",
       "    </tr>\n",
       "    <tr>\n",
       "      <th>1081</th>\n",
       "      <td>63269067</td>\n",
       "      <td>42364152</td>\n",
       "      <td>Other causes</td>\n",
       "      <td>5/9/2017</td>\n",
       "      <td>Home</td>\n",
       "      <td>No</td>\n",
       "      <td>Material only</td>\n",
       "      <td>2800</td>\n",
       "      <td>1.0</td>\n",
       "      <td>No</td>\n",
       "      <td>Female</td>\n",
       "      <td>7/7/1996</td>\n",
       "      <td>ID</td>\n",
       "      <td>529-462-1635</td>\n",
       "      <td>Silver</td>\n",
       "    </tr>\n",
       "    <tr>\n",
       "      <th>1082</th>\n",
       "      <td>22690595</td>\n",
       "      <td>19888166</td>\n",
       "      <td>Other driver error</td>\n",
       "      <td>5/15/2017</td>\n",
       "      <td>Auto</td>\n",
       "      <td>Yes</td>\n",
       "      <td>Injury only</td>\n",
       "      <td>33080</td>\n",
       "      <td>2.0</td>\n",
       "      <td>No</td>\n",
       "      <td>Male</td>\n",
       "      <td>4/11/1990</td>\n",
       "      <td>WI</td>\n",
       "      <td>712-651-9613</td>\n",
       "      <td>Gold</td>\n",
       "    </tr>\n",
       "    <tr>\n",
       "      <th>1083</th>\n",
       "      <td>12376894</td>\n",
       "      <td>11256802</td>\n",
       "      <td>Other driver error</td>\n",
       "      <td>4/18/2017</td>\n",
       "      <td>Auto</td>\n",
       "      <td>No</td>\n",
       "      <td>Material only</td>\n",
       "      <td>2840</td>\n",
       "      <td>4.0</td>\n",
       "      <td>No</td>\n",
       "      <td>Female</td>\n",
       "      <td>10/22/1964</td>\n",
       "      <td>LA</td>\n",
       "      <td>469-345-5617</td>\n",
       "      <td>Silver</td>\n",
       "    </tr>\n",
       "    <tr>\n",
       "      <th>1084</th>\n",
       "      <td>63226031</td>\n",
       "      <td>61575264</td>\n",
       "      <td>Natural causes</td>\n",
       "      <td>3/16/2017</td>\n",
       "      <td>Auto</td>\n",
       "      <td>No</td>\n",
       "      <td>Material only</td>\n",
       "      <td>1490</td>\n",
       "      <td>1.0</td>\n",
       "      <td>No</td>\n",
       "      <td>Male</td>\n",
       "      <td>7/12/1995</td>\n",
       "      <td>WY</td>\n",
       "      <td>182-385-1392</td>\n",
       "      <td>Gold</td>\n",
       "    </tr>\n",
       "  </tbody>\n",
       "</table>\n",
       "<p>1085 rows × 15 columns</p>\n",
       "</div>"
      ],
      "text/plain": [
       "      claim_id  customer_id      incident_cause  claim_date claim_area  \\\n",
       "0     54004764     21868593        Driver error  11/27/2017       Auto   \n",
       "1     33985796     75740424               Crime   10/3/2018       Home   \n",
       "2     53522022     30308357  Other driver error    2/2/2018       Auto   \n",
       "3     13015401     47830476      Natural causes   6/17/2018       Auto   \n",
       "4     22890252     19269962               Crime   1/13/2018       Auto   \n",
       "...        ...          ...                 ...         ...        ...   \n",
       "1080  62020796     79539873  Other driver error    9/6/2018       Auto   \n",
       "1081  63269067     42364152        Other causes    5/9/2017       Home   \n",
       "1082  22690595     19888166  Other driver error   5/15/2017       Auto   \n",
       "1083  12376894     11256802  Other driver error   4/18/2017       Auto   \n",
       "1084  63226031     61575264      Natural causes   3/16/2017       Auto   \n",
       "\n",
       "     police_report     claim_type claim_amount  total_policy_claims  \\\n",
       "0               No  Material only        2980                   1.0   \n",
       "1          Unknown  Material only        2980                   3.0   \n",
       "2               No  Material only     3369.50                   1.0   \n",
       "3               No  Material only        1680                   1.0   \n",
       "4               No  Material only        2680                   1.0   \n",
       "...            ...            ...          ...                  ...   \n",
       "1080           Yes  Material only        1770                   1.0   \n",
       "1081            No  Material only        2800                   1.0   \n",
       "1082           Yes    Injury only       33080                   2.0   \n",
       "1083            No  Material only        2840                   4.0   \n",
       "1084            No  Material only        1490                   1.0   \n",
       "\n",
       "     fraudulent  gender DateOfBirth State       Contact   Segment  \n",
       "0            No  Female   1/12/1979    VT  789-916-8172  Platinum  \n",
       "1            No  Female   1/13/1970    ME  265-543-1264    Silver  \n",
       "2           Yes  Female   3/11/1984    TN  798-631-4758    Silver  \n",
       "3            No  Female    5/1/1986    MA  413-187-7945    Silver  \n",
       "4            No    Male   5/13/1977    NV  956-871-8691      Gold  \n",
       "...         ...     ...         ...   ...           ...       ...  \n",
       "1080         No  Female   3/15/1981    ND  459-425-4319  Platinum  \n",
       "1081         No  Female    7/7/1996    ID  529-462-1635    Silver  \n",
       "1082         No    Male   4/11/1990    WI  712-651-9613      Gold  \n",
       "1083         No  Female  10/22/1964    LA  469-345-5617    Silver  \n",
       "1084         No    Male   7/12/1995    WY  182-385-1392      Gold  \n",
       "\n",
       "[1085 rows x 15 columns]"
      ]
     },
     "execution_count": 19,
     "metadata": {},
     "output_type": "execute_result"
    }
   ],
   "source": [
    "# Cek Data \n",
    "df_cleaned"
   ]
  },
  {
   "cell_type": "markdown",
   "metadata": {},
   "source": [
    "Setelah dilakukan penghapusan data, dapat dilihat bahwa baris yang semula 1100 menjadi 1085 baris karena dikurang 15 missing value. Jumlah baris tersebut sama dengan jumlah baris cust demography yang mana memiliki kolom cust_id yang berbeda-beda, namun dilihat dari value count pada customer id ternyata terdapat pelanggan yang klaim lebih dari 1 kali. Artinya, terdapat dalam data cust demography ada yang tidak melakukan klaim asuransi pada periode 2017-2018."
   ]
  },
  {
   "cell_type": "markdown",
   "metadata": {},
   "source": [
    "#### Missing Value pada kolom `claim_amount` "
   ]
  },
  {
   "cell_type": "code",
   "execution_count": 20,
   "metadata": {},
   "outputs": [],
   "source": [
    "# Memisahkan missing value pada kolom claim_amount dan disimpan dalam variabel claim_amount_mv\n",
    "claim_amount_mv = df_cleaned[df_cleaned.claim_amount.isna()]"
   ]
  },
  {
   "cell_type": "code",
   "execution_count": 21,
   "metadata": {},
   "outputs": [
    {
     "data": {
      "text/plain": [
       "claim_id                0\n",
       "customer_id             0\n",
       "incident_cause          0\n",
       "claim_date              0\n",
       "claim_area              0\n",
       "police_report           0\n",
       "claim_type              0\n",
       "claim_amount           65\n",
       "total_policy_claims     1\n",
       "fraudulent              0\n",
       "gender                  0\n",
       "DateOfBirth             0\n",
       "State                   0\n",
       "Contact                 0\n",
       "Segment                 0\n",
       "dtype: int64"
      ]
     },
     "execution_count": 21,
     "metadata": {},
     "output_type": "execute_result"
    }
   ],
   "source": [
    "# Mengecek kembali jumlah missing value \n",
    "claim_amount_mv.isna().sum()"
   ]
  },
  {
   "cell_type": "code",
   "execution_count": 22,
   "metadata": {},
   "outputs": [
    {
     "data": {
      "text/plain": [
       "65"
      ]
     },
     "execution_count": 22,
     "metadata": {},
     "output_type": "execute_result"
    }
   ],
   "source": [
    "len(claim_amount_mv)"
   ]
  },
  {
   "cell_type": "markdown",
   "metadata": {},
   "source": [
    "Dari kedua pengecekan tersebut terbukti missing value pada kolom `claim_amount` berjumlah 65."
   ]
  },
  {
   "cell_type": "markdown",
   "metadata": {},
   "source": [
    "Missing value untuk `claim_amount` tersebut tergolong MCAR (Missing Completely At Random) dikarenakan hilangnya data tersebut sepenuhnya acak dan tidak bergantung pada nilai variabel lain maupun nilai dari variabel itu sendiri. Semua pengisian dilakukan oleh piha asuransi yang berarti bisa teridentifikasi akibat human error.\n",
    "\n",
    "Karena tergolong MCAR dan merupakan data numerik, maka dilakukan missing values handling dengan mean sehingga tidak akan memperkenalkan bias yang signifikan."
   ]
  },
  {
   "cell_type": "code",
   "execution_count": 23,
   "metadata": {},
   "outputs": [
    {
     "name": "stderr",
     "output_type": "stream",
     "text": [
      "C:\\Users\\LENOVO\\AppData\\Local\\Temp\\ipykernel_12004\\3280137864.py:2: SettingWithCopyWarning: \n",
      "A value is trying to be set on a copy of a slice from a DataFrame.\n",
      "Try using .loc[row_indexer,col_indexer] = value instead\n",
      "\n",
      "See the caveats in the documentation: https://pandas.pydata.org/pandas-docs/stable/user_guide/indexing.html#returning-a-view-versus-a-copy\n",
      "  df_cleaned['claim_amount'] = pd.to_numeric(df_cleaned['claim_amount'], errors='coerce')\n",
      "C:\\Users\\LENOVO\\AppData\\Local\\Temp\\ipykernel_12004\\3280137864.py:5: FutureWarning: A value is trying to be set on a copy of a DataFrame or Series through chained assignment using an inplace method.\n",
      "The behavior will change in pandas 3.0. This inplace method will never work because the intermediate object on which we are setting values always behaves as a copy.\n",
      "\n",
      "For example, when doing 'df[col].method(value, inplace=True)', try using 'df.method({col: value}, inplace=True)' or df[col] = df[col].method(value) instead, to perform the operation inplace on the original object.\n",
      "\n",
      "\n",
      "  df_cleaned['claim_amount'].fillna(df_cleaned['claim_amount'].mean(), inplace=True)\n",
      "C:\\Users\\LENOVO\\AppData\\Local\\Temp\\ipykernel_12004\\3280137864.py:5: SettingWithCopyWarning: \n",
      "A value is trying to be set on a copy of a slice from a DataFrame\n",
      "\n",
      "See the caveats in the documentation: https://pandas.pydata.org/pandas-docs/stable/user_guide/indexing.html#returning-a-view-versus-a-copy\n",
      "  df_cleaned['claim_amount'].fillna(df_cleaned['claim_amount'].mean(), inplace=True)\n"
     ]
    }
   ],
   "source": [
    "# Mengubah claim_amount menjadi numeric\n",
    "df_cleaned['claim_amount'] = pd.to_numeric(df_cleaned['claim_amount'], errors='coerce')\n",
    "\n",
    "# Mengisi missing value dengan nilai rata-rata \n",
    "df_cleaned['claim_amount'].fillna(df_cleaned['claim_amount'].mean(), inplace=True)"
   ]
  },
  {
   "cell_type": "code",
   "execution_count": 24,
   "metadata": {},
   "outputs": [
    {
     "data": {
      "text/plain": [
       "claim_id                0\n",
       "customer_id             0\n",
       "incident_cause          0\n",
       "claim_date              0\n",
       "claim_area              0\n",
       "police_report           0\n",
       "claim_type              0\n",
       "claim_amount            0\n",
       "total_policy_claims    10\n",
       "fraudulent              0\n",
       "gender                  0\n",
       "DateOfBirth             0\n",
       "State                   0\n",
       "Contact                 0\n",
       "Segment                 0\n",
       "dtype: int64"
      ]
     },
     "execution_count": 24,
     "metadata": {},
     "output_type": "execute_result"
    }
   ],
   "source": [
    "# Mengecek missing value \n",
    "df_cleaned.isnull().sum()"
   ]
  },
  {
   "cell_type": "markdown",
   "metadata": {},
   "source": [
    "Missing value pada kolom `claim_amount` berhasil ditangani sehingga kini berjumlah 0."
   ]
  },
  {
   "cell_type": "markdown",
   "metadata": {},
   "source": [
    "#### Missing Value pada kolom `total_policy_claims` "
   ]
  },
  {
   "cell_type": "code",
   "execution_count": 25,
   "metadata": {},
   "outputs": [],
   "source": [
    "# Memisahkan missing value pada kolom total_policy_claims dan disimpan dalam variabel total_policy_claims_mv\n",
    "total_policy_claims_mv = df_cleaned[df_cleaned.total_policy_claims.isna()]"
   ]
  },
  {
   "cell_type": "code",
   "execution_count": 26,
   "metadata": {},
   "outputs": [
    {
     "data": {
      "text/plain": [
       "claim_id                0\n",
       "customer_id             0\n",
       "incident_cause          0\n",
       "claim_date              0\n",
       "claim_area              0\n",
       "police_report           0\n",
       "claim_type              0\n",
       "claim_amount            0\n",
       "total_policy_claims    10\n",
       "fraudulent              0\n",
       "gender                  0\n",
       "DateOfBirth             0\n",
       "State                   0\n",
       "Contact                 0\n",
       "Segment                 0\n",
       "dtype: int64"
      ]
     },
     "execution_count": 26,
     "metadata": {},
     "output_type": "execute_result"
    }
   ],
   "source": [
    "# Mengecek kembali jumlah missing value \n",
    "total_policy_claims_mv.isna().sum()"
   ]
  },
  {
   "cell_type": "code",
   "execution_count": 27,
   "metadata": {},
   "outputs": [
    {
     "data": {
      "text/plain": [
       "10"
      ]
     },
     "execution_count": 27,
     "metadata": {},
     "output_type": "execute_result"
    }
   ],
   "source": [
    "len(total_policy_claims_mv)"
   ]
  },
  {
   "cell_type": "markdown",
   "metadata": {},
   "source": [
    "Dari kedua pengecekan tersebut terbukti missing value pada kolom `total_policy_claims` berjumlah 10."
   ]
  },
  {
   "cell_type": "markdown",
   "metadata": {},
   "source": [
    "Missing value untuk `total_policy_claims` tersebut tergolong MCAR (Missing Completely At Random) dikarenakan hilangnya data tersebut sepenuhnya acak dan tidak bergantung pada nilai variabel lain maupun nilai dari variabel itu sendiri. Semua pengisian dilakukan oleh piha asuransi yang berarti bisa teridentifikasi akibat human error.\n",
    "\n",
    "Karena tergolong MCAR dan merupakan data numerik, maka dilakukan missing values handling dengan mean sehingga tidak akan memperkenalkan bias yang signifikan."
   ]
  },
  {
   "cell_type": "code",
   "execution_count": 28,
   "metadata": {},
   "outputs": [
    {
     "name": "stderr",
     "output_type": "stream",
     "text": [
      "C:\\Users\\LENOVO\\AppData\\Local\\Temp\\ipykernel_12004\\2493914129.py:2: FutureWarning: A value is trying to be set on a copy of a DataFrame or Series through chained assignment using an inplace method.\n",
      "The behavior will change in pandas 3.0. This inplace method will never work because the intermediate object on which we are setting values always behaves as a copy.\n",
      "\n",
      "For example, when doing 'df[col].method(value, inplace=True)', try using 'df.method({col: value}, inplace=True)' or df[col] = df[col].method(value) instead, to perform the operation inplace on the original object.\n",
      "\n",
      "\n",
      "  df_cleaned['total_policy_claims'].fillna(df_cleaned['total_policy_claims'].mean(), inplace=True)\n",
      "C:\\Users\\LENOVO\\AppData\\Local\\Temp\\ipykernel_12004\\2493914129.py:2: SettingWithCopyWarning: \n",
      "A value is trying to be set on a copy of a slice from a DataFrame\n",
      "\n",
      "See the caveats in the documentation: https://pandas.pydata.org/pandas-docs/stable/user_guide/indexing.html#returning-a-view-versus-a-copy\n",
      "  df_cleaned['total_policy_claims'].fillna(df_cleaned['total_policy_claims'].mean(), inplace=True)\n"
     ]
    }
   ],
   "source": [
    "# Mengisi missing value dengan nilai rata-rata \n",
    "df_cleaned['total_policy_claims'].fillna(df_cleaned['total_policy_claims'].mean(), inplace=True)"
   ]
  },
  {
   "cell_type": "code",
   "execution_count": 29,
   "metadata": {},
   "outputs": [
    {
     "data": {
      "text/plain": [
       "claim_id               0\n",
       "customer_id            0\n",
       "incident_cause         0\n",
       "claim_date             0\n",
       "claim_area             0\n",
       "police_report          0\n",
       "claim_type             0\n",
       "claim_amount           0\n",
       "total_policy_claims    0\n",
       "fraudulent             0\n",
       "gender                 0\n",
       "DateOfBirth            0\n",
       "State                  0\n",
       "Contact                0\n",
       "Segment                0\n",
       "dtype: int64"
      ]
     },
     "execution_count": 29,
     "metadata": {},
     "output_type": "execute_result"
    }
   ],
   "source": [
    "# Mengecek missing value \n",
    "df_cleaned.isnull().sum()"
   ]
  },
  {
   "cell_type": "markdown",
   "metadata": {},
   "source": [
    "Missing value pada kolom `total_policy_claims` berhasil ditangani sehingga kini berjumlah 0."
   ]
  },
  {
   "cell_type": "markdown",
   "metadata": {},
   "source": [
    "### Data Types Handling"
   ]
  },
  {
   "cell_type": "markdown",
   "metadata": {},
   "source": [
    "Cleaning ini dimaksud untuk mengubah tipe data pada `claim_date` dan `DateOfBirth` menjadi datetimes dan `total_policy_claims` menjadi integer."
   ]
  },
  {
   "cell_type": "code",
   "execution_count": 30,
   "metadata": {},
   "outputs": [
    {
     "data": {
      "text/plain": [
       "claim_id                 int64\n",
       "customer_id              int64\n",
       "incident_cause          object\n",
       "claim_date              object\n",
       "claim_area              object\n",
       "police_report           object\n",
       "claim_type              object\n",
       "claim_amount           float64\n",
       "total_policy_claims    float64\n",
       "fraudulent              object\n",
       "gender                  object\n",
       "DateOfBirth             object\n",
       "State                   object\n",
       "Contact                 object\n",
       "Segment                 object\n",
       "dtype: object"
      ]
     },
     "execution_count": 30,
     "metadata": {},
     "output_type": "execute_result"
    }
   ],
   "source": [
    "df_cleaned.dtypes"
   ]
  },
  {
   "cell_type": "code",
   "execution_count": 31,
   "metadata": {},
   "outputs": [
    {
     "name": "stdout",
     "output_type": "stream",
     "text": [
      "<class 'pandas.core.frame.DataFrame'>\n",
      "Index: 1085 entries, 0 to 1084\n",
      "Data columns (total 15 columns):\n",
      " #   Column               Non-Null Count  Dtype         \n",
      "---  ------               --------------  -----         \n",
      " 0   claim_id             1085 non-null   int64         \n",
      " 1   customer_id          1085 non-null   int64         \n",
      " 2   incident_cause       1085 non-null   object        \n",
      " 3   claim_date           1085 non-null   datetime64[ns]\n",
      " 4   claim_area           1085 non-null   object        \n",
      " 5   police_report        1085 non-null   object        \n",
      " 6   claim_type           1085 non-null   object        \n",
      " 7   claim_amount         1085 non-null   float64       \n",
      " 8   total_policy_claims  1085 non-null   int64         \n",
      " 9   fraudulent           1085 non-null   object        \n",
      " 10  gender               1085 non-null   object        \n",
      " 11  DateOfBirth          1085 non-null   datetime64[ns]\n",
      " 12  State                1085 non-null   object        \n",
      " 13  Contact              1085 non-null   object        \n",
      " 14  Segment              1085 non-null   object        \n",
      "dtypes: datetime64[ns](2), float64(1), int64(3), object(9)\n",
      "memory usage: 135.6+ KB\n"
     ]
    },
    {
     "name": "stderr",
     "output_type": "stream",
     "text": [
      "C:\\Users\\LENOVO\\AppData\\Local\\Temp\\ipykernel_12004\\3905901197.py:2: SettingWithCopyWarning: \n",
      "A value is trying to be set on a copy of a slice from a DataFrame.\n",
      "Try using .loc[row_indexer,col_indexer] = value instead\n",
      "\n",
      "See the caveats in the documentation: https://pandas.pydata.org/pandas-docs/stable/user_guide/indexing.html#returning-a-view-versus-a-copy\n",
      "  df_cleaned['claim_date'] = pd.to_datetime(df_cleaned['claim_date'])\n",
      "C:\\Users\\LENOVO\\AppData\\Local\\Temp\\ipykernel_12004\\3905901197.py:3: SettingWithCopyWarning: \n",
      "A value is trying to be set on a copy of a slice from a DataFrame.\n",
      "Try using .loc[row_indexer,col_indexer] = value instead\n",
      "\n",
      "See the caveats in the documentation: https://pandas.pydata.org/pandas-docs/stable/user_guide/indexing.html#returning-a-view-versus-a-copy\n",
      "  df_cleaned['total_policy_claims'] = df_cleaned['total_policy_claims'].astype(int)\n",
      "C:\\Users\\LENOVO\\AppData\\Local\\Temp\\ipykernel_12004\\3905901197.py:4: SettingWithCopyWarning: \n",
      "A value is trying to be set on a copy of a slice from a DataFrame.\n",
      "Try using .loc[row_indexer,col_indexer] = value instead\n",
      "\n",
      "See the caveats in the documentation: https://pandas.pydata.org/pandas-docs/stable/user_guide/indexing.html#returning-a-view-versus-a-copy\n",
      "  df_cleaned['DateOfBirth'] = pd.to_datetime(df_cleaned['DateOfBirth'])\n"
     ]
    }
   ],
   "source": [
    "# Perubahan Tipe Data \n",
    "df_cleaned['claim_date'] = pd.to_datetime(df_cleaned['claim_date'])\n",
    "df_cleaned['total_policy_claims'] = df_cleaned['total_policy_claims'].astype(int)\n",
    "df_cleaned['DateOfBirth'] = pd.to_datetime(df_cleaned['DateOfBirth'])\n",
    "\n",
    "# Cek Hasilnya \n",
    "df_cleaned.info()"
   ]
  },
  {
   "cell_type": "markdown",
   "metadata": {},
   "source": [
    "Tipe data kini sudah sesuai dan bisa dilakukan analisis berikutnya. "
   ]
  },
  {
   "cell_type": "markdown",
   "metadata": {},
   "source": [
    "#### Column `State` Handling "
   ]
  },
  {
   "cell_type": "markdown",
   "metadata": {},
   "source": [
    "Handling yang dimaksud untuk tidak menjadikan state dalam bentuk inisial. "
   ]
  },
  {
   "cell_type": "code",
   "execution_count": 32,
   "metadata": {},
   "outputs": [
    {
     "name": "stdout",
     "output_type": "stream",
     "text": [
      "Daftar unique value untuk state yaitu: ['VT' 'ME' 'TN' 'MA' 'NV' 'NH' 'AR' 'AK' 'ID' 'RI' 'KY' 'MD' 'MI' 'IL'\n",
      " 'WA' 'SC' 'OK' 'KS' 'CT' 'IN' 'UT' 'AZ' 'IA' 'NM' 'WI' 'WY' 'NY' 'LA'\n",
      " 'DE' 'GA' 'OH' 'SD' 'WV' 'NJ' 'TX' 'CA' 'NC' 'MT' 'VA' 'OR' 'AL' 'HI'\n",
      " 'ND' 'MN' 'MO' 'CO' 'FL' 'NE' 'MS' 'PA']\n",
      "Jumlah unique value untuk state yaitu: 50\n"
     ]
    }
   ],
   "source": [
    "# Mengetahui daftar unique value \n",
    "uv_State = df_cleaned['State'].unique()\n",
    "print(f\"Daftar unique value untuk state yaitu: {uv_State}\")\n",
    "\n",
    "# Mengetahui banyaknya unique value \n",
    "uvn_State = df_cleaned['State'].nunique()\n",
    "print(f\"Jumlah unique value untuk state yaitu: {uvn_State}\")\n"
   ]
  },
  {
   "cell_type": "markdown",
   "metadata": {},
   "source": [
    "Pada kolom `state` terdapat 50 unique value yaitu\n",
    "  - VT = Vermont\n",
    "  - ME = Maine\n",
    "  - TN = Tennessee\n",
    "  - MA = Massachusetts\n",
    "  - NV = Nevada\n",
    "  - NH = New Hampshire\n",
    "  - AR = Arkansas\n",
    "  - AK = Alaska\n",
    "  - ID = Idaho\n",
    "  - RI = Rhode Island\n",
    "  - KY = Kentucky\n",
    "  - MD = Maryland\n",
    "  - MI = Michigan\n",
    "  - IL = Illinois\n",
    "  - WA = Washington\n",
    "  - SC = South Carolina\n",
    "  - OK = Oklahoma\n",
    "  - KS = Kansas\n",
    "  - CT = Connecticut\n",
    "  - IN = Indiana\n",
    "  - UT = Utah\n",
    "  - AZ = Arizona\n",
    "  - IA = Iowa\n",
    "  - NM = New Mexico\n",
    "  - WI = Wisconsin\n",
    "  - WY = Wyoming\n",
    "  - NY = New York\n",
    "  - LA = Louisiana\n",
    "  - DE = Delaware\n",
    "  - GA = Georgia\n",
    "  - OH = Ohio\n",
    "  - SD = South Dakota\n",
    "  - WV = West Virginia\n",
    "  - NJ = New Jersey\n",
    "  - TX = Texas\n",
    "  - CA = California\n",
    "  - NC = North Carolina\n",
    "  - MT = Montana\n",
    "  - VA = Virginia\n",
    "  - OR = Oregon\n",
    "  - AL = Alabama\n",
    "  - HI = Hawaii\n",
    "  - ND = North Dakota\n",
    "  - MN = Minnesota\n",
    "  - MO = Missouri\n",
    "  - CO = Colorado\n",
    "  - FL = Florida\n",
    "  - NE = Nebraska\n",
    "  - MS = Mississippi\n",
    "  - PA = Pennsylvania. "
   ]
  },
  {
   "cell_type": "code",
   "execution_count": 33,
   "metadata": {},
   "outputs": [
    {
     "name": "stderr",
     "output_type": "stream",
     "text": [
      "C:\\Users\\LENOVO\\AppData\\Local\\Temp\\ipykernel_12004\\4038516229.py:17: SettingWithCopyWarning: \n",
      "A value is trying to be set on a copy of a slice from a DataFrame.\n",
      "Try using .loc[row_indexer,col_indexer] = value instead\n",
      "\n",
      "See the caveats in the documentation: https://pandas.pydata.org/pandas-docs/stable/user_guide/indexing.html#returning-a-view-versus-a-copy\n",
      "  df_cleaned['State'] = df_cleaned['State'].map(state_map)\n"
     ]
    }
   ],
   "source": [
    "# Mengubah kolom state berdasarkan state_map \n",
    "state_map = {\n",
    "    'VT': 'Vermont', 'ME': 'Maine', 'TN': 'Tennessee', 'MA': 'Massachusetts',\n",
    "    'NV': 'Nevada', 'NH': 'New Hampshire', 'AR': 'Arkansas', 'AK': 'Alaska',\n",
    "    'ID': 'Idaho', 'RI': 'Rhode Island', 'KY': 'Kentucky', 'MD': 'Maryland',\n",
    "    'MI': 'Michigan', 'IL': 'Illinois', 'WA': 'Washington', 'SC': 'South Carolina',\n",
    "    'OK': 'Oklahoma', 'KS': 'Kansas', 'CT': 'Connecticut', 'IN': 'Indiana',\n",
    "    'UT': 'Utah', 'AZ': 'Arizona', 'IA': 'Iowa', 'NM': 'New Mexico', 'WI': 'Wisconsin',\n",
    "    'WY': 'Wyoming', 'NY': 'New York', 'LA': 'Louisiana', 'DE': 'Delaware', 'GA': 'Georgia',\n",
    "    'OH': 'Ohio', 'SD': 'South Dakota', 'WV': 'West Virginia', 'NJ': 'New Jersey',\n",
    "    'TX': 'Texas', 'CA': 'California', 'NC': 'North Carolina', 'MT': 'Montana',\n",
    "    'VA': 'Virginia', 'OR': 'Oregon', 'AL': 'Alabama', 'HI': 'Hawaii', 'ND': 'North Dakota',\n",
    "    'MN': 'Minnesota', 'MO': 'Missouri', 'CO': 'Colorado', 'FL': 'Florida', 'NE': 'Nebraska',\n",
    "    'MS': 'Mississippi', 'PA': 'Pennsylvania'\n",
    "}\n",
    "\n",
    "df_cleaned['State'] = df_cleaned['State'].map(state_map)\n"
   ]
  },
  {
   "cell_type": "code",
   "execution_count": 34,
   "metadata": {},
   "outputs": [
    {
     "data": {
      "text/html": [
       "<div>\n",
       "<style scoped>\n",
       "    .dataframe tbody tr th:only-of-type {\n",
       "        vertical-align: middle;\n",
       "    }\n",
       "\n",
       "    .dataframe tbody tr th {\n",
       "        vertical-align: top;\n",
       "    }\n",
       "\n",
       "    .dataframe thead th {\n",
       "        text-align: right;\n",
       "    }\n",
       "</style>\n",
       "<table border=\"1\" class=\"dataframe\">\n",
       "  <thead>\n",
       "    <tr style=\"text-align: right;\">\n",
       "      <th></th>\n",
       "      <th>claim_id</th>\n",
       "      <th>customer_id</th>\n",
       "      <th>incident_cause</th>\n",
       "      <th>claim_date</th>\n",
       "      <th>claim_area</th>\n",
       "      <th>police_report</th>\n",
       "      <th>claim_type</th>\n",
       "      <th>claim_amount</th>\n",
       "      <th>total_policy_claims</th>\n",
       "      <th>fraudulent</th>\n",
       "      <th>gender</th>\n",
       "      <th>DateOfBirth</th>\n",
       "      <th>State</th>\n",
       "      <th>Contact</th>\n",
       "      <th>Segment</th>\n",
       "    </tr>\n",
       "  </thead>\n",
       "  <tbody>\n",
       "    <tr>\n",
       "      <th>0</th>\n",
       "      <td>54004764</td>\n",
       "      <td>21868593</td>\n",
       "      <td>Driver error</td>\n",
       "      <td>2017-11-27</td>\n",
       "      <td>Auto</td>\n",
       "      <td>No</td>\n",
       "      <td>Material only</td>\n",
       "      <td>2980.0</td>\n",
       "      <td>1</td>\n",
       "      <td>No</td>\n",
       "      <td>Female</td>\n",
       "      <td>1979-01-12</td>\n",
       "      <td>Vermont</td>\n",
       "      <td>789-916-8172</td>\n",
       "      <td>Platinum</td>\n",
       "    </tr>\n",
       "    <tr>\n",
       "      <th>1</th>\n",
       "      <td>33985796</td>\n",
       "      <td>75740424</td>\n",
       "      <td>Crime</td>\n",
       "      <td>2018-10-03</td>\n",
       "      <td>Home</td>\n",
       "      <td>Unknown</td>\n",
       "      <td>Material only</td>\n",
       "      <td>2980.0</td>\n",
       "      <td>3</td>\n",
       "      <td>No</td>\n",
       "      <td>Female</td>\n",
       "      <td>1970-01-13</td>\n",
       "      <td>Maine</td>\n",
       "      <td>265-543-1264</td>\n",
       "      <td>Silver</td>\n",
       "    </tr>\n",
       "    <tr>\n",
       "      <th>2</th>\n",
       "      <td>53522022</td>\n",
       "      <td>30308357</td>\n",
       "      <td>Other driver error</td>\n",
       "      <td>2018-02-02</td>\n",
       "      <td>Auto</td>\n",
       "      <td>No</td>\n",
       "      <td>Material only</td>\n",
       "      <td>3369.5</td>\n",
       "      <td>1</td>\n",
       "      <td>Yes</td>\n",
       "      <td>Female</td>\n",
       "      <td>1984-03-11</td>\n",
       "      <td>Tennessee</td>\n",
       "      <td>798-631-4758</td>\n",
       "      <td>Silver</td>\n",
       "    </tr>\n",
       "    <tr>\n",
       "      <th>3</th>\n",
       "      <td>13015401</td>\n",
       "      <td>47830476</td>\n",
       "      <td>Natural causes</td>\n",
       "      <td>2018-06-17</td>\n",
       "      <td>Auto</td>\n",
       "      <td>No</td>\n",
       "      <td>Material only</td>\n",
       "      <td>1680.0</td>\n",
       "      <td>1</td>\n",
       "      <td>No</td>\n",
       "      <td>Female</td>\n",
       "      <td>1986-05-01</td>\n",
       "      <td>Massachusetts</td>\n",
       "      <td>413-187-7945</td>\n",
       "      <td>Silver</td>\n",
       "    </tr>\n",
       "    <tr>\n",
       "      <th>4</th>\n",
       "      <td>22890252</td>\n",
       "      <td>19269962</td>\n",
       "      <td>Crime</td>\n",
       "      <td>2018-01-13</td>\n",
       "      <td>Auto</td>\n",
       "      <td>No</td>\n",
       "      <td>Material only</td>\n",
       "      <td>2680.0</td>\n",
       "      <td>1</td>\n",
       "      <td>No</td>\n",
       "      <td>Male</td>\n",
       "      <td>1977-05-13</td>\n",
       "      <td>Nevada</td>\n",
       "      <td>956-871-8691</td>\n",
       "      <td>Gold</td>\n",
       "    </tr>\n",
       "    <tr>\n",
       "      <th>5</th>\n",
       "      <td>24050443</td>\n",
       "      <td>21831191</td>\n",
       "      <td>Other driver error</td>\n",
       "      <td>2017-10-04</td>\n",
       "      <td>Auto</td>\n",
       "      <td>No</td>\n",
       "      <td>Injury only</td>\n",
       "      <td>38306.5</td>\n",
       "      <td>3</td>\n",
       "      <td>Yes</td>\n",
       "      <td>Male</td>\n",
       "      <td>1977-05-17</td>\n",
       "      <td>New Hampshire</td>\n",
       "      <td>419-712-8513</td>\n",
       "      <td>Gold</td>\n",
       "    </tr>\n",
       "    <tr>\n",
       "      <th>6</th>\n",
       "      <td>12878692</td>\n",
       "      <td>18401412</td>\n",
       "      <td>Driver error</td>\n",
       "      <td>2018-01-13</td>\n",
       "      <td>Auto</td>\n",
       "      <td>No</td>\n",
       "      <td>Material only</td>\n",
       "      <td>1730.0</td>\n",
       "      <td>4</td>\n",
       "      <td>No</td>\n",
       "      <td>Male</td>\n",
       "      <td>1999-03-02</td>\n",
       "      <td>Arkansas</td>\n",
       "      <td>752-398-2914</td>\n",
       "      <td>Gold</td>\n",
       "    </tr>\n",
       "    <tr>\n",
       "      <th>7</th>\n",
       "      <td>27026412</td>\n",
       "      <td>73486606</td>\n",
       "      <td>Natural causes</td>\n",
       "      <td>2018-04-10</td>\n",
       "      <td>Auto</td>\n",
       "      <td>No</td>\n",
       "      <td>Material only</td>\n",
       "      <td>1160.0</td>\n",
       "      <td>3</td>\n",
       "      <td>No</td>\n",
       "      <td>Male</td>\n",
       "      <td>1999-10-25</td>\n",
       "      <td>Alaska</td>\n",
       "      <td>256-968-9172</td>\n",
       "      <td>Silver</td>\n",
       "    </tr>\n",
       "    <tr>\n",
       "      <th>8</th>\n",
       "      <td>43908336</td>\n",
       "      <td>32813689</td>\n",
       "      <td>Crime</td>\n",
       "      <td>2018-02-15</td>\n",
       "      <td>Auto</td>\n",
       "      <td>Unknown</td>\n",
       "      <td>Material only</td>\n",
       "      <td>2620.0</td>\n",
       "      <td>1</td>\n",
       "      <td>No</td>\n",
       "      <td>Male</td>\n",
       "      <td>1993-10-12</td>\n",
       "      <td>Idaho</td>\n",
       "      <td>142-324-7481</td>\n",
       "      <td>Silver</td>\n",
       "    </tr>\n",
       "    <tr>\n",
       "      <th>9</th>\n",
       "      <td>63246959</td>\n",
       "      <td>33507197</td>\n",
       "      <td>Crime</td>\n",
       "      <td>2017-07-22</td>\n",
       "      <td>Auto</td>\n",
       "      <td>No</td>\n",
       "      <td>Material only</td>\n",
       "      <td>2748.5</td>\n",
       "      <td>2</td>\n",
       "      <td>Yes</td>\n",
       "      <td>Female</td>\n",
       "      <td>1966-09-09</td>\n",
       "      <td>Rhode Island</td>\n",
       "      <td>165-519-4583</td>\n",
       "      <td>Gold</td>\n",
       "    </tr>\n",
       "  </tbody>\n",
       "</table>\n",
       "</div>"
      ],
      "text/plain": [
       "   claim_id  customer_id      incident_cause claim_date claim_area  \\\n",
       "0  54004764     21868593        Driver error 2017-11-27       Auto   \n",
       "1  33985796     75740424               Crime 2018-10-03       Home   \n",
       "2  53522022     30308357  Other driver error 2018-02-02       Auto   \n",
       "3  13015401     47830476      Natural causes 2018-06-17       Auto   \n",
       "4  22890252     19269962               Crime 2018-01-13       Auto   \n",
       "5  24050443     21831191  Other driver error 2017-10-04       Auto   \n",
       "6  12878692     18401412        Driver error 2018-01-13       Auto   \n",
       "7  27026412     73486606      Natural causes 2018-04-10       Auto   \n",
       "8  43908336     32813689               Crime 2018-02-15       Auto   \n",
       "9  63246959     33507197               Crime 2017-07-22       Auto   \n",
       "\n",
       "  police_report     claim_type  claim_amount  total_policy_claims fraudulent  \\\n",
       "0            No  Material only        2980.0                    1         No   \n",
       "1       Unknown  Material only        2980.0                    3         No   \n",
       "2            No  Material only        3369.5                    1        Yes   \n",
       "3            No  Material only        1680.0                    1         No   \n",
       "4            No  Material only        2680.0                    1         No   \n",
       "5            No    Injury only       38306.5                    3        Yes   \n",
       "6            No  Material only        1730.0                    4         No   \n",
       "7            No  Material only        1160.0                    3         No   \n",
       "8       Unknown  Material only        2620.0                    1         No   \n",
       "9            No  Material only        2748.5                    2        Yes   \n",
       "\n",
       "   gender DateOfBirth          State       Contact   Segment  \n",
       "0  Female  1979-01-12        Vermont  789-916-8172  Platinum  \n",
       "1  Female  1970-01-13          Maine  265-543-1264    Silver  \n",
       "2  Female  1984-03-11      Tennessee  798-631-4758    Silver  \n",
       "3  Female  1986-05-01  Massachusetts  413-187-7945    Silver  \n",
       "4    Male  1977-05-13         Nevada  956-871-8691      Gold  \n",
       "5    Male  1977-05-17  New Hampshire  419-712-8513      Gold  \n",
       "6    Male  1999-03-02       Arkansas  752-398-2914      Gold  \n",
       "7    Male  1999-10-25         Alaska  256-968-9172    Silver  \n",
       "8    Male  1993-10-12          Idaho  142-324-7481    Silver  \n",
       "9  Female  1966-09-09   Rhode Island  165-519-4583      Gold  "
      ]
     },
     "execution_count": 34,
     "metadata": {},
     "output_type": "execute_result"
    }
   ],
   "source": [
    "# Mengecek hasil \n",
    "df_cleaned.head(10)"
   ]
  },
  {
   "cell_type": "markdown",
   "metadata": {},
   "source": [
    "Data pada kolom `State` berhasil diubah"
   ]
  },
  {
   "cell_type": "markdown",
   "metadata": {},
   "source": [
    "### Adding New Column"
   ]
  },
  {
   "cell_type": "markdown",
   "metadata": {},
   "source": [
    "Kolom yang akan ditambah yaitu kolom umur (Age) mengacu pada kolom DateOfBirth, kolom kategori umur (AgeCategory) berdasarkan kolom Age, dan kolom wilayah (Area) mengacu pada kolom State. Penambahan ketiga kolom ini merupakan kebutuhan analisa untuk memperoleh strategi yang lebih spesifik. "
   ]
  },
  {
   "cell_type": "markdown",
   "metadata": {},
   "source": [
    "#### DateofBirth for Age"
   ]
  },
  {
   "cell_type": "code",
   "execution_count": 35,
   "metadata": {},
   "outputs": [],
   "source": [
    "# Perhiunga umur berdasarkan kolom dateofbirth\n",
    "def calculate_age(born):\n",
    "    today = datetime.today()\n",
    "    return today.year - born.year - ((today.month, today.day) < (born.month, born.day))"
   ]
  },
  {
   "cell_type": "code",
   "execution_count": 36,
   "metadata": {},
   "outputs": [
    {
     "name": "stderr",
     "output_type": "stream",
     "text": [
      "C:\\Users\\LENOVO\\AppData\\Local\\Temp\\ipykernel_12004\\3145867406.py:2: SettingWithCopyWarning: \n",
      "A value is trying to be set on a copy of a slice from a DataFrame.\n",
      "Try using .loc[row_indexer,col_indexer] = value instead\n",
      "\n",
      "See the caveats in the documentation: https://pandas.pydata.org/pandas-docs/stable/user_guide/indexing.html#returning-a-view-versus-a-copy\n",
      "  df_cleaned['Age'] = df_cleaned['DateOfBirth'].apply(calculate_age)\n"
     ]
    }
   ],
   "source": [
    "# Memasukkan hasil perhitungn ke dalam df_cleaned dengan tabel baru bejudul 'Age'\n",
    "df_cleaned['Age'] = df_cleaned['DateOfBirth'].apply(calculate_age)"
   ]
  },
  {
   "cell_type": "code",
   "execution_count": 37,
   "metadata": {},
   "outputs": [
    {
     "data": {
      "text/html": [
       "<div>\n",
       "<style scoped>\n",
       "    .dataframe tbody tr th:only-of-type {\n",
       "        vertical-align: middle;\n",
       "    }\n",
       "\n",
       "    .dataframe tbody tr th {\n",
       "        vertical-align: top;\n",
       "    }\n",
       "\n",
       "    .dataframe thead th {\n",
       "        text-align: right;\n",
       "    }\n",
       "</style>\n",
       "<table border=\"1\" class=\"dataframe\">\n",
       "  <thead>\n",
       "    <tr style=\"text-align: right;\">\n",
       "      <th></th>\n",
       "      <th>claim_id</th>\n",
       "      <th>customer_id</th>\n",
       "      <th>incident_cause</th>\n",
       "      <th>claim_date</th>\n",
       "      <th>claim_area</th>\n",
       "      <th>police_report</th>\n",
       "      <th>claim_type</th>\n",
       "      <th>claim_amount</th>\n",
       "      <th>total_policy_claims</th>\n",
       "      <th>fraudulent</th>\n",
       "      <th>gender</th>\n",
       "      <th>DateOfBirth</th>\n",
       "      <th>State</th>\n",
       "      <th>Contact</th>\n",
       "      <th>Segment</th>\n",
       "      <th>Age</th>\n",
       "    </tr>\n",
       "  </thead>\n",
       "  <tbody>\n",
       "    <tr>\n",
       "      <th>0</th>\n",
       "      <td>54004764</td>\n",
       "      <td>21868593</td>\n",
       "      <td>Driver error</td>\n",
       "      <td>2017-11-27</td>\n",
       "      <td>Auto</td>\n",
       "      <td>No</td>\n",
       "      <td>Material only</td>\n",
       "      <td>2980.0</td>\n",
       "      <td>1</td>\n",
       "      <td>No</td>\n",
       "      <td>Female</td>\n",
       "      <td>1979-01-12</td>\n",
       "      <td>Vermont</td>\n",
       "      <td>789-916-8172</td>\n",
       "      <td>Platinum</td>\n",
       "      <td>45</td>\n",
       "    </tr>\n",
       "    <tr>\n",
       "      <th>1</th>\n",
       "      <td>33985796</td>\n",
       "      <td>75740424</td>\n",
       "      <td>Crime</td>\n",
       "      <td>2018-10-03</td>\n",
       "      <td>Home</td>\n",
       "      <td>Unknown</td>\n",
       "      <td>Material only</td>\n",
       "      <td>2980.0</td>\n",
       "      <td>3</td>\n",
       "      <td>No</td>\n",
       "      <td>Female</td>\n",
       "      <td>1970-01-13</td>\n",
       "      <td>Maine</td>\n",
       "      <td>265-543-1264</td>\n",
       "      <td>Silver</td>\n",
       "      <td>54</td>\n",
       "    </tr>\n",
       "    <tr>\n",
       "      <th>2</th>\n",
       "      <td>53522022</td>\n",
       "      <td>30308357</td>\n",
       "      <td>Other driver error</td>\n",
       "      <td>2018-02-02</td>\n",
       "      <td>Auto</td>\n",
       "      <td>No</td>\n",
       "      <td>Material only</td>\n",
       "      <td>3369.5</td>\n",
       "      <td>1</td>\n",
       "      <td>Yes</td>\n",
       "      <td>Female</td>\n",
       "      <td>1984-03-11</td>\n",
       "      <td>Tennessee</td>\n",
       "      <td>798-631-4758</td>\n",
       "      <td>Silver</td>\n",
       "      <td>40</td>\n",
       "    </tr>\n",
       "    <tr>\n",
       "      <th>3</th>\n",
       "      <td>13015401</td>\n",
       "      <td>47830476</td>\n",
       "      <td>Natural causes</td>\n",
       "      <td>2018-06-17</td>\n",
       "      <td>Auto</td>\n",
       "      <td>No</td>\n",
       "      <td>Material only</td>\n",
       "      <td>1680.0</td>\n",
       "      <td>1</td>\n",
       "      <td>No</td>\n",
       "      <td>Female</td>\n",
       "      <td>1986-05-01</td>\n",
       "      <td>Massachusetts</td>\n",
       "      <td>413-187-7945</td>\n",
       "      <td>Silver</td>\n",
       "      <td>38</td>\n",
       "    </tr>\n",
       "    <tr>\n",
       "      <th>4</th>\n",
       "      <td>22890252</td>\n",
       "      <td>19269962</td>\n",
       "      <td>Crime</td>\n",
       "      <td>2018-01-13</td>\n",
       "      <td>Auto</td>\n",
       "      <td>No</td>\n",
       "      <td>Material only</td>\n",
       "      <td>2680.0</td>\n",
       "      <td>1</td>\n",
       "      <td>No</td>\n",
       "      <td>Male</td>\n",
       "      <td>1977-05-13</td>\n",
       "      <td>Nevada</td>\n",
       "      <td>956-871-8691</td>\n",
       "      <td>Gold</td>\n",
       "      <td>47</td>\n",
       "    </tr>\n",
       "  </tbody>\n",
       "</table>\n",
       "</div>"
      ],
      "text/plain": [
       "   claim_id  customer_id      incident_cause claim_date claim_area  \\\n",
       "0  54004764     21868593        Driver error 2017-11-27       Auto   \n",
       "1  33985796     75740424               Crime 2018-10-03       Home   \n",
       "2  53522022     30308357  Other driver error 2018-02-02       Auto   \n",
       "3  13015401     47830476      Natural causes 2018-06-17       Auto   \n",
       "4  22890252     19269962               Crime 2018-01-13       Auto   \n",
       "\n",
       "  police_report     claim_type  claim_amount  total_policy_claims fraudulent  \\\n",
       "0            No  Material only        2980.0                    1         No   \n",
       "1       Unknown  Material only        2980.0                    3         No   \n",
       "2            No  Material only        3369.5                    1        Yes   \n",
       "3            No  Material only        1680.0                    1         No   \n",
       "4            No  Material only        2680.0                    1         No   \n",
       "\n",
       "   gender DateOfBirth          State       Contact   Segment  Age  \n",
       "0  Female  1979-01-12        Vermont  789-916-8172  Platinum   45  \n",
       "1  Female  1970-01-13          Maine  265-543-1264    Silver   54  \n",
       "2  Female  1984-03-11      Tennessee  798-631-4758    Silver   40  \n",
       "3  Female  1986-05-01  Massachusetts  413-187-7945    Silver   38  \n",
       "4    Male  1977-05-13         Nevada  956-871-8691      Gold   47  "
      ]
     },
     "execution_count": 37,
     "metadata": {},
     "output_type": "execute_result"
    }
   ],
   "source": [
    "df_cleaned.head(5)"
   ]
  },
  {
   "cell_type": "code",
   "execution_count": 38,
   "metadata": {},
   "outputs": [
    {
     "data": {
      "text/plain": [
       "claim_id                        int64\n",
       "customer_id                     int64\n",
       "incident_cause                 object\n",
       "claim_date             datetime64[ns]\n",
       "claim_area                     object\n",
       "police_report                  object\n",
       "claim_type                     object\n",
       "claim_amount                  float64\n",
       "total_policy_claims             int64\n",
       "fraudulent                     object\n",
       "gender                         object\n",
       "DateOfBirth            datetime64[ns]\n",
       "State                          object\n",
       "Contact                        object\n",
       "Segment                        object\n",
       "Age                             int64\n",
       "dtype: object"
      ]
     },
     "execution_count": 38,
     "metadata": {},
     "output_type": "execute_result"
    }
   ],
   "source": [
    "df_cleaned.dtypes"
   ]
  },
  {
   "cell_type": "markdown",
   "metadata": {},
   "source": [
    "Kolom age berhasil ditambahkan dengan tipe data yang sudah sesuai yaitu integer."
   ]
  },
  {
   "cell_type": "markdown",
   "metadata": {},
   "source": [
    "#### Age for AgeCategory"
   ]
  },
  {
   "cell_type": "code",
   "execution_count": 39,
   "metadata": {},
   "outputs": [
    {
     "name": "stdout",
     "output_type": "stream",
     "text": [
      "Daftar unique value untuk Age yaitu: [45 54 40 38 47 25 24 30 57 33 61 55 37 58 44 49 42 29 39 27 62 56 52 35\n",
      " 48 46 34 28 31 53 60 63 36 50 32 64 26 51 41 59 43]\n",
      "Jumlah unique value untuk Age yaitu: 41\n"
     ]
    }
   ],
   "source": [
    "# Mengetahui daftar unique value \n",
    "uv_age = df_cleaned['Age'].unique()\n",
    "print(f\"Daftar unique value untuk Age yaitu: {uv_age}\")\n",
    "\n",
    "# Mengetahui banyaknya unique value \n",
    "uvn_age = df_cleaned['Age'].nunique()\n",
    "print(f\"Jumlah unique value untuk Age yaitu: {uvn_age}\")\n"
   ]
  },
  {
   "cell_type": "markdown",
   "metadata": {},
   "source": [
    "Jika dilihat pada unique value terdapat 41 umur yang berbeda dimulai dari 26 hingga 64 tahun."
   ]
  },
  {
   "cell_type": "markdown",
   "metadata": {},
   "source": [
    "Berdasarkan World Health Organization dengan link https://www.researchgate.net/publication381770194_Public_Health_of_Indonesia_Survival_Analysis_of_Diabetes_Mellitus_and_Cardiovascular_Patients_With_COVID-19_A_Secondary_Data_Analysis. Umur dapat dikategorikan kedalam 4 kategori yaitu anak-anak (Children) 0-14 tahun, Remaja (Youth) 15-24 tahun, Dewasa (Adult) 25-64 tahun, dan senior (>64).\n",
    "\n",
    "Sehingga dilakukan pengelompokkan umur berdasarkan keempat kategori tersebut"
   ]
  },
  {
   "cell_type": "code",
   "execution_count": 40,
   "metadata": {},
   "outputs": [],
   "source": [
    "# Pengkategorian Berdasarkan Umur \n",
    "def age_category(age):\n",
    "    if age < 15:\n",
    "        return 'Children'\n",
    "    elif 15 <= age < 26:\n",
    "        return 'Youth'\n",
    "    elif 26 <= age < 64:\n",
    "        return 'Adult'\n",
    "    else:\n",
    "        return 'Senior'"
   ]
  },
  {
   "cell_type": "code",
   "execution_count": 41,
   "metadata": {},
   "outputs": [
    {
     "name": "stderr",
     "output_type": "stream",
     "text": [
      "C:\\Users\\LENOVO\\AppData\\Local\\Temp\\ipykernel_12004\\905995030.py:2: SettingWithCopyWarning: \n",
      "A value is trying to be set on a copy of a slice from a DataFrame.\n",
      "Try using .loc[row_indexer,col_indexer] = value instead\n",
      "\n",
      "See the caveats in the documentation: https://pandas.pydata.org/pandas-docs/stable/user_guide/indexing.html#returning-a-view-versus-a-copy\n",
      "  df_cleaned['AgeCategory'] = df_cleaned['Age'].apply(age_category)\n"
     ]
    }
   ],
   "source": [
    "# Menghubungkan rumus kategori dengan tabel age yang kemudian disimpan dengan dalam kolom agecategory\n",
    "df_cleaned['AgeCategory'] = df_cleaned['Age'].apply(age_category)"
   ]
  },
  {
   "cell_type": "code",
   "execution_count": 42,
   "metadata": {},
   "outputs": [
    {
     "data": {
      "text/html": [
       "<div>\n",
       "<style scoped>\n",
       "    .dataframe tbody tr th:only-of-type {\n",
       "        vertical-align: middle;\n",
       "    }\n",
       "\n",
       "    .dataframe tbody tr th {\n",
       "        vertical-align: top;\n",
       "    }\n",
       "\n",
       "    .dataframe thead th {\n",
       "        text-align: right;\n",
       "    }\n",
       "</style>\n",
       "<table border=\"1\" class=\"dataframe\">\n",
       "  <thead>\n",
       "    <tr style=\"text-align: right;\">\n",
       "      <th></th>\n",
       "      <th>claim_id</th>\n",
       "      <th>customer_id</th>\n",
       "      <th>incident_cause</th>\n",
       "      <th>claim_date</th>\n",
       "      <th>claim_area</th>\n",
       "      <th>police_report</th>\n",
       "      <th>claim_type</th>\n",
       "      <th>claim_amount</th>\n",
       "      <th>total_policy_claims</th>\n",
       "      <th>fraudulent</th>\n",
       "      <th>gender</th>\n",
       "      <th>DateOfBirth</th>\n",
       "      <th>State</th>\n",
       "      <th>Contact</th>\n",
       "      <th>Segment</th>\n",
       "      <th>Age</th>\n",
       "      <th>AgeCategory</th>\n",
       "    </tr>\n",
       "  </thead>\n",
       "  <tbody>\n",
       "    <tr>\n",
       "      <th>0</th>\n",
       "      <td>54004764</td>\n",
       "      <td>21868593</td>\n",
       "      <td>Driver error</td>\n",
       "      <td>2017-11-27</td>\n",
       "      <td>Auto</td>\n",
       "      <td>No</td>\n",
       "      <td>Material only</td>\n",
       "      <td>2980.0</td>\n",
       "      <td>1</td>\n",
       "      <td>No</td>\n",
       "      <td>Female</td>\n",
       "      <td>1979-01-12</td>\n",
       "      <td>Vermont</td>\n",
       "      <td>789-916-8172</td>\n",
       "      <td>Platinum</td>\n",
       "      <td>45</td>\n",
       "      <td>Adult</td>\n",
       "    </tr>\n",
       "    <tr>\n",
       "      <th>1</th>\n",
       "      <td>33985796</td>\n",
       "      <td>75740424</td>\n",
       "      <td>Crime</td>\n",
       "      <td>2018-10-03</td>\n",
       "      <td>Home</td>\n",
       "      <td>Unknown</td>\n",
       "      <td>Material only</td>\n",
       "      <td>2980.0</td>\n",
       "      <td>3</td>\n",
       "      <td>No</td>\n",
       "      <td>Female</td>\n",
       "      <td>1970-01-13</td>\n",
       "      <td>Maine</td>\n",
       "      <td>265-543-1264</td>\n",
       "      <td>Silver</td>\n",
       "      <td>54</td>\n",
       "      <td>Adult</td>\n",
       "    </tr>\n",
       "    <tr>\n",
       "      <th>2</th>\n",
       "      <td>53522022</td>\n",
       "      <td>30308357</td>\n",
       "      <td>Other driver error</td>\n",
       "      <td>2018-02-02</td>\n",
       "      <td>Auto</td>\n",
       "      <td>No</td>\n",
       "      <td>Material only</td>\n",
       "      <td>3369.5</td>\n",
       "      <td>1</td>\n",
       "      <td>Yes</td>\n",
       "      <td>Female</td>\n",
       "      <td>1984-03-11</td>\n",
       "      <td>Tennessee</td>\n",
       "      <td>798-631-4758</td>\n",
       "      <td>Silver</td>\n",
       "      <td>40</td>\n",
       "      <td>Adult</td>\n",
       "    </tr>\n",
       "    <tr>\n",
       "      <th>3</th>\n",
       "      <td>13015401</td>\n",
       "      <td>47830476</td>\n",
       "      <td>Natural causes</td>\n",
       "      <td>2018-06-17</td>\n",
       "      <td>Auto</td>\n",
       "      <td>No</td>\n",
       "      <td>Material only</td>\n",
       "      <td>1680.0</td>\n",
       "      <td>1</td>\n",
       "      <td>No</td>\n",
       "      <td>Female</td>\n",
       "      <td>1986-05-01</td>\n",
       "      <td>Massachusetts</td>\n",
       "      <td>413-187-7945</td>\n",
       "      <td>Silver</td>\n",
       "      <td>38</td>\n",
       "      <td>Adult</td>\n",
       "    </tr>\n",
       "    <tr>\n",
       "      <th>4</th>\n",
       "      <td>22890252</td>\n",
       "      <td>19269962</td>\n",
       "      <td>Crime</td>\n",
       "      <td>2018-01-13</td>\n",
       "      <td>Auto</td>\n",
       "      <td>No</td>\n",
       "      <td>Material only</td>\n",
       "      <td>2680.0</td>\n",
       "      <td>1</td>\n",
       "      <td>No</td>\n",
       "      <td>Male</td>\n",
       "      <td>1977-05-13</td>\n",
       "      <td>Nevada</td>\n",
       "      <td>956-871-8691</td>\n",
       "      <td>Gold</td>\n",
       "      <td>47</td>\n",
       "      <td>Adult</td>\n",
       "    </tr>\n",
       "  </tbody>\n",
       "</table>\n",
       "</div>"
      ],
      "text/plain": [
       "   claim_id  customer_id      incident_cause claim_date claim_area  \\\n",
       "0  54004764     21868593        Driver error 2017-11-27       Auto   \n",
       "1  33985796     75740424               Crime 2018-10-03       Home   \n",
       "2  53522022     30308357  Other driver error 2018-02-02       Auto   \n",
       "3  13015401     47830476      Natural causes 2018-06-17       Auto   \n",
       "4  22890252     19269962               Crime 2018-01-13       Auto   \n",
       "\n",
       "  police_report     claim_type  claim_amount  total_policy_claims fraudulent  \\\n",
       "0            No  Material only        2980.0                    1         No   \n",
       "1       Unknown  Material only        2980.0                    3         No   \n",
       "2            No  Material only        3369.5                    1        Yes   \n",
       "3            No  Material only        1680.0                    1         No   \n",
       "4            No  Material only        2680.0                    1         No   \n",
       "\n",
       "   gender DateOfBirth          State       Contact   Segment  Age AgeCategory  \n",
       "0  Female  1979-01-12        Vermont  789-916-8172  Platinum   45       Adult  \n",
       "1  Female  1970-01-13          Maine  265-543-1264    Silver   54       Adult  \n",
       "2  Female  1984-03-11      Tennessee  798-631-4758    Silver   40       Adult  \n",
       "3  Female  1986-05-01  Massachusetts  413-187-7945    Silver   38       Adult  \n",
       "4    Male  1977-05-13         Nevada  956-871-8691      Gold   47       Adult  "
      ]
     },
     "execution_count": 42,
     "metadata": {},
     "output_type": "execute_result"
    }
   ],
   "source": [
    "# Mengecek Hasil\n",
    "df_cleaned.head(5)"
   ]
  },
  {
   "cell_type": "markdown",
   "metadata": {},
   "source": [
    "Kolom agecategory berhasil ditambahkan"
   ]
  },
  {
   "cell_type": "markdown",
   "metadata": {},
   "source": [
    "#### State for Region"
   ]
  },
  {
   "cell_type": "markdown",
   "metadata": {},
   "source": [
    "Bersumber dari Wikipedia dengan link https://en.wikipedia.org/wiki/List_of_regions_of_the_United_States, wilayah di US dibagi menjadi 4 yaitu Norteast, Midwest, South, dan West. Oleh sebab itu, akan dibuat kolom area sesuai dengan pembagian tersebut."
   ]
  },
  {
   "cell_type": "code",
   "execution_count": 43,
   "metadata": {},
   "outputs": [],
   "source": [
    "# Pembagian wilayah\n",
    "Northeast = [\"Connecticut\", \"Maine\", \"Massachusetts\", \"New Hampshire\", \"New Jersey\", \"New York\", \"Pennsylvania\", \"Rhode Island\", \"Vermont\"]\n",
    "Midwest = [\"Illinois\", \"Indiana\", \"Iowa\", \"Kansas\", \"Michigan\", \"Minnesota\", \"Missouri\", \"Nebraska\", \"North Dakota\", \"Ohio\", \"South Dakota\", \"Wisconsin\"]\n",
    "South = [\"Alabama\", \"Arkansas\", \"Delaware\", \"Florida\", \"Georgia\", \"Kentucky\", \"Louisiana\", \"Maryland\", \"Mississippi\", \"North Carolina\", \"Oklahoma\", \"South Carolina\", \"Tennessee\", \"Texas\", \"Virginia\", \"West Virginia\"]\n",
    "\n",
    "def get_region(state):\n",
    "    if state in Northeast:\n",
    "        return 'Northeast'\n",
    "    elif state in Midwest:\n",
    "        return 'Midwest'\n",
    "    elif state in South:\n",
    "        return 'South'\n",
    "    else:\n",
    "        return 'West'"
   ]
  },
  {
   "cell_type": "code",
   "execution_count": 44,
   "metadata": {},
   "outputs": [
    {
     "name": "stderr",
     "output_type": "stream",
     "text": [
      "C:\\Users\\LENOVO\\AppData\\Local\\Temp\\ipykernel_12004\\4123891953.py:2: SettingWithCopyWarning: \n",
      "A value is trying to be set on a copy of a slice from a DataFrame.\n",
      "Try using .loc[row_indexer,col_indexer] = value instead\n",
      "\n",
      "See the caveats in the documentation: https://pandas.pydata.org/pandas-docs/stable/user_guide/indexing.html#returning-a-view-versus-a-copy\n",
      "  df_cleaned['Region'] = df_cleaned['State'].apply(get_region)\n"
     ]
    }
   ],
   "source": [
    "# Memasukkan hasil perhitungan ke dalam df_cleaned dengan tabel baru bejudul 'Region'\n",
    "df_cleaned['Region'] = df_cleaned['State'].apply(get_region)"
   ]
  },
  {
   "cell_type": "code",
   "execution_count": 45,
   "metadata": {},
   "outputs": [
    {
     "data": {
      "text/html": [
       "<div>\n",
       "<style scoped>\n",
       "    .dataframe tbody tr th:only-of-type {\n",
       "        vertical-align: middle;\n",
       "    }\n",
       "\n",
       "    .dataframe tbody tr th {\n",
       "        vertical-align: top;\n",
       "    }\n",
       "\n",
       "    .dataframe thead th {\n",
       "        text-align: right;\n",
       "    }\n",
       "</style>\n",
       "<table border=\"1\" class=\"dataframe\">\n",
       "  <thead>\n",
       "    <tr style=\"text-align: right;\">\n",
       "      <th></th>\n",
       "      <th>claim_id</th>\n",
       "      <th>customer_id</th>\n",
       "      <th>incident_cause</th>\n",
       "      <th>claim_date</th>\n",
       "      <th>claim_area</th>\n",
       "      <th>police_report</th>\n",
       "      <th>claim_type</th>\n",
       "      <th>claim_amount</th>\n",
       "      <th>total_policy_claims</th>\n",
       "      <th>fraudulent</th>\n",
       "      <th>gender</th>\n",
       "      <th>DateOfBirth</th>\n",
       "      <th>State</th>\n",
       "      <th>Contact</th>\n",
       "      <th>Segment</th>\n",
       "      <th>Age</th>\n",
       "      <th>AgeCategory</th>\n",
       "      <th>Region</th>\n",
       "    </tr>\n",
       "  </thead>\n",
       "  <tbody>\n",
       "    <tr>\n",
       "      <th>0</th>\n",
       "      <td>54004764</td>\n",
       "      <td>21868593</td>\n",
       "      <td>Driver error</td>\n",
       "      <td>2017-11-27</td>\n",
       "      <td>Auto</td>\n",
       "      <td>No</td>\n",
       "      <td>Material only</td>\n",
       "      <td>2980.0</td>\n",
       "      <td>1</td>\n",
       "      <td>No</td>\n",
       "      <td>Female</td>\n",
       "      <td>1979-01-12</td>\n",
       "      <td>Vermont</td>\n",
       "      <td>789-916-8172</td>\n",
       "      <td>Platinum</td>\n",
       "      <td>45</td>\n",
       "      <td>Adult</td>\n",
       "      <td>Northeast</td>\n",
       "    </tr>\n",
       "    <tr>\n",
       "      <th>1</th>\n",
       "      <td>33985796</td>\n",
       "      <td>75740424</td>\n",
       "      <td>Crime</td>\n",
       "      <td>2018-10-03</td>\n",
       "      <td>Home</td>\n",
       "      <td>Unknown</td>\n",
       "      <td>Material only</td>\n",
       "      <td>2980.0</td>\n",
       "      <td>3</td>\n",
       "      <td>No</td>\n",
       "      <td>Female</td>\n",
       "      <td>1970-01-13</td>\n",
       "      <td>Maine</td>\n",
       "      <td>265-543-1264</td>\n",
       "      <td>Silver</td>\n",
       "      <td>54</td>\n",
       "      <td>Adult</td>\n",
       "      <td>Northeast</td>\n",
       "    </tr>\n",
       "    <tr>\n",
       "      <th>2</th>\n",
       "      <td>53522022</td>\n",
       "      <td>30308357</td>\n",
       "      <td>Other driver error</td>\n",
       "      <td>2018-02-02</td>\n",
       "      <td>Auto</td>\n",
       "      <td>No</td>\n",
       "      <td>Material only</td>\n",
       "      <td>3369.5</td>\n",
       "      <td>1</td>\n",
       "      <td>Yes</td>\n",
       "      <td>Female</td>\n",
       "      <td>1984-03-11</td>\n",
       "      <td>Tennessee</td>\n",
       "      <td>798-631-4758</td>\n",
       "      <td>Silver</td>\n",
       "      <td>40</td>\n",
       "      <td>Adult</td>\n",
       "      <td>South</td>\n",
       "    </tr>\n",
       "    <tr>\n",
       "      <th>3</th>\n",
       "      <td>13015401</td>\n",
       "      <td>47830476</td>\n",
       "      <td>Natural causes</td>\n",
       "      <td>2018-06-17</td>\n",
       "      <td>Auto</td>\n",
       "      <td>No</td>\n",
       "      <td>Material only</td>\n",
       "      <td>1680.0</td>\n",
       "      <td>1</td>\n",
       "      <td>No</td>\n",
       "      <td>Female</td>\n",
       "      <td>1986-05-01</td>\n",
       "      <td>Massachusetts</td>\n",
       "      <td>413-187-7945</td>\n",
       "      <td>Silver</td>\n",
       "      <td>38</td>\n",
       "      <td>Adult</td>\n",
       "      <td>Northeast</td>\n",
       "    </tr>\n",
       "    <tr>\n",
       "      <th>4</th>\n",
       "      <td>22890252</td>\n",
       "      <td>19269962</td>\n",
       "      <td>Crime</td>\n",
       "      <td>2018-01-13</td>\n",
       "      <td>Auto</td>\n",
       "      <td>No</td>\n",
       "      <td>Material only</td>\n",
       "      <td>2680.0</td>\n",
       "      <td>1</td>\n",
       "      <td>No</td>\n",
       "      <td>Male</td>\n",
       "      <td>1977-05-13</td>\n",
       "      <td>Nevada</td>\n",
       "      <td>956-871-8691</td>\n",
       "      <td>Gold</td>\n",
       "      <td>47</td>\n",
       "      <td>Adult</td>\n",
       "      <td>West</td>\n",
       "    </tr>\n",
       "  </tbody>\n",
       "</table>\n",
       "</div>"
      ],
      "text/plain": [
       "   claim_id  customer_id      incident_cause claim_date claim_area  \\\n",
       "0  54004764     21868593        Driver error 2017-11-27       Auto   \n",
       "1  33985796     75740424               Crime 2018-10-03       Home   \n",
       "2  53522022     30308357  Other driver error 2018-02-02       Auto   \n",
       "3  13015401     47830476      Natural causes 2018-06-17       Auto   \n",
       "4  22890252     19269962               Crime 2018-01-13       Auto   \n",
       "\n",
       "  police_report     claim_type  claim_amount  total_policy_claims fraudulent  \\\n",
       "0            No  Material only        2980.0                    1         No   \n",
       "1       Unknown  Material only        2980.0                    3         No   \n",
       "2            No  Material only        3369.5                    1        Yes   \n",
       "3            No  Material only        1680.0                    1         No   \n",
       "4            No  Material only        2680.0                    1         No   \n",
       "\n",
       "   gender DateOfBirth          State       Contact   Segment  Age AgeCategory  \\\n",
       "0  Female  1979-01-12        Vermont  789-916-8172  Platinum   45       Adult   \n",
       "1  Female  1970-01-13          Maine  265-543-1264    Silver   54       Adult   \n",
       "2  Female  1984-03-11      Tennessee  798-631-4758    Silver   40       Adult   \n",
       "3  Female  1986-05-01  Massachusetts  413-187-7945    Silver   38       Adult   \n",
       "4    Male  1977-05-13         Nevada  956-871-8691      Gold   47       Adult   \n",
       "\n",
       "      Region  \n",
       "0  Northeast  \n",
       "1  Northeast  \n",
       "2      South  \n",
       "3  Northeast  \n",
       "4       West  "
      ]
     },
     "execution_count": 45,
     "metadata": {},
     "output_type": "execute_result"
    }
   ],
   "source": [
    "df_cleaned.head(5)"
   ]
  },
  {
   "cell_type": "markdown",
   "metadata": {},
   "source": [
    "Kolom region berhasil ditambahkan."
   ]
  },
  {
   "cell_type": "markdown",
   "metadata": {},
   "source": [
    "## Saving Data after Cleaning"
   ]
  },
  {
   "cell_type": "code",
   "execution_count": 46,
   "metadata": {},
   "outputs": [
    {
     "data": {
      "text/plain": [
       "claim_id                        int64\n",
       "customer_id                     int64\n",
       "incident_cause                 object\n",
       "claim_date             datetime64[ns]\n",
       "claim_area                     object\n",
       "police_report                  object\n",
       "claim_type                     object\n",
       "claim_amount                  float64\n",
       "total_policy_claims             int64\n",
       "fraudulent                     object\n",
       "gender                         object\n",
       "DateOfBirth            datetime64[ns]\n",
       "State                          object\n",
       "Contact                        object\n",
       "Segment                        object\n",
       "Age                             int64\n",
       "AgeCategory                    object\n",
       "Region                         object\n",
       "dtype: object"
      ]
     },
     "execution_count": 46,
     "metadata": {},
     "output_type": "execute_result"
    }
   ],
   "source": [
    "# Mengecek Tipe Data \n",
    "df_cleaned.dtypes"
   ]
  },
  {
   "cell_type": "markdown",
   "metadata": {},
   "source": [
    "data tipe sudah sesuai."
   ]
  },
  {
   "cell_type": "code",
   "execution_count": 47,
   "metadata": {},
   "outputs": [
    {
     "data": {
      "text/plain": [
       "claim_id               0\n",
       "customer_id            0\n",
       "incident_cause         0\n",
       "claim_date             0\n",
       "claim_area             0\n",
       "police_report          0\n",
       "claim_type             0\n",
       "claim_amount           0\n",
       "total_policy_claims    0\n",
       "fraudulent             0\n",
       "gender                 0\n",
       "DateOfBirth            0\n",
       "State                  0\n",
       "Contact                0\n",
       "Segment                0\n",
       "Age                    0\n",
       "AgeCategory            0\n",
       "Region                 0\n",
       "dtype: int64"
      ]
     },
     "execution_count": 47,
     "metadata": {},
     "output_type": "execute_result"
    }
   ],
   "source": [
    "# Mengecek Missing Value\n",
    "df_cleaned.isna().sum()"
   ]
  },
  {
   "cell_type": "markdown",
   "metadata": {},
   "source": [
    "Sudah tidak ada missing value pada setiap kolom."
   ]
  },
  {
   "cell_type": "code",
   "execution_count": 48,
   "metadata": {},
   "outputs": [],
   "source": [
    "# Menyimpan file kedalam csv\n",
    "df_cleaned.to_csv(\"claims_insurance.csv\", index=False)"
   ]
  },
  {
   "cell_type": "markdown",
   "metadata": {},
   "source": [
    "Data berhasil disimpan"
   ]
  },
  {
   "cell_type": "markdown",
   "metadata": {},
   "source": [
    "# Libraries 2"
   ]
  },
  {
   "cell_type": "code",
   "execution_count": 49,
   "metadata": {},
   "outputs": [
    {
     "name": "stderr",
     "output_type": "stream",
     "text": [
      "C:\\Users\\LENOVO\\AppData\\Local\\Temp\\ipykernel_12004\\3252644117.py:6: DeprecationWarning: Importing display from IPython.core.display is deprecated since IPython 7.14, please import from IPython display\n",
      "  from IPython.core.display import display, HTML\n"
     ]
    }
   ],
   "source": [
    "import pandas as pd\n",
    "from scipy import stats\n",
    "import matplotlib.pyplot as plt\n",
    "import seaborn as sns\n",
    "import numpy as np\n",
    "from IPython.core.display import display, HTML\n",
    "from datetime import datetime\n",
    "import statsmodels.api as sm\n",
    "from statsmodels.formula.api import ols"
   ]
  },
  {
   "cell_type": "markdown",
   "metadata": {},
   "source": [
    "Libraries berhasil diimport atau dijalankan"
   ]
  },
  {
   "cell_type": "markdown",
   "metadata": {},
   "source": [
    "# Data Loading After Data Preparation\n"
   ]
  },
  {
   "cell_type": "code",
   "execution_count": 50,
   "metadata": {},
   "outputs": [],
   "source": [
    "# Memanggil file hasil cleaning dan menyimpannya pada variabel data_claim\n",
    "data_claim = pd.read_csv('claims_insurance.csv')"
   ]
  },
  {
   "cell_type": "code",
   "execution_count": 51,
   "metadata": {},
   "outputs": [
    {
     "data": {
      "text/html": [
       "<center><b><h3>Data Claim Insurance</h3></b></center><br>"
      ],
      "text/plain": [
       "<IPython.core.display.HTML object>"
      ]
     },
     "metadata": {},
     "output_type": "display_data"
    },
    {
     "data": {
      "text/html": [
       "<div>\n",
       "<style scoped>\n",
       "    .dataframe tbody tr th:only-of-type {\n",
       "        vertical-align: middle;\n",
       "    }\n",
       "\n",
       "    .dataframe tbody tr th {\n",
       "        vertical-align: top;\n",
       "    }\n",
       "\n",
       "    .dataframe thead th {\n",
       "        text-align: right;\n",
       "    }\n",
       "</style>\n",
       "<table border=\"1\" class=\"dataframe\">\n",
       "  <thead>\n",
       "    <tr style=\"text-align: right;\">\n",
       "      <th></th>\n",
       "      <th>claim_id</th>\n",
       "      <th>customer_id</th>\n",
       "      <th>incident_cause</th>\n",
       "      <th>claim_date</th>\n",
       "      <th>claim_area</th>\n",
       "      <th>police_report</th>\n",
       "      <th>claim_type</th>\n",
       "      <th>claim_amount</th>\n",
       "      <th>total_policy_claims</th>\n",
       "      <th>fraudulent</th>\n",
       "      <th>gender</th>\n",
       "      <th>DateOfBirth</th>\n",
       "      <th>State</th>\n",
       "      <th>Contact</th>\n",
       "      <th>Segment</th>\n",
       "      <th>Age</th>\n",
       "      <th>AgeCategory</th>\n",
       "      <th>Region</th>\n",
       "    </tr>\n",
       "  </thead>\n",
       "  <tbody>\n",
       "    <tr>\n",
       "      <th>0</th>\n",
       "      <td>54004764</td>\n",
       "      <td>21868593</td>\n",
       "      <td>Driver error</td>\n",
       "      <td>2017-11-27</td>\n",
       "      <td>Auto</td>\n",
       "      <td>No</td>\n",
       "      <td>Material only</td>\n",
       "      <td>2980.0</td>\n",
       "      <td>1</td>\n",
       "      <td>No</td>\n",
       "      <td>Female</td>\n",
       "      <td>1979-01-12</td>\n",
       "      <td>Vermont</td>\n",
       "      <td>789-916-8172</td>\n",
       "      <td>Platinum</td>\n",
       "      <td>45</td>\n",
       "      <td>Adult</td>\n",
       "      <td>Northeast</td>\n",
       "    </tr>\n",
       "    <tr>\n",
       "      <th>1</th>\n",
       "      <td>33985796</td>\n",
       "      <td>75740424</td>\n",
       "      <td>Crime</td>\n",
       "      <td>2018-10-03</td>\n",
       "      <td>Home</td>\n",
       "      <td>Unknown</td>\n",
       "      <td>Material only</td>\n",
       "      <td>2980.0</td>\n",
       "      <td>3</td>\n",
       "      <td>No</td>\n",
       "      <td>Female</td>\n",
       "      <td>1970-01-13</td>\n",
       "      <td>Maine</td>\n",
       "      <td>265-543-1264</td>\n",
       "      <td>Silver</td>\n",
       "      <td>54</td>\n",
       "      <td>Adult</td>\n",
       "      <td>Northeast</td>\n",
       "    </tr>\n",
       "    <tr>\n",
       "      <th>2</th>\n",
       "      <td>53522022</td>\n",
       "      <td>30308357</td>\n",
       "      <td>Other driver error</td>\n",
       "      <td>2018-02-02</td>\n",
       "      <td>Auto</td>\n",
       "      <td>No</td>\n",
       "      <td>Material only</td>\n",
       "      <td>3369.5</td>\n",
       "      <td>1</td>\n",
       "      <td>Yes</td>\n",
       "      <td>Female</td>\n",
       "      <td>1984-03-11</td>\n",
       "      <td>Tennessee</td>\n",
       "      <td>798-631-4758</td>\n",
       "      <td>Silver</td>\n",
       "      <td>40</td>\n",
       "      <td>Adult</td>\n",
       "      <td>South</td>\n",
       "    </tr>\n",
       "    <tr>\n",
       "      <th>3</th>\n",
       "      <td>13015401</td>\n",
       "      <td>47830476</td>\n",
       "      <td>Natural causes</td>\n",
       "      <td>2018-06-17</td>\n",
       "      <td>Auto</td>\n",
       "      <td>No</td>\n",
       "      <td>Material only</td>\n",
       "      <td>1680.0</td>\n",
       "      <td>1</td>\n",
       "      <td>No</td>\n",
       "      <td>Female</td>\n",
       "      <td>1986-05-01</td>\n",
       "      <td>Massachusetts</td>\n",
       "      <td>413-187-7945</td>\n",
       "      <td>Silver</td>\n",
       "      <td>38</td>\n",
       "      <td>Adult</td>\n",
       "      <td>Northeast</td>\n",
       "    </tr>\n",
       "    <tr>\n",
       "      <th>4</th>\n",
       "      <td>22890252</td>\n",
       "      <td>19269962</td>\n",
       "      <td>Crime</td>\n",
       "      <td>2018-01-13</td>\n",
       "      <td>Auto</td>\n",
       "      <td>No</td>\n",
       "      <td>Material only</td>\n",
       "      <td>2680.0</td>\n",
       "      <td>1</td>\n",
       "      <td>No</td>\n",
       "      <td>Male</td>\n",
       "      <td>1977-05-13</td>\n",
       "      <td>Nevada</td>\n",
       "      <td>956-871-8691</td>\n",
       "      <td>Gold</td>\n",
       "      <td>47</td>\n",
       "      <td>Adult</td>\n",
       "      <td>West</td>\n",
       "    </tr>\n",
       "    <tr>\n",
       "      <th>5</th>\n",
       "      <td>24050443</td>\n",
       "      <td>21831191</td>\n",
       "      <td>Other driver error</td>\n",
       "      <td>2017-10-04</td>\n",
       "      <td>Auto</td>\n",
       "      <td>No</td>\n",
       "      <td>Injury only</td>\n",
       "      <td>38306.5</td>\n",
       "      <td>3</td>\n",
       "      <td>Yes</td>\n",
       "      <td>Male</td>\n",
       "      <td>1977-05-17</td>\n",
       "      <td>New Hampshire</td>\n",
       "      <td>419-712-8513</td>\n",
       "      <td>Gold</td>\n",
       "      <td>47</td>\n",
       "      <td>Adult</td>\n",
       "      <td>Northeast</td>\n",
       "    </tr>\n",
       "    <tr>\n",
       "      <th>6</th>\n",
       "      <td>12878692</td>\n",
       "      <td>18401412</td>\n",
       "      <td>Driver error</td>\n",
       "      <td>2018-01-13</td>\n",
       "      <td>Auto</td>\n",
       "      <td>No</td>\n",
       "      <td>Material only</td>\n",
       "      <td>1730.0</td>\n",
       "      <td>4</td>\n",
       "      <td>No</td>\n",
       "      <td>Male</td>\n",
       "      <td>1999-03-02</td>\n",
       "      <td>Arkansas</td>\n",
       "      <td>752-398-2914</td>\n",
       "      <td>Gold</td>\n",
       "      <td>25</td>\n",
       "      <td>Youth</td>\n",
       "      <td>South</td>\n",
       "    </tr>\n",
       "    <tr>\n",
       "      <th>7</th>\n",
       "      <td>27026412</td>\n",
       "      <td>73486606</td>\n",
       "      <td>Natural causes</td>\n",
       "      <td>2018-04-10</td>\n",
       "      <td>Auto</td>\n",
       "      <td>No</td>\n",
       "      <td>Material only</td>\n",
       "      <td>1160.0</td>\n",
       "      <td>3</td>\n",
       "      <td>No</td>\n",
       "      <td>Male</td>\n",
       "      <td>1999-10-25</td>\n",
       "      <td>Alaska</td>\n",
       "      <td>256-968-9172</td>\n",
       "      <td>Silver</td>\n",
       "      <td>24</td>\n",
       "      <td>Youth</td>\n",
       "      <td>West</td>\n",
       "    </tr>\n",
       "    <tr>\n",
       "      <th>8</th>\n",
       "      <td>43908336</td>\n",
       "      <td>32813689</td>\n",
       "      <td>Crime</td>\n",
       "      <td>2018-02-15</td>\n",
       "      <td>Auto</td>\n",
       "      <td>Unknown</td>\n",
       "      <td>Material only</td>\n",
       "      <td>2620.0</td>\n",
       "      <td>1</td>\n",
       "      <td>No</td>\n",
       "      <td>Male</td>\n",
       "      <td>1993-10-12</td>\n",
       "      <td>Idaho</td>\n",
       "      <td>142-324-7481</td>\n",
       "      <td>Silver</td>\n",
       "      <td>30</td>\n",
       "      <td>Adult</td>\n",
       "      <td>West</td>\n",
       "    </tr>\n",
       "    <tr>\n",
       "      <th>9</th>\n",
       "      <td>63246959</td>\n",
       "      <td>33507197</td>\n",
       "      <td>Crime</td>\n",
       "      <td>2017-07-22</td>\n",
       "      <td>Auto</td>\n",
       "      <td>No</td>\n",
       "      <td>Material only</td>\n",
       "      <td>2748.5</td>\n",
       "      <td>2</td>\n",
       "      <td>Yes</td>\n",
       "      <td>Female</td>\n",
       "      <td>1966-09-09</td>\n",
       "      <td>Rhode Island</td>\n",
       "      <td>165-519-4583</td>\n",
       "      <td>Gold</td>\n",
       "      <td>57</td>\n",
       "      <td>Adult</td>\n",
       "      <td>Northeast</td>\n",
       "    </tr>\n",
       "  </tbody>\n",
       "</table>\n",
       "</div>"
      ],
      "text/plain": [
       "   claim_id  customer_id      incident_cause  claim_date claim_area  \\\n",
       "0  54004764     21868593        Driver error  2017-11-27       Auto   \n",
       "1  33985796     75740424               Crime  2018-10-03       Home   \n",
       "2  53522022     30308357  Other driver error  2018-02-02       Auto   \n",
       "3  13015401     47830476      Natural causes  2018-06-17       Auto   \n",
       "4  22890252     19269962               Crime  2018-01-13       Auto   \n",
       "5  24050443     21831191  Other driver error  2017-10-04       Auto   \n",
       "6  12878692     18401412        Driver error  2018-01-13       Auto   \n",
       "7  27026412     73486606      Natural causes  2018-04-10       Auto   \n",
       "8  43908336     32813689               Crime  2018-02-15       Auto   \n",
       "9  63246959     33507197               Crime  2017-07-22       Auto   \n",
       "\n",
       "  police_report     claim_type  claim_amount  total_policy_claims fraudulent  \\\n",
       "0            No  Material only        2980.0                    1         No   \n",
       "1       Unknown  Material only        2980.0                    3         No   \n",
       "2            No  Material only        3369.5                    1        Yes   \n",
       "3            No  Material only        1680.0                    1         No   \n",
       "4            No  Material only        2680.0                    1         No   \n",
       "5            No    Injury only       38306.5                    3        Yes   \n",
       "6            No  Material only        1730.0                    4         No   \n",
       "7            No  Material only        1160.0                    3         No   \n",
       "8       Unknown  Material only        2620.0                    1         No   \n",
       "9            No  Material only        2748.5                    2        Yes   \n",
       "\n",
       "   gender DateOfBirth          State       Contact   Segment  Age AgeCategory  \\\n",
       "0  Female  1979-01-12        Vermont  789-916-8172  Platinum   45       Adult   \n",
       "1  Female  1970-01-13          Maine  265-543-1264    Silver   54       Adult   \n",
       "2  Female  1984-03-11      Tennessee  798-631-4758    Silver   40       Adult   \n",
       "3  Female  1986-05-01  Massachusetts  413-187-7945    Silver   38       Adult   \n",
       "4    Male  1977-05-13         Nevada  956-871-8691      Gold   47       Adult   \n",
       "5    Male  1977-05-17  New Hampshire  419-712-8513      Gold   47       Adult   \n",
       "6    Male  1999-03-02       Arkansas  752-398-2914      Gold   25       Youth   \n",
       "7    Male  1999-10-25         Alaska  256-968-9172    Silver   24       Youth   \n",
       "8    Male  1993-10-12          Idaho  142-324-7481    Silver   30       Adult   \n",
       "9  Female  1966-09-09   Rhode Island  165-519-4583      Gold   57       Adult   \n",
       "\n",
       "      Region  \n",
       "0  Northeast  \n",
       "1  Northeast  \n",
       "2      South  \n",
       "3  Northeast  \n",
       "4       West  \n",
       "5  Northeast  \n",
       "6      South  \n",
       "7       West  \n",
       "8       West  \n",
       "9  Northeast  "
      ]
     },
     "metadata": {},
     "output_type": "display_data"
    }
   ],
   "source": [
    "# Mengubah displaynya menjadi format html \n",
    "display(HTML('<center><b><h3>Data Claim Insurance</h3></b></center><br>'))\n",
    "display(data_claim.head(10))"
   ]
  },
  {
   "cell_type": "markdown",
   "metadata": {},
   "source": [
    "File berhasil di ubah dalam format html dan disimpan dalam variabel data_claim"
   ]
  },
  {
   "cell_type": "markdown",
   "metadata": {},
   "source": [
    "Sebelum melakukan analisis, diperlukan untuk mengecek info data kembali untuk memastikan kesesuain tipe data dan ada tidaknya missing value."
   ]
  },
  {
   "cell_type": "code",
   "execution_count": 52,
   "metadata": {},
   "outputs": [
    {
     "name": "stdout",
     "output_type": "stream",
     "text": [
      "<class 'pandas.core.frame.DataFrame'>\n",
      "RangeIndex: 1085 entries, 0 to 1084\n",
      "Data columns (total 18 columns):\n",
      " #   Column               Non-Null Count  Dtype  \n",
      "---  ------               --------------  -----  \n",
      " 0   claim_id             1085 non-null   int64  \n",
      " 1   customer_id          1085 non-null   int64  \n",
      " 2   incident_cause       1085 non-null   object \n",
      " 3   claim_date           1085 non-null   object \n",
      " 4   claim_area           1085 non-null   object \n",
      " 5   police_report        1085 non-null   object \n",
      " 6   claim_type           1085 non-null   object \n",
      " 7   claim_amount         1085 non-null   float64\n",
      " 8   total_policy_claims  1085 non-null   int64  \n",
      " 9   fraudulent           1085 non-null   object \n",
      " 10  gender               1085 non-null   object \n",
      " 11  DateOfBirth          1085 non-null   object \n",
      " 12  State                1085 non-null   object \n",
      " 13  Contact              1085 non-null   object \n",
      " 14  Segment              1085 non-null   object \n",
      " 15  Age                  1085 non-null   int64  \n",
      " 16  AgeCategory          1085 non-null   object \n",
      " 17  Region               1085 non-null   object \n",
      "dtypes: float64(1), int64(4), object(13)\n",
      "memory usage: 152.7+ KB\n"
     ]
    }
   ],
   "source": [
    "# Cek Info Data\n",
    "data_claim.info()"
   ]
  },
  {
   "cell_type": "markdown",
   "metadata": {},
   "source": [
    "Dapat dilihat bahwa data terdiri dari 18 kolom yang masing-masingnya memiliki Non-Null Count sama sehingga tidak terdeksi adanya ada yang missing. Namun, dilihat tipe data seharusnya untuk kolom claim_date dan DateOfBirth merupakan datetimes bukan object. Hal tersebut dikarenakan, penyimpanan hasil cleaning ke csv akan mendeteksi tanggal sebagai object sehingga perlu diubah terlebih dahulu menjadi datetimes agar analisa selanjutnya dapat dilakukan."
   ]
  },
  {
   "cell_type": "code",
   "execution_count": 53,
   "metadata": {},
   "outputs": [
    {
     "name": "stdout",
     "output_type": "stream",
     "text": [
      "<class 'pandas.core.frame.DataFrame'>\n",
      "RangeIndex: 1085 entries, 0 to 1084\n",
      "Data columns (total 18 columns):\n",
      " #   Column               Non-Null Count  Dtype         \n",
      "---  ------               --------------  -----         \n",
      " 0   claim_id             1085 non-null   int64         \n",
      " 1   customer_id          1085 non-null   int64         \n",
      " 2   incident_cause       1085 non-null   object        \n",
      " 3   claim_date           1085 non-null   datetime64[ns]\n",
      " 4   claim_area           1085 non-null   object        \n",
      " 5   police_report        1085 non-null   object        \n",
      " 6   claim_type           1085 non-null   object        \n",
      " 7   claim_amount         1085 non-null   float64       \n",
      " 8   total_policy_claims  1085 non-null   int64         \n",
      " 9   fraudulent           1085 non-null   object        \n",
      " 10  gender               1085 non-null   object        \n",
      " 11  DateOfBirth          1085 non-null   datetime64[ns]\n",
      " 12  State                1085 non-null   object        \n",
      " 13  Contact              1085 non-null   object        \n",
      " 14  Segment              1085 non-null   object        \n",
      " 15  Age                  1085 non-null   int64         \n",
      " 16  AgeCategory          1085 non-null   object        \n",
      " 17  Region               1085 non-null   object        \n",
      "dtypes: datetime64[ns](2), float64(1), int64(4), object(11)\n",
      "memory usage: 152.7+ KB\n"
     ]
    }
   ],
   "source": [
    "# Perubahan tipe kolom\n",
    "data_claim['claim_date'] = pd.to_datetime(data_claim['claim_date'])\n",
    "data_claim['DateOfBirth'] = pd.to_datetime(data_claim['DateOfBirth'])\n",
    "\n",
    "# Cek Kembali\n",
    "data_claim.info()"
   ]
  },
  {
   "cell_type": "markdown",
   "metadata": {},
   "source": [
    "kolom claim_date dan dateofbirth sudah berhasil diubah tipe datanya."
   ]
  },
  {
   "cell_type": "markdown",
   "metadata": {},
   "source": [
    "# Analysis"
   ]
  },
  {
   "cell_type": "markdown",
   "metadata": {},
   "source": [
    "## Nilai minimum, maximum, rata-rata, median, modus dari jumlah klaim yang diajukan"
   ]
  },
  {
   "cell_type": "markdown",
   "metadata": {},
   "source": [
    "Untuk mengetahui nilai minimun, maximum, rata-rata, median, dan modus pada kolom jumlah klaim atau 'claim_amount` dapat menggunakan metode statistik deskriptif. Disini dilakukan tiga pengujian yaitu:\n",
    "1. Central Tedency: mean, median, dan modus\n",
    "2. Dispersasi: range, nilai minimum, dan nilai maksimum \n",
    "3. Skewness dan Kurtosis \n",
    "\n",
    "Untuk skewness dan kurtosis juga dilakukan karna ingin melihat persebaran datanya."
   ]
  },
  {
   "cell_type": "code",
   "execution_count": 54,
   "metadata": {},
   "outputs": [
    {
     "name": "stdout",
     "output_type": "stream",
     "text": [
      "Central Tedency:\n",
      "Rata-rata jumlah klaim asuransi yaitu:\t 12467.681372549021 US Dollar\n",
      "Median dari jumlah klaim asuransi yaitu:\t 2852.0 US Dollar\n",
      "Modus dari jumlah klaim asuransi yaitu:\t 12467.68137254902 US Dollar\n",
      "\n",
      "Dispersasi:\n",
      "Selisih atau range dari data jumlah klaim asuransi yaitu: 47150.5 US Dollar\n",
      "Nilai minimum dari data jumlah klaim asuransi yaitu: 1000.0 US Dollar\n",
      "Nilai maksimum dari data jumlah klaim asuransi yaitu: 48150.5 US Dollar\n",
      "\n",
      "Skewness dan Kurtosis:\n",
      "Skewness yang dihasilkan yaitu: 0.8621687335370243\n",
      "Kurtosis yang dihasilkan yaitu: -0.6785884208061903\n"
     ]
    }
   ],
   "source": [
    "# Menghitung pada kolom claim_amount\n",
    "print(f\"Central Tedency:\")\n",
    "print('Rata-rata jumlah klaim asuransi yaitu:\\t',data_claim['claim_amount'].mean(),'US Dollar')\n",
    "print('Median dari jumlah klaim asuransi yaitu:\\t',data_claim['claim_amount'].median(),'US Dollar')\n",
    "print('Modus dari jumlah klaim asuransi yaitu:\\t',data_claim['claim_amount'].mode()[0],'US Dollar')\n",
    "print(f\"\\nDispersasi:\")\n",
    "print('Selisih atau range dari data jumlah klaim asuransi yaitu:', data_claim['claim_amount'].max() - data_claim['claim_amount'].min(), 'US Dollar')\n",
    "print('Nilai minimum dari data jumlah klaim asuransi yaitu:', data_claim['claim_amount'].min(), 'US Dollar')\n",
    "print('Nilai maksimum dari data jumlah klaim asuransi yaitu:', data_claim['claim_amount'].max(), 'US Dollar')\n",
    "print(f\"\\nSkewness dan Kurtosis:\")\n",
    "print(f\"Skewness yang dihasilkan yaitu: {data_claim['claim_amount'].skew()}\")\n",
    "print(f\"Kurtosis yang dihasilkan yaitu: {data_claim['claim_amount'].kurtosis()}\")"
   ]
  },
  {
   "cell_type": "code",
   "execution_count": 55,
   "metadata": {},
   "outputs": [
    {
     "data": {
      "text/plain": [
       "<Axes: >"
      ]
     },
     "execution_count": 55,
     "metadata": {},
     "output_type": "execute_result"
    },
    {
     "data": {
      "image/png": "[encoded data removed]",
      "text/plain": [
       "<Figure size 1000x400 with 2 Axes>"
      ]
     },
     "metadata": {},
     "output_type": "display_data"
    }
   ],
   "source": [
    "fig, ax = plt.subplots(ncols=2,figsize=(10,4))\n",
    "\n",
    "data_claim['claim_amount'].plot(kind='hist',bins=20,ax=ax[0])\n",
    "data_claim['claim_amount'].plot(kind='box',ax=ax[1])"
   ]
  },
  {
   "cell_type": "code",
   "execution_count": 56,
   "metadata": {},
   "outputs": [
    {
     "data": {
      "text/plain": [
       "<seaborn.axisgrid.FacetGrid at 0x15ee59847a0>"
      ]
     },
     "execution_count": 56,
     "metadata": {},
     "output_type": "execute_result"
    },
    {
     "data": {
      "image/png": "[encoded data removed]",
      "text/plain": [
       "<Figure size 500x500 with 1 Axes>"
      ]
     },
     "metadata": {},
     "output_type": "display_data"
    }
   ],
   "source": [
    "sns.displot(data=data_claim, x='claim_amount', kde=True, label='Jumlah Klaim Asuransi')"
   ]
  },
  {
   "cell_type": "markdown",
   "metadata": {},
   "source": [
    "Dari perhitungan dan grafik yang diperoleh menunjukkan bahwa jumlah klaim asuransi mempunyai nilai minimum sebesar 1000.0 US Dollar, nilai maksimum sebesar 48150.5 US Dollar, dengan selisihnya yaitu 47150.5 US Dollar, rata-rata jumlah klaim yaitu sebesar 12467.68 US Dollar, mediannya 2852.0 US Dollar, dan jumlah klaim yang paling banyak muncul yaitu 12467.68 US Dollar. Tak hanya itu, hasil skewness bernilai 0.8 < 1  dan menunjukkan bahwa data tergolong moderately skewed dan merupakan right-skewed distrubution sedangkan kurtosis bernilai -0.67 < 3 menunjukkan bahwa data tergolong merupakan Platykurtic(long Tailed) dengan high standard deviasion. Dari box plot juga dapat dilihat bahwa tidak terdapat data yang outliers.\n",
    "\n",
    "Jika dilihat selisih nilai asuransi yang mempunyai rentang yang luas menunjukkan adanya variasi besar dalam jumlah klaim, yang bisa disebabkan oleh perbedaan jenis klaim atau kebijakan yang diambil oleh pemegang polis. Median yang lebih rendah dari rata-rata menguatkan indikasi adanya distribusi yang tidak simetris, dengan beberapa klaim yang sangat besar yang mempengaruhi rata-rata secara signifikan. Mengingat variabilitas klaim yang tinggi, perusahaan asuransi mungkin perlu mengevaluasi kembali struktur premi mereka untuk memastikan bahwa mereka cukup mengkompensasi risiko yang lebih tinggi yang dihadapi."
   ]
  },
  {
   "cell_type": "markdown",
   "metadata": {},
   "source": [
    "## Bulan dengan rata-rata jumlah klaim asuransi tertinggi dan terendah"
   ]
  },
  {
   "cell_type": "markdown",
   "metadata": {},
   "source": [
    "Untuk mengetahui rata-rata claim perbulan, kolom claim_date akan menjadi acuan."
   ]
  },
  {
   "cell_type": "code",
   "execution_count": 130,
   "metadata": {},
   "outputs": [],
   "source": [
    "# Ekstrak bulan dari kolom claim_date \n",
    "data_claim['month'] = data_claim['claim_date'].dt.month"
   ]
  },
  {
   "cell_type": "markdown",
   "metadata": {},
   "source": [
    "Bulan dari cliam_date berhasil di ekstrak."
   ]
  },
  {
   "cell_type": "code",
   "execution_count": 131,
   "metadata": {},
   "outputs": [
    {
     "name": "stdout",
     "output_type": "stream",
     "text": [
      "    Month  Average Claim Amount\n",
      "0       1          12685.640663\n",
      "1       2          12856.106874\n",
      "2       3          11892.611774\n",
      "3       4          12322.722502\n",
      "4       5          11980.526355\n",
      "5       6          13750.818153\n",
      "6       7          13009.524834\n",
      "7       8          10238.146563\n",
      "8       9          12600.766843\n",
      "9      10          11866.171729\n",
      "10     11          13661.803699\n",
      "11     12          14514.555862\n"
     ]
    }
   ],
   "source": [
    "# Kelompokkan berdasarkan month dan hitung rata-rata claim_amount\n",
    "monthly_avg_claim = data_claim.groupby('month')['claim_amount'].mean().reset_index()\n",
    "monthly_avg_claim.columns = ['Month', 'Average Claim Amount']\n",
    "\n",
    "print(monthly_avg_claim)"
   ]
  },
  {
   "cell_type": "code",
   "execution_count": 135,
   "metadata": {},
   "outputs": [
    {
     "data": {
      "image/png": "[encoded data removed]",
      "text/plain": [
       "<Figure size 1000x600 with 1 Axes>"
      ]
     },
     "metadata": {},
     "output_type": "display_data"
    }
   ],
   "source": [
    "plt.figure(figsize=(10, 6))\n",
    "plt.plot(monthly_avg_claim['Month'], monthly_avg_claim['Average Claim Amount'], marker='o')\n",
    "plt.title('Average Claim Amount per Month')\n",
    "plt.xlabel('month')\n",
    "plt.ylabel('Average Claim Amount')\n",
    "plt.xticks(monthly_avg_claim['Month'], ['Jan', 'Feb', 'Mar', 'Apr', 'May', 'Jun', 'Jul', 'Aug', 'Sep', 'Oct', 'Nov', 'Dec'])\n",
    "plt.grid(True)\n",
    "plt.show()\n"
   ]
  },
  {
   "cell_type": "markdown",
   "metadata": {},
   "source": [
    "Dapat dilihat bahwa rata-rata jumlah klaim tertinggi ada di bulan desember yaitu sebesar 14514.55 US Dollar sedangkan rata-rata terendah ada di bulan Agustus sebesar 10238.15 US Dollar"
   ]
  },
  {
   "cell_type": "markdown",
   "metadata": {},
   "source": [
    "## Variabel-variabel yang mempengaruhi jumlah klaim asuransi pada periode 2017-2018"
   ]
  },
  {
   "cell_type": "markdown",
   "metadata": {},
   "source": [
    "### Analisis Kolerasi"
   ]
  },
  {
   "cell_type": "markdown",
   "metadata": {},
   "source": [
    "Untuk mengetahui variabel-variabel apa saja yang akan mempengaruhi jumlah klaim asuransi pada periode 2017-2018 maka dilakukan uji statistik inferensial dengan kolerasi pearson, spearman, atau kendall. Kolerasi tersebut dipilih karena claim amount merupakan variabel numerik yang mana akan diuji dengan variabel-variabel lainnya (bisa numerik atau kategori). Pengujian pearson atau spearman (perlu melihat distribusinya dulu) digunakan untuk variabel numerik sedangkan kendall digunakan untuk variabel kategori.\n",
    "\n",
    "Dalam hal ini, bersumber dari https://info.populix.co/articles/koefisien-korelasi-adalah/ kriteria hasil kolerasi yaitu:\n",
    "\n",
    "- 0 : Tidak ada korelasi antara dua variabel\n",
    "- 0 – 0,25 : Korelasi sangat lemah\n",
    "- 0,25 – 0,5 : Korelasi cukup\n",
    "- 0,5 – 0,75 : Korelasi kuat\n",
    "- 0,75 – 0,99 : Korelasi sangat kuat\n",
    "- 1 : Korelasi hubungan sempurna positif\n",
    "- -1 : Korelasi hubungan sempurna negatif\n",
    "\n",
    "Untuk signifikasinnya (p-value) yaitu: \n",
    "- p < 0.05: Hubungan signifikan secara statistik (nyata)\n",
    "- p ≥ 0.05: Hubungan tidak signifikan secara statistik (tidak nyata)"
   ]
  },
  {
   "cell_type": "code",
   "execution_count": 57,
   "metadata": {},
   "outputs": [
    {
     "data": {
      "text/plain": [
       "claim_id                        int64\n",
       "customer_id                     int64\n",
       "incident_cause                 object\n",
       "claim_date             datetime64[ns]\n",
       "claim_area                     object\n",
       "police_report                  object\n",
       "claim_type                     object\n",
       "claim_amount                  float64\n",
       "total_policy_claims             int64\n",
       "fraudulent                     object\n",
       "gender                         object\n",
       "DateOfBirth            datetime64[ns]\n",
       "State                          object\n",
       "Contact                        object\n",
       "Segment                        object\n",
       "Age                             int64\n",
       "AgeCategory                    object\n",
       "Region                         object\n",
       "dtype: object"
      ]
     },
     "execution_count": 57,
     "metadata": {},
     "output_type": "execute_result"
    }
   ],
   "source": [
    "# Mengecek tipe data untuk mengetahui yang mana variabel kategori dan yang mana numerik\n",
    "data_claim.dtypes"
   ]
  },
  {
   "cell_type": "markdown",
   "metadata": {},
   "source": [
    "Dilihat dari tipe data yang termasuk variabel kategori yaitu 'incident_cause', 'claim_area', 'police_report', 'claim_type', 'fraudulent', 'gender', 'State','Segment', 'AgeCategory', dan 'Region' sedangkan variabel numerik yaitu 'total_policy_claims', dan 'Age'. "
   ]
  },
  {
   "cell_type": "code",
   "execution_count": 67,
   "metadata": {},
   "outputs": [
    {
     "name": "stdout",
     "output_type": "stream",
     "text": [
      "Colleration between incident_cause and claim_amount is:\n",
      "tau-correlation: 0.09, p-value: 7.256607266386232e-05 and they are dependent\n",
      "------------------------------------------------------------------------------------------\n",
      "Colleration between claim_area and claim_amount is:\n",
      "tau-correlation: -0.03, p-value: 0.17569619529040903 \n",
      "------------------------------------------------------------------------------------------\n",
      "Colleration between police_report and claim_amount is:\n",
      "tau-correlation: 0.28, p-value: 4.779924286077939e-33 and they are dependent\n",
      "------------------------------------------------------------------------------------------\n",
      "Colleration between claim_type and claim_amount is:\n",
      "tau-correlation: -0.63, p-value: 1.5045887751860494e-153 and they are dependent\n",
      "------------------------------------------------------------------------------------------\n",
      "Colleration between fraudulent and claim_amount is:\n",
      "tau-correlation: 0.03, p-value: 0.2175697226661628 \n",
      "------------------------------------------------------------------------------------------\n",
      "Colleration between gender and claim_amount is:\n",
      "tau-correlation: 0.02, p-value: 0.4160570574030066 \n",
      "------------------------------------------------------------------------------------------\n",
      "Colleration between State and claim_amount is:\n",
      "tau-correlation: 0.01, p-value: 0.6224955510309511 \n",
      "------------------------------------------------------------------------------------------\n",
      "Colleration between Segment and claim_amount is:\n",
      "tau-correlation: 0.00, p-value: 0.9346650066452141 \n",
      "------------------------------------------------------------------------------------------\n",
      "Colleration between AgeCategory and claim_amount is:\n",
      "tau-correlation: -0.00, p-value: 0.9934722070884052 \n",
      "------------------------------------------------------------------------------------------\n",
      "Colleration between Region and claim_amount is:\n",
      "tau-correlation: 0.02, p-value: 0.45548986333783614 \n",
      "------------------------------------------------------------------------------------------\n"
     ]
    }
   ],
   "source": [
    "# Pengujian kendall pada variabel kategori \n",
    "columns_kendall = ['incident_cause', 'claim_area', 'police_report', 'claim_type', 'fraudulent', 'gender', 'State','Segment', 'AgeCategory', 'Region']\n",
    "\n",
    "for i in columns_kendall:\n",
    "  corr_tau, pval_k = stats.kendalltau(data_claim['claim_amount'], data_claim[i])\n",
    "  prompt = \"and they are dependent\" if pval_k<0.05 else \"\"\n",
    "  print(f\"Colleration between {i} and claim_amount is:\")\n",
    "  print(f\"tau-correlation: {corr_tau:.2f}, p-value: {pval_k} {prompt}\")\n",
    "  print(\"---\"*30)"
   ]
  },
  {
   "cell_type": "markdown",
   "metadata": {},
   "source": [
    "Berdasarkan analisa kolerasi dengan kendall, kolerasi yang dihasilkan yaitu\n",
    "- Variabel segmen dan agecategory memiliki kolerasi 0 sehingga dinyatakan tidak ada kolerasi dengan variabel claim_amount \n",
    "- Selain kedua variabel pada poin sebelumnya memiliki kolerasi di rentang 0.1 - 0.3 sehingga dinyatakan kolerasinya sangat lemah atau hampit tidak ada hubungan dengan claim_amount.\n",
    "- Namun, dilihat dari p-value didapatkan bahwa dari 10 kolom yang merupakan katageri hanya terdapat 3 kolom yang nilai p-valuenya < 0.05 yaitu incident_cause, police_report, dan claim_type. Dapat diartikan bahwa kolerasi antara jumlah klaim dengan penyebab terjadinya kecelakaan, ada atau tidaknya pelaporan kepada pihak polisi atau tidak, dan tipe klaim yang diajukan adalah nyata."
   ]
  },
  {
   "cell_type": "markdown",
   "metadata": {},
   "source": [
    "Sebelum mengecek kolerasi untuk variabel numerik, maka perlu melihat distribusi datanya dahulu apakah normal atau tidak. Jika normal, uji yang digunakan yaitu pearson dan jika tidak yang digunakan yaitu spearman."
   ]
  },
  {
   "cell_type": "code",
   "execution_count": 71,
   "metadata": {},
   "outputs": [
    {
     "data": {
      "text/plain": [
       "<seaborn.axisgrid.FacetGrid at 0x15ee94a8aa0>"
      ]
     },
     "execution_count": 71,
     "metadata": {},
     "output_type": "execute_result"
    },
    {
     "data": {
      "image/png": "[encoded data removed]",
      "text/plain": [
       "<Figure size 500x500 with 1 Axes>"
      ]
     },
     "metadata": {},
     "output_type": "display_data"
    }
   ],
   "source": [
    "# Plot Distribusi total_policy_claims dengan claim_amount\n",
    "sns.lmplot(data=data_claim, x='total_policy_claims', y='claim_amount')"
   ]
  },
  {
   "cell_type": "markdown",
   "metadata": {},
   "source": [
    "Dapat dilihat pada plot yang dihasilkan menunjukkan bahwa data tergolong tidak linear dan distribusi yang dihasilkan tidak seimbang sehingga analisa kolerasi spearman adalah pilihan yang tepat. "
   ]
  },
  {
   "cell_type": "code",
   "execution_count": 73,
   "metadata": {},
   "outputs": [
    {
     "data": {
      "text/plain": [
       "<seaborn.axisgrid.FacetGrid at 0x15eec319340>"
      ]
     },
     "execution_count": 73,
     "metadata": {},
     "output_type": "execute_result"
    },
    {
     "data": {
      "image/png": "[encoded data removed]",
      "text/plain": [
       "<Figure size 500x500 with 1 Axes>"
      ]
     },
     "metadata": {},
     "output_type": "display_data"
    }
   ],
   "source": [
    "# Plot distribusi untuk age dan claim_amount\n",
    "sns.lmplot(data=data_claim, x='Age', y='claim_amount')"
   ]
  },
  {
   "cell_type": "markdown",
   "metadata": {},
   "source": [
    "Dapat dilihat pada plot yang dihasilkan menunjukkan bahwa data tergolong tidak linear dan distribusi yang dihasilkan tidak seimbang sehingga analisa kolerasi spearman adalah pilihan yang tepat. "
   ]
  },
  {
   "cell_type": "code",
   "execution_count": 74,
   "metadata": {},
   "outputs": [
    {
     "name": "stdout",
     "output_type": "stream",
     "text": [
      "Colleration between total_policy_claims and claim_amount is:\n",
      "tau-correlation: -0.02, p-value: 0.5547051246395778 \n",
      "------------------------------------------------------------------------------------------\n",
      "Colleration between Age and claim_amount is:\n",
      "tau-correlation: -0.00, p-value: 0.9149029492317792 \n",
      "------------------------------------------------------------------------------------------\n"
     ]
    }
   ],
   "source": [
    "# Pengujian spearman pada variabel numerik\n",
    "columns_spearman = ['total_policy_claims', 'Age']\n",
    "\n",
    "for i in columns_spearman:\n",
    "  corr_rho, pval_s = stats.pearsonr(data_claim['claim_amount'], data_claim[i])\n",
    "  prompt = \"and they are dependent\" if pval_s<0.05 else \"\"\n",
    "  print(f\"Colleration between {i} and claim_amount is:\")\n",
    "  print(f\"tau-correlation: {corr_rho:.2f}, p-value: {pval_s} {prompt}\")\n",
    "  print(\"---\"*30)"
   ]
  },
  {
   "cell_type": "markdown",
   "metadata": {},
   "source": [
    "Berdasarkan analisa kolerasi dengan pearson, didapatkan bahwa dari kedua kolom (total_policy_claims dan age) tidak mempunyai kolerasi dengan kolom claim_amount. Maksudnya disini adalah jumlah klaim asuransi tidak dipengaruh oleh total polis yang diklaim dan usia dari pemilik asuransi.\n",
    "\n",
    "Berdasarkan analisa kolerasi dengan spearman, kolerasi yang dihasilkan yaitu:\n",
    "- Variabel total_policy_claims memiliki kolerasi 0 sehingga dinyatakan tidak ada kolerasi dengan variabel claim_amount \n",
    "- Variabel Age memiliki kolerasi di rentang 0.1 - 0.3 sehingga dinyatakan kolerasinya sangat lemah atau hampir tidak ada hubungan dengan claim_amount.\n",
    "- Kedua variabel tersebut memiliki nilai p-value >= 0.05 sehingga dinyatakan bahwa tidak ada hubungan secara signifikan atau nyata dengan claim_amount. "
   ]
  },
  {
   "cell_type": "markdown",
   "metadata": {},
   "source": [
    "Namun, perlu dilakukan pengecekan atau eksplorasi pada setiap variabel yang berpengaruh. Untuk mengeksplorasi tersebut, diperlukan perhitungan tingkat retensi terlebih dahulu dengan mengukur rata-rata claim_amount. Rata-rata tersebut merupakan tingkat retensi yang selanjutnya dilakukan uji hipotesis."
   ]
  },
  {
   "cell_type": "markdown",
   "metadata": {},
   "source": [
    "### Uji Hipotesis Variabel yang Mempunyai Kolerasi"
   ]
  },
  {
   "cell_type": "markdown",
   "metadata": {},
   "source": [
    "#### Variabel Penyebab Kecelakaan (incident_cause)"
   ]
  },
  {
   "cell_type": "markdown",
   "metadata": {},
   "source": [
    "Uji hipotesis yang dilakukan yaitu uji ANOVA yang mana digunakan untuk membandingkan rata-rata dari tiga atau lebih kelompok. "
   ]
  },
  {
   "cell_type": "code",
   "execution_count": 108,
   "metadata": {},
   "outputs": [
    {
     "data": {
      "text/plain": [
       "array(['Driver error', 'Crime', 'Other driver error', 'Natural causes',\n",
       "       'Other causes'], dtype=object)"
      ]
     },
     "execution_count": 108,
     "metadata": {},
     "output_type": "execute_result"
    }
   ],
   "source": [
    "# Mengecek unique value \n",
    "data_claim['incident_cause'].unique()"
   ]
  },
  {
   "cell_type": "markdown",
   "metadata": {},
   "source": [
    "Dilihat dari unique value, incident_cause terdiri dari 5 kelompok > 3 kelompok sehingga uji anova cocok untuk mengetahui hubungan dari variabel tersebut dengan claim_amount. Hal tersebut dikarenakan uji ANOVA  digunakan untuk membandingkan rata-rata dari tiga atau lebih kelompok. "
   ]
  },
  {
   "cell_type": "markdown",
   "metadata": {},
   "source": [
    "Hipotesa dari pengujian ini yaitu: \n",
    "\n",
    "**H0**: Tidak ada perbedaan signifikan di antara rata-rata kelompok \n",
    "\n",
    "**H1**: Setidaknya satu rata-rata kelompok berbeda secara signifikan dari yang lain"
   ]
  },
  {
   "cell_type": "code",
   "execution_count": 77,
   "metadata": {},
   "outputs": [],
   "source": [
    "# Dataframe baru berdasarkan Incident Cause\n",
    "Crime = data_claim['claim_amount'][data_claim['incident_cause']=='Crime']\n",
    "Drivererror = data_claim['claim_amount'][data_claim['incident_cause']=='Driver error']\n",
    "Otherdrivererror = data_claim['claim_amount'][data_claim['incident_cause']=='Other driver error']\n",
    "Naturalcauses = data_claim['claim_amount'][data_claim['incident_cause']=='Natural causes']\n",
    "Othercauses = data_claim['claim_amount'][data_claim['incident_cause']=='Other causes']"
   ]
  },
  {
   "cell_type": "code",
   "execution_count": 105,
   "metadata": {},
   "outputs": [
    {
     "name": "stdout",
     "output_type": "stream",
     "text": [
      "Average claim amount of Crime Group: \t\t\t 7029.99 US Dollar\n",
      "Average claim amount of Driver error Group: \t\t 13785.07 US Dollar\n",
      "Average claim amount of Other driver error Group: \t 14528.13 US Dollar\n",
      "Average claim amount of Natural causes Group: \t\t 7452.54 US Dollar\n",
      "Average claim amount of Other causes Group: \t\t 14823.61 US Dollar\n"
     ]
    }
   ],
   "source": [
    "# Rata-rata pada masing-masing kelompok\n",
    "print(f'Average claim amount of Crime Group: \\t\\t\\t {Crime.mean():.2f} US Dollar')\n",
    "print(f'Average claim amount of Driver error Group: \\t\\t {Drivererror.mean():.2f} US Dollar')\n",
    "print(f'Average claim amount of Other driver error Group: \\t {Otherdrivererror.mean():.2f} US Dollar')\n",
    "print(f'Average claim amount of Natural causes Group: \\t\\t {Naturalcauses.mean():.2f} US Dollar')\n",
    "print(f'Average claim amount of Other causes Group: \\t\\t {Othercauses.mean():.2f} US Dollar')"
   ]
  },
  {
   "cell_type": "code",
   "execution_count": 60,
   "metadata": {},
   "outputs": [
    {
     "data": {
      "text/html": [
       "<div>\n",
       "<style scoped>\n",
       "    .dataframe tbody tr th:only-of-type {\n",
       "        vertical-align: middle;\n",
       "    }\n",
       "\n",
       "    .dataframe tbody tr th {\n",
       "        vertical-align: top;\n",
       "    }\n",
       "\n",
       "    .dataframe thead th {\n",
       "        text-align: right;\n",
       "    }\n",
       "</style>\n",
       "<table border=\"1\" class=\"dataframe\">\n",
       "  <thead>\n",
       "    <tr style=\"text-align: right;\">\n",
       "      <th></th>\n",
       "      <th>claim_amount</th>\n",
       "    </tr>\n",
       "    <tr>\n",
       "      <th>incident_cause</th>\n",
       "      <th></th>\n",
       "    </tr>\n",
       "  </thead>\n",
       "  <tbody>\n",
       "    <tr>\n",
       "      <th>Crime</th>\n",
       "      <td>7029.985249</td>\n",
       "    </tr>\n",
       "    <tr>\n",
       "      <th>Driver error</th>\n",
       "      <td>13785.068590</td>\n",
       "    </tr>\n",
       "    <tr>\n",
       "      <th>Natural causes</th>\n",
       "      <td>7452.542009</td>\n",
       "    </tr>\n",
       "    <tr>\n",
       "      <th>Other causes</th>\n",
       "      <td>14823.609219</td>\n",
       "    </tr>\n",
       "    <tr>\n",
       "      <th>Other driver error</th>\n",
       "      <td>14528.128731</td>\n",
       "    </tr>\n",
       "  </tbody>\n",
       "</table>\n",
       "</div>"
      ],
      "text/plain": [
       "                    claim_amount\n",
       "incident_cause                  \n",
       "Crime                7029.985249\n",
       "Driver error        13785.068590\n",
       "Natural causes       7452.542009\n",
       "Other causes        14823.609219\n",
       "Other driver error  14528.128731"
      ]
     },
     "execution_count": 60,
     "metadata": {},
     "output_type": "execute_result"
    }
   ],
   "source": [
    "# Rata-rata claim amount berdasarkan incident cause \n",
    "mean_by_incident = data_claim.groupby('incident_cause')[['claim_amount']].mean()\n",
    "\n",
    "# Panggil variabel \n",
    "mean_by_incident"
   ]
  },
  {
   "cell_type": "code",
   "execution_count": 61,
   "metadata": {},
   "outputs": [
    {
     "name": "stderr",
     "output_type": "stream",
     "text": [
      "C:\\Users\\LENOVO\\AppData\\Local\\Temp\\ipykernel_12004\\4289709902.py:2: UserWarning: No artists with labels found to put in legend.  Note that artists whose label start with an underscore are ignored when legend() is called with no argument.\n",
      "  plt.legend(bbox_to_anchor=(1,1))\n"
     ]
    },
    {
     "data": {
      "image/png": "[encoded data removed]",
      "text/plain": [
       "<Figure size 640x480 with 1 Axes>"
      ]
     },
     "metadata": {},
     "output_type": "display_data"
    }
   ],
   "source": [
    "sns.barplot(data=mean_by_incident, x='incident_cause', y='claim_amount', orient='v')\n",
    "plt.legend(bbox_to_anchor=(1,1))\n",
    "plt.xticks(rotation=45)\n",
    "plt.show()"
   ]
  },
  {
   "cell_type": "markdown",
   "metadata": {},
   "source": [
    "Dapat dilihat bahwa rata-rata pada penyebab kecelakaan untuk crime dan natural causes mempunyai nilai yang hampir sama sedangkan untuk driver error, other causes, dan other driver juga mempunyai nilai yang hampir sama.\n",
    "\n",
    "Artinya informasi ini dapat digunakan oleh perusahaan asuransi untuk menetapkan premi yang lebih akurat berdasarkan risiko yang teridentifikasi. Misalnya, dilakukan penyesuain berdasarkan 2 kategori yang mana kategori 1 diakibatkan \"crime\" dan \"natural causes\" dan kategori 2 disebabkan oleh \"driver error,\" \"other causes,\" dan \"other driver\" yang nantinya premi dapat disesuikan berdasarkan kedua kategori tersebut."
   ]
  },
  {
   "cell_type": "code",
   "execution_count": 107,
   "metadata": {},
   "outputs": [
    {
     "name": "stdout",
     "output_type": "stream",
     "text": [
      "P-value: 7.04735932254346e-13\n"
     ]
    }
   ],
   "source": [
    "# Uji ANOVA\n",
    "res = stats.f_oneway(Crime, Drivererror, Otherdrivererror, Naturalcauses, Othercauses)\n",
    "print('P-value:',res.pvalue)"
   ]
  },
  {
   "cell_type": "markdown",
   "metadata": {},
   "source": [
    "Uji ANOVA menunjukkan p-value yang dihasilkan < 0,05 sehingga dapat disimpulkan bahwa **H0 berhasil ditolak** dan **H1 diterima** artinya setidaknya satu rata-rata kelompok pada penyebab kecelakaan berbeda secara signifikan dari yang lain yang mana mempengaruhi besarnya klaim yang diajukan. "
   ]
  },
  {
   "cell_type": "markdown",
   "metadata": {},
   "source": [
    "#### Variabel Ada atau tidaknya laporan kepada pihak kepolisian (police_report)"
   ]
  },
  {
   "cell_type": "code",
   "execution_count": 109,
   "metadata": {},
   "outputs": [
    {
     "data": {
      "text/plain": [
       "array(['No', 'Unknown', 'Yes'], dtype=object)"
      ]
     },
     "execution_count": 109,
     "metadata": {},
     "output_type": "execute_result"
    }
   ],
   "source": [
    "# Mengecek unique value \n",
    "data_claim['police_report'].unique()"
   ]
  },
  {
   "cell_type": "markdown",
   "metadata": {},
   "source": [
    "Dilihat dari unique value, police report terdiri dari 3 kelompok sehingga uji anova cocok untuk mengetahui hubungan dari variabel tersebut dengan claim_amount. Hal tersebut dikarenakan, uji ANOVA digunakan untuk membandingkan rata-rata dari tiga atau lebih kelompok. "
   ]
  },
  {
   "cell_type": "markdown",
   "metadata": {},
   "source": [
    "Hipotesa dari pengujian ini yaitu: \n",
    "\n",
    "**H0**: Tidak ada perbedaan signifikan di antara rata-rata kelompok \n",
    "\n",
    "**H1**: Setidaknya satu rata-rata kelompok berbeda secara signifikan dari yang lain"
   ]
  },
  {
   "cell_type": "code",
   "execution_count": 111,
   "metadata": {},
   "outputs": [],
   "source": [
    "# Dataframe baru berdasarkan police report\n",
    "No = data_claim['claim_amount'][data_claim['police_report']=='No']\n",
    "Unknown = data_claim['claim_amount'][data_claim['police_report']=='Unknown']\n",
    "Yes = data_claim['claim_amount'][data_claim['police_report']=='Yes']\n"
   ]
  },
  {
   "cell_type": "code",
   "execution_count": 116,
   "metadata": {},
   "outputs": [
    {
     "name": "stdout",
     "output_type": "stream",
     "text": [
      "Average claim amount of No: \t 8568.85 US Dollar\n",
      "Average claim amount of Unknown: 14538.26 US Dollar\n",
      "Average claim amount of Yes: \t  23231.27 US Dollar\n"
     ]
    }
   ],
   "source": [
    "# Rata-rata pada masing-masing kelompok\n",
    "print(f'Average claim amount of No: \\t {No.mean():.2f} US Dollar')\n",
    "print(f'Average claim amount of Unknown: {Unknown.mean():.2f} US Dollar')\n",
    "print(f'Average claim amount of Yes: \\t  {Yes.mean():.2f} US Dollar')"
   ]
  },
  {
   "cell_type": "code",
   "execution_count": 117,
   "metadata": {},
   "outputs": [
    {
     "data": {
      "text/html": [
       "<div>\n",
       "<style scoped>\n",
       "    .dataframe tbody tr th:only-of-type {\n",
       "        vertical-align: middle;\n",
       "    }\n",
       "\n",
       "    .dataframe tbody tr th {\n",
       "        vertical-align: top;\n",
       "    }\n",
       "\n",
       "    .dataframe thead th {\n",
       "        text-align: right;\n",
       "    }\n",
       "</style>\n",
       "<table border=\"1\" class=\"dataframe\">\n",
       "  <thead>\n",
       "    <tr style=\"text-align: right;\">\n",
       "      <th></th>\n",
       "      <th>claim_amount</th>\n",
       "    </tr>\n",
       "    <tr>\n",
       "      <th>police_report</th>\n",
       "      <th></th>\n",
       "    </tr>\n",
       "  </thead>\n",
       "  <tbody>\n",
       "    <tr>\n",
       "      <th>No</th>\n",
       "      <td>8568.848308</td>\n",
       "    </tr>\n",
       "    <tr>\n",
       "      <th>Unknown</th>\n",
       "      <td>14538.263182</td>\n",
       "    </tr>\n",
       "    <tr>\n",
       "      <th>Yes</th>\n",
       "      <td>23231.271359</td>\n",
       "    </tr>\n",
       "  </tbody>\n",
       "</table>\n",
       "</div>"
      ],
      "text/plain": [
       "               claim_amount\n",
       "police_report              \n",
       "No              8568.848308\n",
       "Unknown        14538.263182\n",
       "Yes            23231.271359"
      ]
     },
     "execution_count": 117,
     "metadata": {},
     "output_type": "execute_result"
    }
   ],
   "source": [
    "# Rata-rata claim amount berdasarkan police report\n",
    "mean_by_police = data_claim.groupby('police_report')[['claim_amount']].mean()\n",
    "\n",
    "# Memanggil variabel \n",
    "mean_by_police"
   ]
  },
  {
   "cell_type": "code",
   "execution_count": 267,
   "metadata": {},
   "outputs": [
    {
     "name": "stderr",
     "output_type": "stream",
     "text": [
      "C:\\Users\\LENOVO\\AppData\\Local\\Temp\\ipykernel_764\\1352334876.py:2: UserWarning: No artists with labels found to put in legend.  Note that artists whose label start with an underscore are ignored when legend() is called with no argument.\n",
      "  plt.legend(bbox_to_anchor=(1,1))\n"
     ]
    },
    {
     "data": {
      "image/png": "[encoded data removed]",
      "text/plain": [
       "<Figure size 640x480 with 1 Axes>"
      ]
     },
     "metadata": {},
     "output_type": "display_data"
    }
   ],
   "source": [
    "sns.barplot(data=mean_by_police, x='police_report', y='claim_amount', orient='v')\n",
    "plt.legend(bbox_to_anchor=(1,1))\n",
    "plt.show()"
   ]
  },
  {
   "cell_type": "markdown",
   "metadata": {},
   "source": [
    "Dapat dilihat bahwa besarnya jumlah klaim asuransi rata-rata tertinggi ada di kategori \"Yes\" atau terdapat adanya laporan kepada pihak kepolisian. Artinya, kerusakan yang diakibatkan dari kecelakaan yaitu besar dan melibatkan kepolisian sehingga jumlah asuransi yang di klaim juga besar."
   ]
  },
  {
   "cell_type": "code",
   "execution_count": 118,
   "metadata": {},
   "outputs": [
    {
     "name": "stdout",
     "output_type": "stream",
     "text": [
      "P-value: 1.550348071260915e-40\n"
     ]
    }
   ],
   "source": [
    "# Uji ANOVA\n",
    "res = stats.f_oneway(No, Unknown, Yes)\n",
    "print('P-value:',res.pvalue)"
   ]
  },
  {
   "cell_type": "markdown",
   "metadata": {},
   "source": [
    "Uji ANOVA menunjukkan p-value yang dihasilkan < 0,05 sehingga dapat disimpulkan bahwa **H0 berhadil ditolak** dan **H1 diterima** artinya setidaknya satu rata-rata kelompok pada ada atau tidaknya laporan kepada pihak kepolisian berbeda secara signifikan dari yang lain yang mana mempengaruhi besarnya klaim yang diajukan. "
   ]
  },
  {
   "cell_type": "markdown",
   "metadata": {},
   "source": [
    "#### Variabel tipe klaim (claim_type)"
   ]
  },
  {
   "cell_type": "code",
   "execution_count": 120,
   "metadata": {},
   "outputs": [
    {
     "data": {
      "text/plain": [
       "array(['Material only', 'Injury only', 'Material and injury'],\n",
       "      dtype=object)"
      ]
     },
     "execution_count": 120,
     "metadata": {},
     "output_type": "execute_result"
    }
   ],
   "source": [
    "# Mengecek unique value \n",
    "data_claim['claim_type'].unique()"
   ]
  },
  {
   "cell_type": "markdown",
   "metadata": {},
   "source": [
    "Dilihat dari unique value, tipe klaim terdiri dari 3 kelompok sehingga uji anova cocok untuk mengetahui hubungan dari variabel tersebut dengan claim_amount. Hal tersebut dikarenakan, uji ANOVA digunakan untuk membandingkan rata-rata dari tiga atau lebih kelompok. "
   ]
  },
  {
   "cell_type": "code",
   "execution_count": 121,
   "metadata": {},
   "outputs": [],
   "source": [
    "# Dataframe baru berdasarkan police report\n",
    "Material_only = data_claim['claim_amount'][data_claim['claim_type']=='Material only']\n",
    "Injury_only = data_claim['claim_amount'][data_claim['claim_type']=='Injury only']\n",
    "Material_and_injury = data_claim['claim_amount'][data_claim['claim_type']=='Material and injury']"
   ]
  },
  {
   "cell_type": "code",
   "execution_count": 125,
   "metadata": {},
   "outputs": [
    {
     "name": "stdout",
     "output_type": "stream",
     "text": [
      "Average claim amount of Material only: \t\t 2748.81 US Dollar\n",
      "Average claim amount of Injury only: \t\t 25959.40 US Dollar\n",
      "Average claim amount of Material and injury: \t 28145.06 US Dollar\n"
     ]
    }
   ],
   "source": [
    "# Rata-rata pada masing-masing kelompok\n",
    "print(f'Average claim amount of Material only: \\t\\t {Material_only.mean():.2f} US Dollar')\n",
    "print(f'Average claim amount of Injury only: \\t\\t {Injury_only.mean():.2f} US Dollar')\n",
    "print(f'Average claim amount of Material and injury: \\t {Material_and_injury.mean():.2f} US Dollar')"
   ]
  },
  {
   "cell_type": "code",
   "execution_count": 268,
   "metadata": {},
   "outputs": [
    {
     "data": {
      "text/html": [
       "<div>\n",
       "<style scoped>\n",
       "    .dataframe tbody tr th:only-of-type {\n",
       "        vertical-align: middle;\n",
       "    }\n",
       "\n",
       "    .dataframe tbody tr th {\n",
       "        vertical-align: top;\n",
       "    }\n",
       "\n",
       "    .dataframe thead th {\n",
       "        text-align: right;\n",
       "    }\n",
       "</style>\n",
       "<table border=\"1\" class=\"dataframe\">\n",
       "  <thead>\n",
       "    <tr style=\"text-align: right;\">\n",
       "      <th></th>\n",
       "      <th>claim_amount</th>\n",
       "    </tr>\n",
       "    <tr>\n",
       "      <th>claim_type</th>\n",
       "      <th></th>\n",
       "    </tr>\n",
       "  </thead>\n",
       "  <tbody>\n",
       "    <tr>\n",
       "      <th>Injury only</th>\n",
       "      <td>25959.397411</td>\n",
       "    </tr>\n",
       "    <tr>\n",
       "      <th>Material and injury</th>\n",
       "      <td>28145.059051</td>\n",
       "    </tr>\n",
       "    <tr>\n",
       "      <th>Material only</th>\n",
       "      <td>2748.809799</td>\n",
       "    </tr>\n",
       "  </tbody>\n",
       "</table>\n",
       "</div>"
      ],
      "text/plain": [
       "                     claim_amount\n",
       "claim_type                       \n",
       "Injury only          25959.397411\n",
       "Material and injury  28145.059051\n",
       "Material only         2748.809799"
      ]
     },
     "execution_count": 268,
     "metadata": {},
     "output_type": "execute_result"
    }
   ],
   "source": [
    "# Rata-rata claim amount berdasarkan claim tipe\n",
    "mean_by_claimtype = data_claim.groupby('claim_type')[['claim_amount']].mean()\n",
    "\n",
    "# Memanggil data \n",
    "mean_by_claimtype"
   ]
  },
  {
   "cell_type": "code",
   "execution_count": 269,
   "metadata": {},
   "outputs": [
    {
     "name": "stderr",
     "output_type": "stream",
     "text": [
      "C:\\Users\\LENOVO\\AppData\\Local\\Temp\\ipykernel_764\\462908248.py:2: UserWarning: No artists with labels found to put in legend.  Note that artists whose label start with an underscore are ignored when legend() is called with no argument.\n",
      "  plt.legend(bbox_to_anchor=(1,1))\n"
     ]
    },
    {
     "data": {
      "image/png": "[encoded data removed]",
      "text/plain": [
       "<Figure size 640x480 with 1 Axes>"
      ]
     },
     "metadata": {},
     "output_type": "display_data"
    }
   ],
   "source": [
    "sns.barplot(data=mean_by_claimtype, x='claim_type', y='claim_amount', orient='v')\n",
    "plt.legend(bbox_to_anchor=(1,1))\n",
    "plt.show()"
   ]
  },
  {
   "cell_type": "markdown",
   "metadata": {},
   "source": [
    "Dapat dilihat bahwa besarnya jumlah klaim asuransi pada kategori 'injury only ' dan 'material and injury' tidak berbeda secara signifikan sedangkan 'material only' justru memiliki selisih yang jauh dari kedua kategori tersebut. Artinya kedua kategori yaitu 'injury only' dan 'material and injury' kerusakannya cukup parah sehingga klaim yang diajukan lebih tinggi harganya dibanding 'material only'."
   ]
  },
  {
   "cell_type": "code",
   "execution_count": 126,
   "metadata": {},
   "outputs": [
    {
     "name": "stdout",
     "output_type": "stream",
     "text": [
      "P-value: 0.0\n"
     ]
    }
   ],
   "source": [
    "# Uji ANOVA\n",
    "res = stats.f_oneway(Injury_only, Material_only, Material_and_injury)\n",
    "print('P-value:',res.pvalue)"
   ]
  },
  {
   "cell_type": "markdown",
   "metadata": {},
   "source": [
    "Uji ANOVA menunjukkan p-value yang dihasilkan < 0,05 sehingga dapat disimpulkan bahwa **H0 berhadil ditolak** dan **H1 diterima** artinya setidaknya satu rata-rata kelompok pada tipe klaim berbeda secara signifikan dari yang lain yang mana mempengaruhi besarnya klaim yang diajukan. "
   ]
  },
  {
   "cell_type": "markdown",
   "metadata": {},
   "source": [
    "## Pelanggan yang paling sering melakukan klaim asuransi"
   ]
  },
  {
   "cell_type": "code",
   "execution_count": 152,
   "metadata": {},
   "outputs": [
    {
     "data": {
      "text/plain": [
       "1085"
      ]
     },
     "execution_count": 152,
     "metadata": {},
     "output_type": "execute_result"
    }
   ],
   "source": [
    "# Mengecek panjang data kembali\n",
    "len(data_claim)"
   ]
  },
  {
   "cell_type": "markdown",
   "metadata": {},
   "source": [
    "Terdapat 1085 data pelanggan beserta dengan variabel-variabelnya."
   ]
  },
  {
   "cell_type": "markdown",
   "metadata": {},
   "source": [
    "### Berdasarkan jenis kelamin dan kategori umur"
   ]
  },
  {
   "cell_type": "markdown",
   "metadata": {},
   "source": [
    "#### Banyaknya klaim yang diajukan"
   ]
  },
  {
   "cell_type": "code",
   "execution_count": 153,
   "metadata": {},
   "outputs": [
    {
     "name": "stdout",
     "output_type": "stream",
     "text": [
      "AgeCategory  Adult  Senior  Youth\n",
      "gender                           \n",
      "Female         511       8     13\n",
      "Male           516      11     26\n"
     ]
    }
   ],
   "source": [
    "# Ingin tau berdasarkan jenis kelamin (gender) dan kategori umur (age)\n",
    "gender_age_counts = pd.crosstab(data_claim['gender'], data_claim['AgeCategory'])\n",
    "print(gender_age_counts)"
   ]
  },
  {
   "cell_type": "markdown",
   "metadata": {},
   "source": [
    "Dapat dilihat bahwa, berdasarkan jenis kelamin klaim asuransi sebagian besar dilakukan oleh laki-laki dibandingkan perempuan. Jika dijumlahkan laki-laki sebesar 553 sedangkan perempuan sebesar 532. "
   ]
  },
  {
   "cell_type": "markdown",
   "metadata": {},
   "source": [
    "#### Rata-rata jumlah klaim yang diajukan"
   ]
  },
  {
   "cell_type": "code",
   "execution_count": 154,
   "metadata": {},
   "outputs": [
    {
     "data": {
      "text/html": [
       "<div>\n",
       "<style scoped>\n",
       "    .dataframe tbody tr th:only-of-type {\n",
       "        vertical-align: middle;\n",
       "    }\n",
       "\n",
       "    .dataframe tbody tr th {\n",
       "        vertical-align: top;\n",
       "    }\n",
       "\n",
       "    .dataframe thead th {\n",
       "        text-align: right;\n",
       "    }\n",
       "</style>\n",
       "<table border=\"1\" class=\"dataframe\">\n",
       "  <thead>\n",
       "    <tr style=\"text-align: right;\">\n",
       "      <th></th>\n",
       "      <th>gender</th>\n",
       "      <th>AgeCategory</th>\n",
       "      <th>claim_amount</th>\n",
       "    </tr>\n",
       "  </thead>\n",
       "  <tbody>\n",
       "    <tr>\n",
       "      <th>0</th>\n",
       "      <td>Female</td>\n",
       "      <td>Adult</td>\n",
       "      <td>12089.867350</td>\n",
       "    </tr>\n",
       "    <tr>\n",
       "      <th>1</th>\n",
       "      <td>Female</td>\n",
       "      <td>Senior</td>\n",
       "      <td>10994.505515</td>\n",
       "    </tr>\n",
       "    <tr>\n",
       "      <th>2</th>\n",
       "      <td>Female</td>\n",
       "      <td>Youth</td>\n",
       "      <td>9385.038462</td>\n",
       "    </tr>\n",
       "    <tr>\n",
       "      <th>3</th>\n",
       "      <td>Male</td>\n",
       "      <td>Adult</td>\n",
       "      <td>12888.720902</td>\n",
       "    </tr>\n",
       "    <tr>\n",
       "      <th>4</th>\n",
       "      <td>Male</td>\n",
       "      <td>Senior</td>\n",
       "      <td>12122.772727</td>\n",
       "    </tr>\n",
       "    <tr>\n",
       "      <th>5</th>\n",
       "      <td>Male</td>\n",
       "      <td>Youth</td>\n",
       "      <td>13677.694005</td>\n",
       "    </tr>\n",
       "  </tbody>\n",
       "</table>\n",
       "</div>"
      ],
      "text/plain": [
       "   gender AgeCategory  claim_amount\n",
       "0  Female       Adult  12089.867350\n",
       "1  Female      Senior  10994.505515\n",
       "2  Female       Youth   9385.038462\n",
       "3    Male       Adult  12888.720902\n",
       "4    Male      Senior  12122.772727\n",
       "5    Male       Youth  13677.694005"
      ]
     },
     "execution_count": 154,
     "metadata": {},
     "output_type": "execute_result"
    }
   ],
   "source": [
    "# Ingin tau berdasarkan rata-ratanya \n",
    "gender_age = data_claim.groupby(['gender','AgeCategory'])['claim_amount'].mean().reset_index()\n",
    "gender_age"
   ]
  },
  {
   "cell_type": "code",
   "execution_count": 155,
   "metadata": {},
   "outputs": [
    {
     "data": {
      "image/png": "[encoded data removed]",
      "text/plain": [
       "<Figure size 640x480 with 1 Axes>"
      ]
     },
     "metadata": {},
     "output_type": "display_data"
    }
   ],
   "source": [
    "sns.barplot(data=gender_age, x='gender', y='claim_amount', orient='v', hue='AgeCategory', palette='Blues_d')\n",
    "plt.legend(bbox_to_anchor=(1,1))\n",
    "plt.show()"
   ]
  },
  {
   "cell_type": "markdown",
   "metadata": {},
   "source": [
    "Rata-rata besarnya klaim asuransi yang diajukan lebih banyak yaitu pada laki-laki remaja."
   ]
  },
  {
   "cell_type": "markdown",
   "metadata": {},
   "source": [
    "### Berdasarkan Kota (state)"
   ]
  },
  {
   "cell_type": "markdown",
   "metadata": {},
   "source": [
    "#### Banyaknya klaim yang diajukan"
   ]
  },
  {
   "cell_type": "code",
   "execution_count": 156,
   "metadata": {},
   "outputs": [
    {
     "data": {
      "text/plain": [
       "State\n",
       "New York          31\n",
       "Arkansas          29\n",
       "Delaware          29\n",
       "Alabama           28\n",
       "Maine             28\n",
       "Idaho             27\n",
       "North Dakota      27\n",
       "Tennessee         26\n",
       "Rhode Island      26\n",
       "Iowa              26\n",
       "Colorado          26\n",
       "South Dakota      25\n",
       "Connecticut       25\n",
       "Massachusetts     25\n",
       "Nevada            25\n",
       "Florida           25\n",
       "Wisconsin         24\n",
       "North Carolina    24\n",
       "Illinois          23\n",
       "Missouri          23\n",
       "Ohio              22\n",
       "Vermont           22\n",
       "Indiana           22\n",
       "Texas             22\n",
       "Maryland          21\n",
       "Oklahoma          21\n",
       "Nebraska          21\n",
       "Montana           20\n",
       "Louisiana         20\n",
       "Pennsylvania      20\n",
       "South Carolina    20\n",
       "West Virginia     20\n",
       "Alaska            19\n",
       "Washington        19\n",
       "New Mexico        19\n",
       "Georgia           19\n",
       "Kansas            19\n",
       "New Hampshire     18\n",
       "Virginia          18\n",
       "Michigan          18\n",
       "Utah              18\n",
       "Minnesota         17\n",
       "Mississippi       17\n",
       "New Jersey        17\n",
       "Wyoming           17\n",
       "California        17\n",
       "Hawaii            17\n",
       "Arizona           15\n",
       "Kentucky          14\n",
       "Oregon            14\n",
       "Name: count, dtype: int64"
      ]
     },
     "execution_count": 156,
     "metadata": {},
     "output_type": "execute_result"
    }
   ],
   "source": [
    "# Dilihat dari value masing-masing kota \n",
    "data_claim['State'].value_counts()"
   ]
  },
  {
   "cell_type": "markdown",
   "metadata": {},
   "source": [
    "Dapat dilihat bahwa kota paling banyak melakukan klaim yaitu New York sebesar 31 klaim dan paling sedikit yaitu Kentucky dan Oregon sebesar 14 klaim."
   ]
  },
  {
   "cell_type": "markdown",
   "metadata": {},
   "source": [
    "#### Rata-rata jumlah klaim yang diajukan"
   ]
  },
  {
   "cell_type": "code",
   "execution_count": 172,
   "metadata": {},
   "outputs": [
    {
     "data": {
      "text/html": [
       "<div>\n",
       "<style scoped>\n",
       "    .dataframe tbody tr th:only-of-type {\n",
       "        vertical-align: middle;\n",
       "    }\n",
       "\n",
       "    .dataframe tbody tr th {\n",
       "        vertical-align: top;\n",
       "    }\n",
       "\n",
       "    .dataframe thead th {\n",
       "        text-align: right;\n",
       "    }\n",
       "</style>\n",
       "<table border=\"1\" class=\"dataframe\">\n",
       "  <thead>\n",
       "    <tr style=\"text-align: right;\">\n",
       "      <th></th>\n",
       "      <th>claim_amount</th>\n",
       "    </tr>\n",
       "    <tr>\n",
       "      <th>State</th>\n",
       "      <th></th>\n",
       "    </tr>\n",
       "  </thead>\n",
       "  <tbody>\n",
       "    <tr>\n",
       "      <th>Montana</th>\n",
       "      <td>18080.009069</td>\n",
       "    </tr>\n",
       "    <tr>\n",
       "      <th>Arizona</th>\n",
       "      <td>17792.324183</td>\n",
       "    </tr>\n",
       "    <tr>\n",
       "      <th>Nevada</th>\n",
       "      <td>16888.394510</td>\n",
       "    </tr>\n",
       "    <tr>\n",
       "      <th>Maine</th>\n",
       "      <td>16856.220763</td>\n",
       "    </tr>\n",
       "    <tr>\n",
       "      <th>New Jersey</th>\n",
       "      <td>16494.588235</td>\n",
       "    </tr>\n",
       "    <tr>\n",
       "      <th>West Virginia</th>\n",
       "      <td>16387.525000</td>\n",
       "    </tr>\n",
       "    <tr>\n",
       "      <th>North Carolina</th>\n",
       "      <td>15927.598448</td>\n",
       "    </tr>\n",
       "    <tr>\n",
       "      <th>Alaska</th>\n",
       "      <td>15505.703302</td>\n",
       "    </tr>\n",
       "    <tr>\n",
       "      <th>Idaho</th>\n",
       "      <td>15112.013435</td>\n",
       "    </tr>\n",
       "    <tr>\n",
       "      <th>Michigan</th>\n",
       "      <td>14736.166667</td>\n",
       "    </tr>\n",
       "    <tr>\n",
       "      <th>New Mexico</th>\n",
       "      <td>14382.509546</td>\n",
       "    </tr>\n",
       "    <tr>\n",
       "      <th>Wisconsin</th>\n",
       "      <td>14310.875000</td>\n",
       "    </tr>\n",
       "    <tr>\n",
       "      <th>Kansas</th>\n",
       "      <td>14228.686533</td>\n",
       "    </tr>\n",
       "    <tr>\n",
       "      <th>California</th>\n",
       "      <td>14189.911765</td>\n",
       "    </tr>\n",
       "    <tr>\n",
       "      <th>New Hampshire</th>\n",
       "      <td>14178.010076</td>\n",
       "    </tr>\n",
       "    <tr>\n",
       "      <th>Texas</th>\n",
       "      <td>14121.493761</td>\n",
       "    </tr>\n",
       "    <tr>\n",
       "      <th>Washington</th>\n",
       "      <td>14007.289474</td>\n",
       "    </tr>\n",
       "    <tr>\n",
       "      <th>Ohio</th>\n",
       "      <td>13885.795455</td>\n",
       "    </tr>\n",
       "    <tr>\n",
       "      <th>Vermont</th>\n",
       "      <td>13788.371881</td>\n",
       "    </tr>\n",
       "    <tr>\n",
       "      <th>South Dakota</th>\n",
       "      <td>13774.061765</td>\n",
       "    </tr>\n",
       "    <tr>\n",
       "      <th>Missouri</th>\n",
       "      <td>13540.958440</td>\n",
       "    </tr>\n",
       "    <tr>\n",
       "      <th>Tennessee</th>\n",
       "      <td>12987.653846</td>\n",
       "    </tr>\n",
       "    <tr>\n",
       "      <th>South Carolina</th>\n",
       "      <td>12928.668137</td>\n",
       "    </tr>\n",
       "    <tr>\n",
       "      <th>Hawaii</th>\n",
       "      <td>12842.355536</td>\n",
       "    </tr>\n",
       "    <tr>\n",
       "      <th>Oregon</th>\n",
       "      <td>12609.155812</td>\n",
       "    </tr>\n",
       "    <tr>\n",
       "      <th>Louisiana</th>\n",
       "      <td>12595.811275</td>\n",
       "    </tr>\n",
       "    <tr>\n",
       "      <th>Rhode Island</th>\n",
       "      <td>12457.192308</td>\n",
       "    </tr>\n",
       "    <tr>\n",
       "      <th>Illinois</th>\n",
       "      <td>12361.478261</td>\n",
       "    </tr>\n",
       "    <tr>\n",
       "      <th>Maryland</th>\n",
       "      <td>12181.023810</td>\n",
       "    </tr>\n",
       "    <tr>\n",
       "      <th>Minnesota</th>\n",
       "      <td>12160.069493</td>\n",
       "    </tr>\n",
       "    <tr>\n",
       "      <th>Massachusetts</th>\n",
       "      <td>11963.374510</td>\n",
       "    </tr>\n",
       "    <tr>\n",
       "      <th>Nebraska</th>\n",
       "      <td>11640.398226</td>\n",
       "    </tr>\n",
       "    <tr>\n",
       "      <th>Iowa</th>\n",
       "      <td>11156.680053</td>\n",
       "    </tr>\n",
       "    <tr>\n",
       "      <th>Delaware</th>\n",
       "      <td>11154.495267</td>\n",
       "    </tr>\n",
       "    <tr>\n",
       "      <th>Connecticut</th>\n",
       "      <td>11146.534510</td>\n",
       "    </tr>\n",
       "    <tr>\n",
       "      <th>Colorado</th>\n",
       "      <td>11089.673077</td>\n",
       "    </tr>\n",
       "    <tr>\n",
       "      <th>Oklahoma</th>\n",
       "      <td>10965.335434</td>\n",
       "    </tr>\n",
       "    <tr>\n",
       "      <th>Alabama</th>\n",
       "      <td>10811.571429</td>\n",
       "    </tr>\n",
       "    <tr>\n",
       "      <th>Pennsylvania</th>\n",
       "      <td>10620.109069</td>\n",
       "    </tr>\n",
       "    <tr>\n",
       "      <th>Indiana</th>\n",
       "      <td>9732.175579</td>\n",
       "    </tr>\n",
       "    <tr>\n",
       "      <th>Utah</th>\n",
       "      <td>9470.926743</td>\n",
       "    </tr>\n",
       "    <tr>\n",
       "      <th>Florida</th>\n",
       "      <td>9371.007255</td>\n",
       "    </tr>\n",
       "    <tr>\n",
       "      <th>New York</th>\n",
       "      <td>9362.715528</td>\n",
       "    </tr>\n",
       "    <tr>\n",
       "      <th>Arkansas</th>\n",
       "      <td>9157.242901</td>\n",
       "    </tr>\n",
       "    <tr>\n",
       "      <th>North Dakota</th>\n",
       "      <td>9148.932643</td>\n",
       "    </tr>\n",
       "    <tr>\n",
       "      <th>Wyoming</th>\n",
       "      <td>8672.422434</td>\n",
       "    </tr>\n",
       "    <tr>\n",
       "      <th>Georgia</th>\n",
       "      <td>8055.377967</td>\n",
       "    </tr>\n",
       "    <tr>\n",
       "      <th>Virginia</th>\n",
       "      <td>6561.686819</td>\n",
       "    </tr>\n",
       "    <tr>\n",
       "      <th>Kentucky</th>\n",
       "      <td>6420.155812</td>\n",
       "    </tr>\n",
       "    <tr>\n",
       "      <th>Mississippi</th>\n",
       "      <td>6360.951845</td>\n",
       "    </tr>\n",
       "  </tbody>\n",
       "</table>\n",
       "</div>"
      ],
      "text/plain": [
       "                claim_amount\n",
       "State                       \n",
       "Montana         18080.009069\n",
       "Arizona         17792.324183\n",
       "Nevada          16888.394510\n",
       "Maine           16856.220763\n",
       "New Jersey      16494.588235\n",
       "West Virginia   16387.525000\n",
       "North Carolina  15927.598448\n",
       "Alaska          15505.703302\n",
       "Idaho           15112.013435\n",
       "Michigan        14736.166667\n",
       "New Mexico      14382.509546\n",
       "Wisconsin       14310.875000\n",
       "Kansas          14228.686533\n",
       "California      14189.911765\n",
       "New Hampshire   14178.010076\n",
       "Texas           14121.493761\n",
       "Washington      14007.289474\n",
       "Ohio            13885.795455\n",
       "Vermont         13788.371881\n",
       "South Dakota    13774.061765\n",
       "Missouri        13540.958440\n",
       "Tennessee       12987.653846\n",
       "South Carolina  12928.668137\n",
       "Hawaii          12842.355536\n",
       "Oregon          12609.155812\n",
       "Louisiana       12595.811275\n",
       "Rhode Island    12457.192308\n",
       "Illinois        12361.478261\n",
       "Maryland        12181.023810\n",
       "Minnesota       12160.069493\n",
       "Massachusetts   11963.374510\n",
       "Nebraska        11640.398226\n",
       "Iowa            11156.680053\n",
       "Delaware        11154.495267\n",
       "Connecticut     11146.534510\n",
       "Colorado        11089.673077\n",
       "Oklahoma        10965.335434\n",
       "Alabama         10811.571429\n",
       "Pennsylvania    10620.109069\n",
       "Indiana          9732.175579\n",
       "Utah             9470.926743\n",
       "Florida          9371.007255\n",
       "New York         9362.715528\n",
       "Arkansas         9157.242901\n",
       "North Dakota     9148.932643\n",
       "Wyoming          8672.422434\n",
       "Georgia          8055.377967\n",
       "Virginia         6561.686819\n",
       "Kentucky         6420.155812\n",
       "Mississippi      6360.951845"
      ]
     },
     "execution_count": 172,
     "metadata": {},
     "output_type": "execute_result"
    }
   ],
   "source": [
    "# Rata-rata claim amount berdasarkan incident cause \n",
    "mean_by_state = data_claim.groupby('State')[['claim_amount']].mean()\n",
    "\n",
    "# Panggil variabel \n",
    "mean_by_state.sort_values(by='claim_amount', ascending=False)"
   ]
  },
  {
   "cell_type": "markdown",
   "metadata": {},
   "source": [
    "Dapat dilihat bahwa kota yang jumlah klaim asuransinya paling banyak yaitu Montana sebesar 18080 US Dollar dan paling sedikit yaitu Mississippi sebesar 6361 US Dollar."
   ]
  },
  {
   "cell_type": "markdown",
   "metadata": {},
   "source": [
    "### Berdasarkan wilayah (Region)"
   ]
  },
  {
   "cell_type": "markdown",
   "metadata": {},
   "source": [
    "#### Banyaknya klaim yang diajukan"
   ]
  },
  {
   "cell_type": "code",
   "execution_count": 173,
   "metadata": {},
   "outputs": [
    {
     "data": {
      "text/plain": [
       "Region\n",
       "South        353\n",
       "Midwest      267\n",
       "West         253\n",
       "Northeast    212\n",
       "Name: count, dtype: int64"
      ]
     },
     "execution_count": 173,
     "metadata": {},
     "output_type": "execute_result"
    }
   ],
   "source": [
    "# Ingin tau berdasarkan wilayah (region)\n",
    "data_claim['Region'].value_counts()"
   ]
  },
  {
   "cell_type": "code",
   "execution_count": 175,
   "metadata": {},
   "outputs": [
    {
     "data": {
      "image/png": "[encoded data removed]",
      "text/plain": [
       "<Figure size 800x800 with 1 Axes>"
      ]
     },
     "metadata": {},
     "output_type": "display_data"
    }
   ],
   "source": [
    "fig,ax1 = plt.subplots(figsize=(8,8))\n",
    "\n",
    "data_claim['Region'].value_counts().plot(kind='pie', autopct='%.2f%%',ax=ax1)\n",
    "plt.show()"
   ]
  },
  {
   "cell_type": "markdown",
   "metadata": {},
   "source": [
    "Dapat dilihat bahwa, klaim asuransi sebagian besar dilakukan oleh diwilayah South dengan persentase 32.53% diikuti oleh Midwest (24.61%), West (23.32%) dan Northeast (19.54%)"
   ]
  },
  {
   "cell_type": "markdown",
   "metadata": {},
   "source": [
    "#### Rata-rata jumlah klaim yang diajukan"
   ]
  },
  {
   "cell_type": "code",
   "execution_count": 143,
   "metadata": {},
   "outputs": [
    {
     "data": {
      "text/html": [
       "<div>\n",
       "<style scoped>\n",
       "    .dataframe tbody tr th:only-of-type {\n",
       "        vertical-align: middle;\n",
       "    }\n",
       "\n",
       "    .dataframe tbody tr th {\n",
       "        vertical-align: top;\n",
       "    }\n",
       "\n",
       "    .dataframe thead th {\n",
       "        text-align: right;\n",
       "    }\n",
       "</style>\n",
       "<table border=\"1\" class=\"dataframe\">\n",
       "  <thead>\n",
       "    <tr style=\"text-align: right;\">\n",
       "      <th></th>\n",
       "      <th>claim_amount</th>\n",
       "    </tr>\n",
       "    <tr>\n",
       "      <th>Region</th>\n",
       "      <th></th>\n",
       "    </tr>\n",
       "  </thead>\n",
       "  <tbody>\n",
       "    <tr>\n",
       "      <th>Midwest</th>\n",
       "      <td>12460.765550</td>\n",
       "    </tr>\n",
       "    <tr>\n",
       "      <th>Northeast</th>\n",
       "      <td>12807.602039</td>\n",
       "    </tr>\n",
       "    <tr>\n",
       "      <th>South</th>\n",
       "      <td>11190.221963</td>\n",
       "    </tr>\n",
       "    <tr>\n",
       "      <th>West</th>\n",
       "      <td>13972.529257</td>\n",
       "    </tr>\n",
       "  </tbody>\n",
       "</table>\n",
       "</div>"
      ],
      "text/plain": [
       "           claim_amount\n",
       "Region                 \n",
       "Midwest    12460.765550\n",
       "Northeast  12807.602039\n",
       "South      11190.221963\n",
       "West       13972.529257"
      ]
     },
     "execution_count": 143,
     "metadata": {},
     "output_type": "execute_result"
    }
   ],
   "source": [
    "# Rata-rata claim amount berdasarkan incident cause \n",
    "mean_by_region = data_claim.groupby('Region')[['claim_amount']].mean()\n",
    "\n",
    "# Panggil variabel \n",
    "mean_by_region"
   ]
  },
  {
   "cell_type": "code",
   "execution_count": 150,
   "metadata": {},
   "outputs": [
    {
     "name": "stderr",
     "output_type": "stream",
     "text": [
      "C:\\Users\\LENOVO\\AppData\\Local\\Temp\\ipykernel_12004\\3720158227.py:2: FutureWarning: \n",
      "\n",
      "Passing `palette` without assigning `hue` is deprecated and will be removed in v0.14.0. Assign the `y` variable to `hue` and set `legend=False` for the same effect.\n",
      "\n",
      "  sns.barplot(x='claim_amount', y='Region', data=mean_by_region, palette='Blues_d')\n"
     ]
    },
    {
     "data": {
      "text/plain": [
       "Text(0, 0.5, 'Region')"
      ]
     },
     "execution_count": 150,
     "metadata": {},
     "output_type": "execute_result"
    },
    {
     "data": {
      "image/png": "[encoded data removed]",
      "text/plain": [
       "<Figure size 1000x600 with 1 Axes>"
      ]
     },
     "metadata": {},
     "output_type": "display_data"
    }
   ],
   "source": [
    "plt.figure(figsize=(10, 6))\n",
    "sns.barplot(x='claim_amount', y='Region', data=mean_by_region, palette='Blues_d')\n",
    "plt.title('Average Claim Per Region')\n",
    "plt.xlabel('Avg. Claim Amount')\n",
    "plt.ylabel('Region')"
   ]
  },
  {
   "cell_type": "markdown",
   "metadata": {},
   "source": [
    "Dapat dilihat bahwa, rata-rata jumlah klaim asuransi tertinggi pada wilayah West sebesar 13972.53 US Dollar."
   ]
  },
  {
   "cell_type": "markdown",
   "metadata": {},
   "source": [
    "### Berdasarkan ada atau tidaknya tindak kecurangan "
   ]
  },
  {
   "cell_type": "code",
   "execution_count": 176,
   "metadata": {},
   "outputs": [
    {
     "name": "stdout",
     "output_type": "stream",
     "text": [
      "fraudulent   No  Yes\n",
      "gender              \n",
      "Female      406  126\n",
      "Male        432  121\n"
     ]
    }
   ],
   "source": [
    "# Ingin tau berdasarkan jenis kelamin (gender) dan adanya tindakan kecurangan pada data (fraudulent)\n",
    "gender_fraud_counts = pd.crosstab(data_claim['gender'], data_claim['fraudulent'])\n",
    "print(gender_fraud_counts)"
   ]
  },
  {
   "cell_type": "code",
   "execution_count": 181,
   "metadata": {},
   "outputs": [
    {
     "data": {
      "image/png": "[encoded data removed]",
      "text/plain": [
       "<Figure size 640x480 with 1 Axes>"
      ]
     },
     "metadata": {},
     "output_type": "display_data"
    }
   ],
   "source": [
    "#Me-slicing untuk Yes saja \n",
    "yes_counts = gender_fraud_counts['Yes']\n",
    "\n",
    "# Cetak diagramnya \n",
    "yes_counts.plot(kind='bar')\n",
    "plt.xlabel('Gender')\n",
    "plt.ylabel('Count')\n",
    "plt.title('Fraudulent Claims by Gender (Yes only)')\n",
    "plt.show()"
   ]
  },
  {
   "cell_type": "markdown",
   "metadata": {},
   "source": [
    "Dapat dilihat bahwa, berdasarkan jenis kelamin tindakan kecurangan pada data klaim tidak berbeda signifikan antara laki-laki dengan perempuan."
   ]
  },
  {
   "cell_type": "markdown",
   "metadata": {},
   "source": [
    "## Perbedaan jumlah klaim asuransi pada tipe pelanggan dilihat dari jenis kelaminnya"
   ]
  },
  {
   "cell_type": "markdown",
   "metadata": {},
   "source": [
    "Saya ingin mengetahui jika berdasarkan jenis kelamin yaitu laki-laki dan perempuan apakah jumlah klaim asuransinya berbeda. Dalam hal ini saya melakukan uji hipotesis two-sample indepent test. Hal tersebut dikarenakan  uji ini cocok untuk membandingkan dua kelompok yang berbeda, seperti jumlah klaim asuransi di jenis kelamin laki-laki dan perempuan serta dapat membantu menentukan apakah perbedaan rata-rata antara dua kelompok adalah signifikan secara statistik atau hanya terjadi secara kebetulan."
   ]
  },
  {
   "cell_type": "markdown",
   "metadata": {},
   "source": [
    "Dalam hal ini maka terdapat hipotesa yaitu:\n",
    "\n",
    "**H0**: Jumlah klaim asuransi untuk jenis kelamin laki-laki tidak berbeda signifikan dengan perempuan \n",
    "\n",
    "**H1**: Jumlah klaim asuransi untuk jenis kelamin laki-laki berbeda signifikan dengan perempuan "
   ]
  },
  {
   "cell_type": "code",
   "execution_count": 154,
   "metadata": {},
   "outputs": [],
   "source": [
    "# Membuat rangkuman tabel berdasarkan gender\n",
    "male = data_claim[data_claim['gender']=='Male'][['Segment', 'claim_amount']].groupby(['Segment']).mean()\n",
    "female = data_claim[data_claim['gender']=='Female'][['Segment', 'claim_amount']].groupby(['Segment']).mean()"
   ]
  },
  {
   "cell_type": "code",
   "execution_count": 155,
   "metadata": {},
   "outputs": [
    {
     "data": {
      "text/html": [
       "<div>\n",
       "<style scoped>\n",
       "    .dataframe tbody tr th:only-of-type {\n",
       "        vertical-align: middle;\n",
       "    }\n",
       "\n",
       "    .dataframe tbody tr th {\n",
       "        vertical-align: top;\n",
       "    }\n",
       "\n",
       "    .dataframe thead th {\n",
       "        text-align: right;\n",
       "    }\n",
       "</style>\n",
       "<table border=\"1\" class=\"dataframe\">\n",
       "  <thead>\n",
       "    <tr style=\"text-align: right;\">\n",
       "      <th></th>\n",
       "      <th>claim_amount</th>\n",
       "    </tr>\n",
       "    <tr>\n",
       "      <th>Segment</th>\n",
       "      <th></th>\n",
       "    </tr>\n",
       "  </thead>\n",
       "  <tbody>\n",
       "    <tr>\n",
       "      <th>Gold</th>\n",
       "      <td>13287.319289</td>\n",
       "    </tr>\n",
       "    <tr>\n",
       "      <th>Platinum</th>\n",
       "      <td>12561.546770</td>\n",
       "    </tr>\n",
       "    <tr>\n",
       "      <th>Silver</th>\n",
       "      <td>12823.080440</td>\n",
       "    </tr>\n",
       "  </tbody>\n",
       "</table>\n",
       "</div>"
      ],
      "text/plain": [
       "          claim_amount\n",
       "Segment               \n",
       "Gold      13287.319289\n",
       "Platinum  12561.546770\n",
       "Silver    12823.080440"
      ]
     },
     "execution_count": 155,
     "metadata": {},
     "output_type": "execute_result"
    }
   ],
   "source": [
    "# Memanggil tabel male\n",
    "male"
   ]
  },
  {
   "cell_type": "markdown",
   "metadata": {},
   "source": [
    "Tidak terdapat perbedaan yang signifikan pada jumlah klaim oleh pelanggan laki-laki pada setiap segment."
   ]
  },
  {
   "cell_type": "code",
   "execution_count": 156,
   "metadata": {},
   "outputs": [
    {
     "data": {
      "text/html": [
       "<div>\n",
       "<style scoped>\n",
       "    .dataframe tbody tr th:only-of-type {\n",
       "        vertical-align: middle;\n",
       "    }\n",
       "\n",
       "    .dataframe tbody tr th {\n",
       "        vertical-align: top;\n",
       "    }\n",
       "\n",
       "    .dataframe thead th {\n",
       "        text-align: right;\n",
       "    }\n",
       "</style>\n",
       "<table border=\"1\" class=\"dataframe\">\n",
       "  <thead>\n",
       "    <tr style=\"text-align: right;\">\n",
       "      <th></th>\n",
       "      <th>claim_amount</th>\n",
       "    </tr>\n",
       "    <tr>\n",
       "      <th>Segment</th>\n",
       "      <th></th>\n",
       "    </tr>\n",
       "  </thead>\n",
       "  <tbody>\n",
       "    <tr>\n",
       "      <th>Gold</th>\n",
       "      <td>12279.756583</td>\n",
       "    </tr>\n",
       "    <tr>\n",
       "      <th>Platinum</th>\n",
       "      <td>12223.885410</td>\n",
       "    </tr>\n",
       "    <tr>\n",
       "      <th>Silver</th>\n",
       "      <td>11471.878662</td>\n",
       "    </tr>\n",
       "  </tbody>\n",
       "</table>\n",
       "</div>"
      ],
      "text/plain": [
       "          claim_amount\n",
       "Segment               \n",
       "Gold      12279.756583\n",
       "Platinum  12223.885410\n",
       "Silver    11471.878662"
      ]
     },
     "execution_count": 156,
     "metadata": {},
     "output_type": "execute_result"
    }
   ],
   "source": [
    "# Memanggil tabel female\n",
    "female"
   ]
  },
  {
   "cell_type": "markdown",
   "metadata": {},
   "source": [
    "Tidak terdapat perbedaan yang signifikan pada jumlah klaim oleh pelanggan perempuan pada setiap segment."
   ]
  },
  {
   "cell_type": "code",
   "execution_count": 157,
   "metadata": {},
   "outputs": [
    {
     "name": "stdout",
     "output_type": "stream",
     "text": [
      "T-Statistic: 2.6751324080087446\n",
      "P-value: 0.027754388294701653\n"
     ]
    }
   ],
   "source": [
    "# Uji Hipotesis Two-Sample Independent Test\n",
    "t_stat, p_val = stats.ttest_ind(male['claim_amount'], female['claim_amount'])\n",
    "print('T-Statistic:',t_stat)\n",
    "print('P-value:',p_val/2)"
   ]
  },
  {
   "cell_type": "markdown",
   "metadata": {},
   "source": [
    "Uji hipotesis yang digunakan yaitu two-sample indepent test yang mana membandingkan harga produk berdasarkan wilayah. P-Value yang dihasilkan yaitu sebesar 0.02 < 0.05 sehingga dapat disimpulkan bahwa **H0 berhasil ditolak** dan **Terima H1** yang berarti jumlah klaim asuransi untuk jenis kelamin laki-laki berbeda signifikan dengan perempuan."
   ]
  },
  {
   "cell_type": "markdown",
   "metadata": {},
   "source": [
    "# Conclusion"
   ]
  },
  {
   "cell_type": "markdown",
   "metadata": {},
   "source": [
    "## Rekapitulasi "
   ]
  },
  {
   "cell_type": "markdown",
   "metadata": {},
   "source": [
    "### File Data"
   ]
  },
  {
   "cell_type": "markdown",
   "metadata": {},
   "source": [
    "1. Data yang diperoleh disimpan dalam format csv berjudul `claims.csv` dan `cust.csv`\n",
    "2. Data hasil cleaning dan untuk di analisa yaitu `claims_insurance.csv`"
   ]
  },
  {
   "cell_type": "markdown",
   "metadata": {},
   "source": [
    "### Hasil Analisa"
   ]
  },
  {
   "cell_type": "markdown",
   "metadata": {},
   "source": [
    "#### Nilai minimum, maximum, rata-rata, median, modus dari jumlah klaim yang diajukan"
   ]
  },
  {
   "cell_type": "markdown",
   "metadata": {},
   "source": [
    "Dari perhitungan dan grafik yang diperoleh menunjukkan bahwa jumlah klaim asuransi mempunyai nilai minimum sebesar 1000.0 US Dollar, nilai maksimum sebesar 48150.5 US Dollar, dengan selisihnya yaitu 47150.5 US Dollar, rata-rata jumlah klaim yaitu sebesar 12467.68 US Dollar, mediannya 2852.0 US Dollar, dan jumlah klaim yang paling banyak muncul yaitu 12467.68 US Dollar. "
   ]
  },
  {
   "cell_type": "markdown",
   "metadata": {},
   "source": [
    "#### Bulan dengan rata-rata klaim asuransi tertinggi dan terendah"
   ]
  },
  {
   "cell_type": "markdown",
   "metadata": {},
   "source": [
    "Rata-rata jumlah klaim tertinggi ada di bulan desember yaitu sebesar 14514.55 US Dollar sedangkan rata-rata terendah ada di bulan Agustus sebesar 10238.15 US Dollar."
   ]
  },
  {
   "cell_type": "markdown",
   "metadata": {},
   "source": [
    "#### Variabel-variabel yang mempengaruhi jumlah klaim asuransi pada periode 2017-2018"
   ]
  },
  {
   "cell_type": "markdown",
   "metadata": {},
   "source": [
    "Variabel-variabel yang mempengaruhi jumlah klaim asuransi pada tahun 2017-2018 yaitu penyebab terjadinya kecelakaan (incident_cause), ada atau tidaknya laporan kepada pihak kepolisian (police_report) dan tipe klaim (claim_type) hal tersebut dibuktikan dengan hasil uji kolerasi dengan nilai p-value yang dhasilkan < 0,05 dan dilakukan pembuktian selanjutnya menggunakan uji ANOVA dengan hasil ketiganya yaitu **H0 berhasil ditolak** dan **H1 diterima** artinya setidaknya satu rata-rata kelompok pada kolom tersebut berbeda secara signifikan dari yang lain yang mana mempengaruhi besarnya klaim yang diajukan. "
   ]
  },
  {
   "cell_type": "markdown",
   "metadata": {},
   "source": [
    "#### Pelanggan yang paling sering melakukan klaim asuransi"
   ]
  },
  {
   "cell_type": "markdown",
   "metadata": {},
   "source": [
    "Berdasarkan kategori berikut, diperoleh:\n",
    "- Jenis kelamin dan kategori umur: klaim asuransi sebagian besar dilakukan oleh laki-laki dibandingkan perempuan. Mayoritas klaim tersebut dilakukan oleh orang dewasa (adult) yang rentang usianya yaitu 26 s/d 63 tahun. Namun, rata-rata besarnya klaim asuransi yang diajukan lebih banyak yaitu pada laki-laki remaja 15 s/d 25 tahun.\n",
    "- Kota: kota paling banyak melakukan klaim yaitu New York sebesar 31 klaim sedangkan kota yang jumlah klaim asuransinya tertinggi yaitu Montana sebesar 18080 US Dollar.\n",
    "- Wilayah: klaim asuransi sebagian besar dilakukan oleh diwilayah South dengan persentase 32.53% sedangkan rata-rata jumlah klaim asuransi tertinggi pada wilayah West sebesar 13972.53 US Dollar.\n",
    "- Ada atau tidaknya tindakan kecurangan: kecurangan pada data klaim tidak berbeda signifikan antara laki-laki dengan perempuan."
   ]
  },
  {
   "cell_type": "markdown",
   "metadata": {},
   "source": [
    "#### Perbedaan jumlah klaim asuransi pada tipe pelanggan dilihat dari jenis kelaminnya"
   ]
  },
  {
   "cell_type": "markdown",
   "metadata": {},
   "source": [
    "P-Value yang dihasilkan yaitu sebesar 0.02 < 0.05 sehingga dapat disimpulkan bahwa **H0 berhasil ditolak** dan **Terima H1** yang berarti jumlah klaim asuransi untuk jenis kelamin laki-laki berbeda secara signifikan dengan perempuan."
   ]
  },
  {
   "cell_type": "markdown",
   "metadata": {},
   "source": [
    "## Insight "
   ]
  },
  {
   "cell_type": "markdown",
   "metadata": {},
   "source": [
    "#### Nilai minimum, maximum, rata-rata, median, modus dari jumlah klaim yang diajukan"
   ]
  },
  {
   "cell_type": "markdown",
   "metadata": {},
   "source": [
    "Jika dilihat selisih nilai asuransi yang mempunyai rentang yang luas menunjukkan adanya variasi besar dalam jumlah klaim, yang bisa disebabkan oleh perbedaan jenis klaim atau kebijakan yang diambil oleh pemegang polis. Median yang lebih rendah dari rata-rata menguatkan indikasi adanya distribusi yang tidak simetris, dengan beberapa klaim yang sangat besar yang mempengaruhi rata-rata secara signifikan. Mengingat variabilitas klaim yang tinggi, perusahaan asuransi mungkin perlu mengevaluasi kembali struktur premi mereka untuk memastikan bahwa mereka cukup mengkompensasi risiko yang lebih tinggi yang dihadapi."
   ]
  },
  {
   "cell_type": "markdown",
   "metadata": {},
   "source": [
    "#### Bulan dengan rata-rata klaim asuransi tertinggi dan terendah"
   ]
  },
  {
   "cell_type": "markdown",
   "metadata": {},
   "source": [
    "Kemungkinan jumlah klaim meningkat di bulan Desember berkaitan dengan musim liburan atau cuaca ekstrem yang menyebabkan lebih banyak kecelakaan atau kerusakan. Sedangkan penurunan di bulan Agustus mungkin terkait dengan aktivitas atau perilaku tertentu. Hal ini membantu perusahaan untuk mempersiapkan dana yang cukup untuk bulan-bulan dengan klaim tinggi."
   ]
  },
  {
   "cell_type": "markdown",
   "metadata": {},
   "source": [
    "#### Variabel-variabel yang mempengaruhi jumlah klaim asuransi pada periode 2017-2018"
   ]
  },
  {
   "cell_type": "markdown",
   "metadata": {},
   "source": [
    "- Hasil analisa pada variabel penyebab insiden (incident_cause) dapat diartikan bawah dapat dilakukan penyesuaian berdasarkan 2 kategori yang mana kategori 1 diakibatkan \"crime\" dan \"natural causes\" dan kategori 2 disebabkan oleh \"driver error,\" \"other causes,\" dan \"other driver\" yang nantinya besarnya persentase yang akan di cover pihak asuransi dapat disesuaikan berdasarkan kedua kategori tersebut dengan kriteria yang sesuai.\n",
    "- Hasil analisa pada variabel ada atau tidaknya laporan kepada pihak kepolisian (police_report) dapat diartikan kerusakan yang diakibatkan dari kecelakaan yaitu besar dan melibatkan kepolisian sehingga jumlah asuransi yang di klaim juga besar.\n",
    "- Hasil analisa pada variabel tipe klaim (claim_type) dapat diartikan bahwa kedua kategori yaitu 'injury only' dan 'material and injury' kerusakannya cukup parah sehingga klaim yang diajukan lebih tinggi harganya dibanding 'material only'.\n"
   ]
  },
  {
   "cell_type": "markdown",
   "metadata": {},
   "source": [
    "#### Pelanggan yang paling sering melakukan klaim asuransi"
   ]
  },
  {
   "cell_type": "markdown",
   "metadata": {},
   "source": [
    " - Hasil analisa pada tabel kategori umur (agecategory) dapat diartikan bahwa laki-laki dewasa cenderung lebih sering mengajukan klaim, kemungkinan karena mereka lebih sering mengemudi dibandingkan kelompok usia lainnya.Lainnya dengan laki-laki remaja yang mana besarnya klaim lebih tinggi menunjukkan bahwa ketika remaja laki-laki terlibat dalam kecelakaan, kecelakaan tersebut cenderung lebih serius yang menyebabkan klaim dengan nilai yang lebih tinggi. Sehingga perusahaan asuransi dapat lebih menawarkan produk asuransinya kepada laki-laki dengan premi yang lebih tinggi khususnya pada usia remaja.  \n",
    " - Hasil analisa pada tabel kota (state) menunjukkan bahwa perlu dilakukan peningkatan premi pada Kota New York dan Montanna. \n",
    "- Hasil analisa pada tabel wilayah (region) menunjukkan bahwa perlu dilakukan peningkatan premi pada Wilayah East dan West. \n",
    "- Hasil analisa pada tabel adanya tindakan kecurangan dari pemalsuan data (fraudulent) menunjukkan bahwa perusahaan asuransi mungkin perlu mengembangkan mekanisme pengawasan dan verifikasi yang lebih ketat untuk mendeteksi pemalsuan data tanpa memicu diskriminasi berbasis gender."
   ]
  },
  {
   "cell_type": "markdown",
   "metadata": {},
   "source": [
    "#### Perbedaan jumlah klaim asuransi pada tipe pelanggan dilihat dari jenis kelaminnya"
   ]
  },
  {
   "cell_type": "markdown",
   "metadata": {},
   "source": [
    "Hasil hipotesis menunjukkan bahwa perusahaan bisa lebih menawarkan asuransi kepada perempuan karena klaim yang akan diajukan lebih sedikit dibanding laki-laki."
   ]
  },
  {
   "cell_type": "markdown",
   "metadata": {},
   "source": [
    "## Summary "
   ]
  },
  {
   "cell_type": "markdown",
   "metadata": {},
   "source": [
    "Sebagai data analyst yang telah mengidentifkasi faktor-faktor yang mempengaruhi jumlah klaim asuransi yang dilakukan oleh pelanggan selama periode 2017-2018 guna menentukan strategi perusahaan yang optimal sehingga akan terjadi peningkatan sebesar 15% dalam penjualannya dan tentunya meningkatkan profit perusahaan, terdapat beberapa poin yang direkomendasikan: \n",
    "- Perusahaan dapat mempersiapkan dana yang cukup untuk bulan dengan klaim tinggi yaitu desember. \n",
    "- Penawaran asuransi lebih ditargetkan kepada perempuan.\n",
    "- Premi bisa ditingkatkan pada pelanggan laki-laki khususnya usia remaja sebesar 10%, pelanggan yang berada di Kota New York dan Montanna sebesar 5%, dan pelanggan yang berada di wilayah South dan East sebesar 5%. \n",
    "- Penawaran asuransi harus mengoptimalkan penilaian risiko berdasarkan penyebab insiden, meningkatkan efisiensi klaim dengan teknologi, menawarkan produk dan perlindungan yang sesuai dengan kebutuhan pelanggan, serta meningkatkan layanan dan pengalaman pelanggan.\n",
    "- Perusahaan asuransi mungkin perlu mengembangkan mekanisme pengawasan dan verifikasi yang lebih ketat untuk mendeteksi pemalsuan data tanpa memicu diskriminasi berbasis gender."
   ]
  },
  {
   "cell_type": "markdown",
   "metadata": {},
   "source": []
  }
 ],
 "metadata": {
  "kernelspec": {
   "display_name": "Python 3",
   "language": "python",
   "name": "python3"
  },
  "language_info": {
   "codemirror_mode": {
    "name": "ipython",
    "version": 3
   },
   "file_extension": ".py",
   "mimetype": "text/x-python",
   "name": "python",
   "nbconvert_exporter": "python",
   "pygments_lexer": "ipython3",
   "version": "3.12.4"
  }
 },
 "nbformat": 4,
 "nbformat_minor": 2
}
